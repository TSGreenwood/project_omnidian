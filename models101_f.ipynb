{
 "cells": [
  {
   "cell_type": "markdown",
   "metadata": {},
   "source": [
    "### Based on features from Omnidian database 101, we compare K-Nearest Neighbors, Gradient Boosting, Random Forest, Bagging, and Logistic Regression."
   ]
  },
  {
   "cell_type": "code",
   "execution_count": 86,
   "metadata": {},
   "outputs": [
    {
     "name": "stdout",
     "output_type": "stream",
     "text": [
      "Requirement already satisfied: cloudpickle in /Users/humanperson/anaconda3/envs/learn2env/lib/python3.7/site-packages (1.2.1)\r\n"
     ]
    }
   ],
   "source": [
    "!pip install cloudpickle"
   ]
  },
  {
   "cell_type": "code",
   "execution_count": 87,
   "metadata": {},
   "outputs": [],
   "source": [
    "import sklearn\n",
    "from sklearn.tree import DecisionTreeClassifier\n",
    "from sklearn.ensemble import GradientBoostingClassifier, RandomForestClassifier, BaggingClassifier\n",
    "from sklearn.neighbors import KNeighborsClassifier\n",
    "from sklearn.linear_model import LogisticRegression\n",
    "from sklearn.model_selection import train_test_split\n",
    "from sklearn.preprocessing import OneHotEncoder, LabelEncoder\n",
    "from sklearn.metrics import precision_recall_curve, log_loss, roc_curve\n",
    "from sklearn.metrics import classification_report, precision_recall_fscore_support\n",
    "from sklearn import tree\n",
    "import numpy as np\n",
    "import pandas as pd\n",
    "from datetime import datetime\n",
    "import matplotlib.pyplot as plt\n",
    "%matplotlib inline\n",
    "plt.style.use('seaborn-paper')"
   ]
  },
  {
   "cell_type": "code",
   "execution_count": 88,
   "metadata": {},
   "outputs": [],
   "source": [
    "import pickle"
   ]
  },
  {
   "cell_type": "markdown",
   "metadata": {},
   "source": [
    "### Get Data"
   ]
  },
  {
   "cell_type": "code",
   "execution_count": 3,
   "metadata": {},
   "outputs": [],
   "source": [
    "df101_b = pd.read_csv('data/eda101.csv')"
   ]
  },
  {
   "cell_type": "code",
   "execution_count": 4,
   "metadata": {},
   "outputs": [],
   "source": [
    "# df101_b.head()"
   ]
  },
  {
   "cell_type": "code",
   "execution_count": 5,
   "metadata": {},
   "outputs": [
    {
     "name": "stdout",
     "output_type": "stream",
     "text": [
      "<class 'pandas.core.frame.DataFrame'>\n",
      "RangeIndex: 825 entries, 0 to 824\n",
      "Data columns (total 14 columns):\n",
      "Ticket_Id                         825 non-null int64\n",
      "Asset_Id                          825 non-null int64\n",
      "Root_Cause                        825 non-null object\n",
      "Ticket_Creation_Reason            825 non-null object\n",
      "asset_type                        825 non-null object\n",
      "latitude                          825 non-null float64\n",
      "longitude                         825 non-null float64\n",
      "tilt                              825 non-null float64\n",
      "azimuth                           825 non-null float64\n",
      "Ticket_Origin                     825 non-null object\n",
      "Date_Ticket_Initially_Assigned    825 non-null object\n",
      "Date_Ticket_Closed                825 non-null object\n",
      "installed_by                      825 non-null object\n",
      "installation_date                 825 non-null object\n",
      "dtypes: float64(4), int64(2), object(8)\n",
      "memory usage: 90.3+ KB\n"
     ]
    }
   ],
   "source": [
    "df101_b.info()"
   ]
  },
  {
   "cell_type": "markdown",
   "metadata": {},
   "source": [
    "### Let's change everything to lowercase to reduce confusions."
   ]
  },
  {
   "cell_type": "code",
   "execution_count": 6,
   "metadata": {},
   "outputs": [],
   "source": [
    "df101_b.rename(str.lower, axis='columns', inplace=True)"
   ]
  },
  {
   "cell_type": "code",
   "execution_count": 7,
   "metadata": {},
   "outputs": [],
   "source": [
    "df101_b = df101_b.applymap(lambda s:s.lower() if type(s) == str else s)\n"
   ]
  },
  {
   "cell_type": "code",
   "execution_count": 8,
   "metadata": {},
   "outputs": [],
   "source": [
    "# df101_b.head()"
   ]
  },
  {
   "cell_type": "markdown",
   "metadata": {},
   "source": [
    "### Both ticket_id and asset_id need to be strings"
   ]
  },
  {
   "cell_type": "code",
   "execution_count": 9,
   "metadata": {},
   "outputs": [
    {
     "name": "stdout",
     "output_type": "stream",
     "text": [
      "<class 'pandas.core.frame.DataFrame'>\n",
      "RangeIndex: 825 entries, 0 to 824\n",
      "Data columns (total 14 columns):\n",
      "ticket_id                         825 non-null object\n",
      "asset_id                          825 non-null object\n",
      "root_cause                        825 non-null object\n",
      "ticket_creation_reason            825 non-null object\n",
      "asset_type                        825 non-null object\n",
      "latitude                          825 non-null float64\n",
      "longitude                         825 non-null float64\n",
      "tilt                              825 non-null float64\n",
      "azimuth                           825 non-null float64\n",
      "ticket_origin                     825 non-null object\n",
      "date_ticket_initially_assigned    825 non-null object\n",
      "date_ticket_closed                825 non-null object\n",
      "installed_by                      825 non-null object\n",
      "installation_date                 825 non-null object\n",
      "dtypes: float64(4), object(10)\n",
      "memory usage: 90.3+ KB\n"
     ]
    }
   ],
   "source": [
    "df101_b[['ticket_id', 'asset_id']] = df101_b[['ticket_id', 'asset_id']].astype(str)\n",
    "df101_b.info()"
   ]
  },
  {
   "cell_type": "markdown",
   "metadata": {},
   "source": [
    "### Now drop duplicates"
   ]
  },
  {
   "cell_type": "code",
   "execution_count": 10,
   "metadata": {},
   "outputs": [],
   "source": [
    "df101_b.drop_duplicates(inplace=True)"
   ]
  },
  {
   "cell_type": "code",
   "execution_count": 11,
   "metadata": {},
   "outputs": [
    {
     "name": "stdout",
     "output_type": "stream",
     "text": [
      "<class 'pandas.core.frame.DataFrame'>\n",
      "Int64Index: 638 entries, 0 to 823\n",
      "Data columns (total 14 columns):\n",
      "ticket_id                         638 non-null object\n",
      "asset_id                          638 non-null object\n",
      "root_cause                        638 non-null object\n",
      "ticket_creation_reason            638 non-null object\n",
      "asset_type                        638 non-null object\n",
      "latitude                          638 non-null float64\n",
      "longitude                         638 non-null float64\n",
      "tilt                              638 non-null float64\n",
      "azimuth                           638 non-null float64\n",
      "ticket_origin                     638 non-null object\n",
      "date_ticket_initially_assigned    638 non-null object\n",
      "date_ticket_closed                638 non-null object\n",
      "installed_by                      638 non-null object\n",
      "installation_date                 638 non-null object\n",
      "dtypes: float64(4), object(10)\n",
      "memory usage: 74.8+ KB\n"
     ]
    }
   ],
   "source": [
    "df101_b.info()"
   ]
  },
  {
   "cell_type": "code",
   "execution_count": 12,
   "metadata": {
    "scrolled": false
   },
   "outputs": [
    {
     "data": {
      "text/plain": [
       "ticket_id                         False\n",
       "asset_id                          False\n",
       "root_cause                        False\n",
       "ticket_creation_reason            False\n",
       "asset_type                        False\n",
       "latitude                          False\n",
       "longitude                         False\n",
       "tilt                              False\n",
       "azimuth                           False\n",
       "ticket_origin                     False\n",
       "date_ticket_initially_assigned    False\n",
       "date_ticket_closed                False\n",
       "installed_by                      False\n",
       "installation_date                 False\n",
       "dtype: bool"
      ]
     },
     "execution_count": 12,
     "metadata": {},
     "output_type": "execute_result"
    }
   ],
   "source": [
    "df101_b.isnull().any()"
   ]
  },
  {
   "cell_type": "markdown",
   "metadata": {},
   "source": [
    "## Because we have an inbalanced class distribution, we'll need to vectorize all our features befor splitting. We'll use LabelEncoder for our target column, then we'll one-hot-encode the rest of the categorical features."
   ]
  },
  {
   "cell_type": "code",
   "execution_count": 13,
   "metadata": {},
   "outputs": [],
   "source": [
    "y = df101_b['root_cause'].copy()"
   ]
  },
  {
   "cell_type": "code",
   "execution_count": 72,
   "metadata": {
    "scrolled": true
   },
   "outputs": [
    {
     "data": {
      "text/plain": [
       "['root_cause_normal_wear_and_tear',\n",
       " 'root_cause_normal_wear_and_tear',\n",
       " 'root_cause_normal_wear_and_tear',\n",
       " 'root_cause_normal_wear_and_tear',\n",
       " 'root_cause_normal_wear_and_tear',\n",
       " 'root_cause_normal_wear_and_tear',\n",
       " 'root_cause_normal_wear_and_tear',\n",
       " 'root_cause_normal_wear_and_tear',\n",
       " 'root_cause_normal_wear_and_tear',\n",
       " 'root_cause_normal_wear_and_tear',\n",
       " 'root_cause_normal_wear_and_tear',\n",
       " 'root_cause_major_component_failure_warranty',\n",
       " 'root_cause_normal_wear_and_tear',\n",
       " 'root_cause_non-service_support',\n",
       " 'root_cause_roof_issue',\n",
       " 'root_cause_major_component_failure_warranty',\n",
       " 'root_cause_major_component_failure_warranty',\n",
       " 'root_cause_normal_wear_and_tear',\n",
       " 'root_cause_normal_wear_and_tear',\n",
       " 'root_cause_non-service_support',\n",
       " 'root_cause_non-service_support',\n",
       " 'root_cause_design/sale_issue',\n",
       " 'root_cause_design/sale_issue',\n",
       " 'root_cause_normal_wear_and_tear',\n",
       " 'root_cause_normal_wear_and_tear',\n",
       " 'root_cause_normal_wear_and_tear',\n",
       " 'root_cause_normal_wear_and_tear',\n",
       " 'root_cause_normal_wear_and_tear',\n",
       " 'root_cause_major_component_failure_warranty',\n",
       " 'root_cause_major_component_failure_warranty',\n",
       " 'root_cause_major_component_failure_warranty',\n",
       " 'root_cause_normal_wear_and_tear',\n",
       " 'root_cause_normal_wear_and_tear',\n",
       " 'root_cause_normal_wear_and_tear',\n",
       " 'root_cause_normal_wear_and_tear',\n",
       " 'root_cause_normal_wear_and_tear',\n",
       " 'root_cause_normal_wear_and_tear',\n",
       " 'root_cause_normal_wear_and_tear',\n",
       " 'root_cause_normal_wear_and_tear',\n",
       " 'root_cause_roof_issue',\n",
       " 'root_cause_normal_wear_and_tear',\n",
       " 'root_cause_normal_wear_and_tear',\n",
       " 'root_cause_normal_wear_and_tear',\n",
       " 'root_cause_major_component_failure_warranty',\n",
       " 'root_cause_normal_wear_and_tear',\n",
       " 'root_cause_normal_wear_and_tear',\n",
       " 'root_cause_major_component_failure_warranty',\n",
       " 'root_cause_normal_wear_and_tear',\n",
       " 'root_cause_normal_wear_and_tear',\n",
       " 'root_cause_major_component_failure_warranty',\n",
       " 'root_cause_normal_wear_and_tear',\n",
       " 'root_cause_normal_wear_and_tear',\n",
       " 'root_cause_major_component_failure_warranty',\n",
       " 'root_cause_non-service_support',\n",
       " 'root_cause_normal_wear_and_tear',\n",
       " 'root_cause_non-service_support',\n",
       " 'root_cause_non-service_support',\n",
       " 'root_cause_major_component_failure_warranty',\n",
       " 'root_cause_major_component_failure_warranty',\n",
       " 'root_cause_normal_wear_and_tear',\n",
       " 'root_cause_normal_wear_and_tear',\n",
       " 'root_cause_normal_wear_and_tear',\n",
       " 'root_cause_normal_wear_and_tear',\n",
       " 'root_cause_homeowner',\n",
       " 'root_cause_normal_wear_and_tear',\n",
       " 'root_cause_major_component_failure_warranty',\n",
       " 'root_cause_normal_wear_and_tear',\n",
       " 'root_cause_major_component_failure_warranty',\n",
       " 'root_cause_major_component_failure_warranty',\n",
       " 'root_cause_installer_workmanship',\n",
       " 'root_cause_installer_workmanship',\n",
       " 'root_cause_installer_workmanship',\n",
       " 'root_cause_normal_wear_and_tear',\n",
       " 'root_cause_non-service_support',\n",
       " 'root_cause_non-service_support',\n",
       " 'root_cause_major_component_failure_warranty',\n",
       " 'root_cause_normal_wear_and_tear',\n",
       " 'root_cause_normal_wear_and_tear',\n",
       " 'root_cause_normal_wear_and_tear',\n",
       " 'root_cause_normal_wear_and_tear',\n",
       " 'root_cause_normal_wear_and_tear',\n",
       " 'root_cause_normal_wear_and_tear',\n",
       " 'root_cause_normal_wear_and_tear',\n",
       " 'root_cause_major_component_failure_warranty',\n",
       " 'root_cause_normal_wear_and_tear',\n",
       " 'root_cause_normal_wear_and_tear',\n",
       " 'root_cause_roof_issue',\n",
       " 'root_cause_roof_issue',\n",
       " 'root_cause_major_component_failure_warranty',\n",
       " 'root_cause_normal_wear_and_tear',\n",
       " 'root_cause_normal_wear_and_tear',\n",
       " 'root_cause_normal_wear_and_tear',\n",
       " 'root_cause_major_component_failure_warranty',\n",
       " 'root_cause_non-service_support',\n",
       " 'root_cause_normal_wear_and_tear',\n",
       " 'root_cause_normal_wear_and_tear',\n",
       " 'root_cause_normal_wear_and_tear',\n",
       " 'root_cause_normal_wear_and_tear',\n",
       " 'root_cause_normal_wear_and_tear',\n",
       " 'root_cause_major_component_failure_warranty',\n",
       " 'root_cause_normal_wear_and_tear',\n",
       " 'root_cause_normal_wear_and_tear',\n",
       " 'root_cause_normal_wear_and_tear',\n",
       " 'root_cause_normal_wear_and_tear',\n",
       " 'root_cause_normal_wear_and_tear',\n",
       " 'root_cause_normal_wear_and_tear',\n",
       " 'root_cause_normal_wear_and_tear',\n",
       " 'root_cause_major_component_failure_warranty',\n",
       " 'root_cause_normal_wear_and_tear',\n",
       " 'root_cause_normal_wear_and_tear',\n",
       " 'root_cause_major_component_failure_warranty',\n",
       " 'root_cause_major_component_failure_warranty',\n",
       " 'root_cause_normal_wear_and_tear',\n",
       " 'root_cause_normal_wear_and_tear',\n",
       " 'root_cause_normal_wear_and_tear',\n",
       " 'root_cause_major_component_failure_warranty',\n",
       " 'root_cause_major_component_failure_warranty',\n",
       " 'root_cause_homeowner',\n",
       " 'root_cause_normal_wear_and_tear',\n",
       " 'root_cause_non-service_support',\n",
       " 'root_cause_non-service_support',\n",
       " 'root_cause_non-service_support',\n",
       " 'root_cause_major_component_failure_warranty',\n",
       " 'root_cause_major_component_failure_warranty',\n",
       " 'root_cause_non-service_support',\n",
       " 'root_cause_normal_wear_and_tear',\n",
       " 'root_cause_major_component_failure_non-warranty',\n",
       " 'root_cause_major_component_failure_non-warranty',\n",
       " 'root_cause_non-service_support',\n",
       " 'root_cause_normal_wear_and_tear',\n",
       " 'root_cause_major_component_failure_warranty',\n",
       " 'root_cause_major_component_failure_warranty',\n",
       " 'root_cause_major_component_failure_warranty',\n",
       " 'root_cause_major_component_failure_warranty',\n",
       " 'root_cause_major_component_failure_warranty',\n",
       " 'root_cause_homeowner',\n",
       " 'root_cause_normal_wear_and_tear',\n",
       " 'root_cause_non-service_support',\n",
       " 'root_cause_major_component_failure_warranty',\n",
       " 'root_cause_non-service_support',\n",
       " 'root_cause_non-service_support',\n",
       " 'root_cause_non-service_support',\n",
       " 'root_cause_normal_wear_and_tear',\n",
       " 'root_cause_normal_wear_and_tear',\n",
       " 'root_cause_major_component_failure_warranty',\n",
       " 'root_cause_service_workmanship',\n",
       " 'root_cause_service_workmanship',\n",
       " 'root_cause_normal_wear_and_tear',\n",
       " 'root_cause_normal_wear_and_tear',\n",
       " 'root_cause_major_component_failure_warranty',\n",
       " 'root_cause_major_component_failure_warranty',\n",
       " 'root_cause_normal_wear_and_tear',\n",
       " 'root_cause_environmental',\n",
       " 'root_cause_major_component_failure_warranty',\n",
       " 'root_cause_normal_wear_and_tear',\n",
       " 'root_cause_normal_wear_and_tear',\n",
       " 'root_cause_major_component_failure_warranty',\n",
       " 'root_cause_homeowner',\n",
       " 'root_cause_normal_wear_and_tear',\n",
       " 'root_cause_non-service_support',\n",
       " 'root_cause_normal_wear_and_tear',\n",
       " 'root_cause_non-service_support',\n",
       " 'root_cause_non-service_support',\n",
       " 'root_cause_normal_wear_and_tear',\n",
       " 'root_cause_normal_wear_and_tear',\n",
       " 'root_cause_non-service_support',\n",
       " 'root_cause_normal_wear_and_tear',\n",
       " 'root_cause_normal_wear_and_tear',\n",
       " 'root_cause_normal_wear_and_tear',\n",
       " 'root_cause_normal_wear_and_tear',\n",
       " 'root_cause_major_component_failure_warranty',\n",
       " 'root_cause_normal_wear_and_tear',\n",
       " 'root_cause_normal_wear_and_tear',\n",
       " 'root_cause_major_component_failure_warranty',\n",
       " 'root_cause_normal_wear_and_tear',\n",
       " 'root_cause_homeowner',\n",
       " 'root_cause_major_component_failure_warranty',\n",
       " 'root_cause_major_component_failure_warranty',\n",
       " 'root_cause_major_component_failure_warranty',\n",
       " 'root_cause_major_component_failure_warranty',\n",
       " 'root_cause_non-service_support',\n",
       " 'root_cause_non-service_support',\n",
       " 'root_cause_normal_wear_and_tear',\n",
       " 'root_cause_normal_wear_and_tear',\n",
       " 'root_cause_major_component_failure_warranty',\n",
       " 'root_cause_normal_wear_and_tear',\n",
       " 'root_cause_major_component_failure_warranty',\n",
       " 'root_cause_major_component_failure_warranty',\n",
       " 'root_cause_major_component_failure_warranty',\n",
       " 'root_cause_non-service_support',\n",
       " 'root_cause_non-service_support',\n",
       " 'root_cause_non-service_support',\n",
       " 'root_cause_non-service_support',\n",
       " 'root_cause_non-service_support',\n",
       " 'root_cause_non-service_support',\n",
       " 'root_cause_normal_wear_and_tear',\n",
       " 'root_cause_normal_wear_and_tear',\n",
       " 'root_cause_non-service_support',\n",
       " 'root_cause_normal_wear_and_tear',\n",
       " 'root_cause_installer_workmanship',\n",
       " 'root_cause_major_component_failure_warranty',\n",
       " 'root_cause_normal_wear_and_tear',\n",
       " 'root_cause_major_component_failure_warranty',\n",
       " 'root_cause_major_component_failure_warranty',\n",
       " 'root_cause_major_component_failure_warranty',\n",
       " 'root_cause_major_component_failure_warranty',\n",
       " 'root_cause_normal_wear_and_tear',\n",
       " 'root_cause_normal_wear_and_tear',\n",
       " 'root_cause_normal_wear_and_tear',\n",
       " 'root_cause_normal_wear_and_tear',\n",
       " 'root_cause_normal_wear_and_tear',\n",
       " 'root_cause_normal_wear_and_tear',\n",
       " 'root_cause_normal_wear_and_tear',\n",
       " 'root_cause_normal_wear_and_tear',\n",
       " 'root_cause_normal_wear_and_tear',\n",
       " 'root_cause_normal_wear_and_tear',\n",
       " 'root_cause_normal_wear_and_tear',\n",
       " 'root_cause_normal_wear_and_tear',\n",
       " 'root_cause_normal_wear_and_tear',\n",
       " 'root_cause_normal_wear_and_tear',\n",
       " 'root_cause_homeowner',\n",
       " 'root_cause_normal_wear_and_tear',\n",
       " 'root_cause_service_workmanship',\n",
       " 'root_cause_major_component_failure_warranty',\n",
       " 'root_cause_normal_wear_and_tear',\n",
       " 'root_cause_major_component_failure_warranty',\n",
       " 'root_cause_homeowner',\n",
       " 'root_cause_major_component_failure_warranty',\n",
       " 'root_cause_installer_workmanship',\n",
       " 'root_cause_normal_wear_and_tear',\n",
       " 'root_cause_normal_wear_and_tear',\n",
       " 'root_cause_homeowner',\n",
       " 'root_cause_normal_wear_and_tear',\n",
       " 'root_cause_normal_wear_and_tear',\n",
       " 'root_cause_normal_wear_and_tear',\n",
       " 'root_cause_major_component_failure_non-warranty',\n",
       " 'root_cause_normal_wear_and_tear',\n",
       " 'root_cause_normal_wear_and_tear',\n",
       " 'root_cause_normal_wear_and_tear',\n",
       " 'root_cause_normal_wear_and_tear',\n",
       " 'root_cause_normal_wear_and_tear',\n",
       " 'root_cause_installer_workmanship',\n",
       " 'root_cause_normal_wear_and_tear',\n",
       " 'root_cause_major_component_failure_warranty',\n",
       " 'root_cause_homeowner',\n",
       " 'root_cause_normal_wear_and_tear',\n",
       " 'root_cause_normal_wear_and_tear',\n",
       " 'root_cause_normal_wear_and_tear',\n",
       " 'root_cause_normal_wear_and_tear',\n",
       " 'root_cause_major_component_failure_warranty',\n",
       " 'root_cause_normal_wear_and_tear',\n",
       " 'root_cause_normal_wear_and_tear',\n",
       " 'root_cause_normal_wear_and_tear',\n",
       " 'root_cause_normal_wear_and_tear',\n",
       " 'root_cause_normal_wear_and_tear',\n",
       " 'root_cause_homeowner',\n",
       " 'root_cause_homeowner',\n",
       " 'root_cause_environmental',\n",
       " 'root_cause_major_component_failure_warranty',\n",
       " 'root_cause_normal_wear_and_tear',\n",
       " 'root_cause_environmental',\n",
       " 'root_cause_normal_wear_and_tear',\n",
       " 'root_cause_normal_wear_and_tear',\n",
       " 'root_cause_major_component_failure_warranty',\n",
       " 'root_cause_normal_wear_and_tear',\n",
       " 'root_cause_homeowner',\n",
       " 'root_cause_homeowner',\n",
       " 'root_cause_normal_wear_and_tear',\n",
       " 'root_cause_normal_wear_and_tear',\n",
       " 'root_cause_major_component_failure_warranty',\n",
       " 'root_cause_major_component_failure_non-warranty',\n",
       " 'root_cause_major_component_failure_non-warranty',\n",
       " 'root_cause_major_component_failure_non-warranty',\n",
       " 'root_cause_major_component_failure_warranty',\n",
       " 'root_cause_normal_wear_and_tear',\n",
       " 'root_cause_normal_wear_and_tear',\n",
       " 'root_cause_homeowner',\n",
       " 'root_cause_installer_workmanship',\n",
       " 'root_cause_installer_workmanship',\n",
       " 'root_cause_installer_workmanship',\n",
       " 'root_cause_installer_workmanship',\n",
       " 'root_cause_major_component_failure_warranty',\n",
       " 'root_cause_major_component_failure_warranty',\n",
       " 'root_cause_environmental',\n",
       " 'root_cause_normal_wear_and_tear',\n",
       " 'root_cause_normal_wear_and_tear',\n",
       " 'root_cause_major_component_failure_warranty',\n",
       " 'root_cause_major_component_failure_warranty',\n",
       " 'root_cause_normal_wear_and_tear',\n",
       " 'root_cause_normal_wear_and_tear',\n",
       " 'root_cause_major_component_failure_warranty',\n",
       " 'root_cause_normal_wear_and_tear',\n",
       " 'root_cause_normal_wear_and_tear',\n",
       " 'root_cause_normal_wear_and_tear',\n",
       " 'root_cause_normal_wear_and_tear',\n",
       " 'root_cause_normal_wear_and_tear',\n",
       " 'root_cause_normal_wear_and_tear',\n",
       " 'root_cause_normal_wear_and_tear',\n",
       " 'root_cause_normal_wear_and_tear',\n",
       " 'root_cause_normal_wear_and_tear',\n",
       " 'root_cause_normal_wear_and_tear',\n",
       " 'root_cause_normal_wear_and_tear',\n",
       " 'root_cause_normal_wear_and_tear',\n",
       " 'root_cause_normal_wear_and_tear',\n",
       " 'root_cause_normal_wear_and_tear',\n",
       " 'root_cause_normal_wear_and_tear',\n",
       " 'root_cause_normal_wear_and_tear',\n",
       " 'root_cause_major_component_failure_warranty',\n",
       " 'root_cause_homeowner',\n",
       " 'root_cause_major_component_failure_warranty',\n",
       " 'root_cause_major_component_failure_non-warranty',\n",
       " 'root_cause_major_component_failure_non-warranty',\n",
       " 'root_cause_major_component_failure_non-warranty',\n",
       " 'root_cause_normal_wear_and_tear',\n",
       " 'root_cause_normal_wear_and_tear',\n",
       " 'root_cause_normal_wear_and_tear',\n",
       " 'root_cause_normal_wear_and_tear',\n",
       " 'root_cause_normal_wear_and_tear',\n",
       " 'root_cause_normal_wear_and_tear',\n",
       " 'root_cause_normal_wear_and_tear',\n",
       " 'root_cause_major_component_failure_warranty',\n",
       " 'root_cause_major_component_failure_warranty',\n",
       " 'root_cause_normal_wear_and_tear',\n",
       " 'root_cause_major_component_failure_warranty',\n",
       " 'root_cause_major_component_failure_warranty',\n",
       " 'root_cause_non-service_support',\n",
       " 'root_cause_normal_wear_and_tear',\n",
       " 'root_cause_normal_wear_and_tear',\n",
       " 'root_cause_non-service_support',\n",
       " 'root_cause_non-service_support',\n",
       " 'root_cause_major_component_failure_warranty',\n",
       " 'root_cause_major_component_failure_warranty',\n",
       " 'root_cause_normal_wear_and_tear',\n",
       " 'root_cause_normal_wear_and_tear',\n",
       " 'root_cause_normal_wear_and_tear',\n",
       " 'root_cause_major_component_failure_warranty',\n",
       " 'root_cause_normal_wear_and_tear',\n",
       " 'root_cause_major_component_failure_warranty',\n",
       " 'root_cause_normal_wear_and_tear',\n",
       " 'root_cause_normal_wear_and_tear',\n",
       " 'root_cause_major_component_failure_warranty',\n",
       " 'root_cause_major_component_failure_warranty',\n",
       " 'root_cause_normal_wear_and_tear',\n",
       " 'root_cause_normal_wear_and_tear',\n",
       " 'root_cause_normal_wear_and_tear',\n",
       " 'root_cause_normal_wear_and_tear',\n",
       " 'root_cause_non-service_support',\n",
       " 'root_cause_non-service_support',\n",
       " 'root_cause_major_component_failure_warranty',\n",
       " 'root_cause_major_component_failure_warranty',\n",
       " 'root_cause_normal_wear_and_tear',\n",
       " 'root_cause_normal_wear_and_tear',\n",
       " 'root_cause_normal_wear_and_tear',\n",
       " 'root_cause_non-service_support',\n",
       " 'root_cause_normal_wear_and_tear',\n",
       " 'root_cause_normal_wear_and_tear',\n",
       " 'root_cause_normal_wear_and_tear',\n",
       " 'root_cause_roof_issue',\n",
       " 'root_cause_roof_issue',\n",
       " 'root_cause_normal_wear_and_tear',\n",
       " 'root_cause_normal_wear_and_tear',\n",
       " 'root_cause_normal_wear_and_tear',\n",
       " 'root_cause_normal_wear_and_tear',\n",
       " 'root_cause_normal_wear_and_tear',\n",
       " 'root_cause_normal_wear_and_tear',\n",
       " 'root_cause_normal_wear_and_tear',\n",
       " 'root_cause_normal_wear_and_tear',\n",
       " 'root_cause_normal_wear_and_tear',\n",
       " 'root_cause_major_component_failure_warranty',\n",
       " 'root_cause_environmental',\n",
       " 'root_cause_normal_wear_and_tear',\n",
       " 'root_cause_normal_wear_and_tear',\n",
       " 'root_cause_normal_wear_and_tear',\n",
       " 'root_cause_normal_wear_and_tear',\n",
       " 'root_cause_roof_issue',\n",
       " 'root_cause_roof_issue',\n",
       " 'root_cause_major_component_failure_warranty',\n",
       " 'root_cause_major_component_failure_warranty',\n",
       " 'root_cause_environmental',\n",
       " 'root_cause_environmental',\n",
       " 'root_cause_major_component_failure_warranty',\n",
       " 'root_cause_major_component_failure_warranty',\n",
       " 'root_cause_major_component_failure_warranty',\n",
       " 'root_cause_major_component_failure_warranty',\n",
       " 'root_cause_major_component_failure_warranty',\n",
       " 'root_cause_normal_wear_and_tear',\n",
       " 'root_cause_normal_wear_and_tear',\n",
       " 'root_cause_normal_wear_and_tear',\n",
       " 'root_cause_normal_wear_and_tear',\n",
       " 'root_cause_normal_wear_and_tear',\n",
       " 'root_cause_normal_wear_and_tear',\n",
       " 'root_cause_normal_wear_and_tear',\n",
       " 'root_cause_normal_wear_and_tear',\n",
       " 'root_cause_normal_wear_and_tear',\n",
       " 'root_cause_homeowner',\n",
       " 'root_cause_homeowner',\n",
       " 'root_cause_major_component_failure_warranty',\n",
       " 'root_cause_major_component_failure_warranty',\n",
       " 'root_cause_major_component_failure_warranty',\n",
       " 'root_cause_environmental',\n",
       " 'root_cause_major_component_failure_warranty',\n",
       " 'root_cause_normal_wear_and_tear',\n",
       " 'root_cause_normal_wear_and_tear',\n",
       " 'root_cause_major_component_failure_warranty',\n",
       " 'root_cause_non-service_support',\n",
       " 'root_cause_normal_wear_and_tear',\n",
       " 'root_cause_installer_workmanship',\n",
       " 'root_cause_installer_workmanship',\n",
       " 'root_cause_normal_wear_and_tear',\n",
       " 'root_cause_normal_wear_and_tear',\n",
       " 'root_cause_normal_wear_and_tear',\n",
       " 'root_cause_major_component_failure_warranty',\n",
       " 'root_cause_normal_wear_and_tear',\n",
       " 'root_cause_installer_workmanship',\n",
       " 'root_cause_non-service_support',\n",
       " 'root_cause_non-service_support',\n",
       " 'root_cause_non-service_support',\n",
       " 'root_cause_normal_wear_and_tear',\n",
       " 'root_cause_normal_wear_and_tear',\n",
       " 'root_cause_normal_wear_and_tear',\n",
       " 'root_cause_normal_wear_and_tear',\n",
       " 'root_cause_normal_wear_and_tear',\n",
       " 'root_cause_normal_wear_and_tear',\n",
       " 'root_cause_normal_wear_and_tear',\n",
       " 'root_cause_major_component_failure_non-warranty',\n",
       " 'root_cause_major_component_failure_non-warranty',\n",
       " 'root_cause_normal_wear_and_tear',\n",
       " 'root_cause_normal_wear_and_tear',\n",
       " 'root_cause_normal_wear_and_tear',\n",
       " 'root_cause_normal_wear_and_tear',\n",
       " 'root_cause_normal_wear_and_tear',\n",
       " 'root_cause_normal_wear_and_tear',\n",
       " 'root_cause_normal_wear_and_tear',\n",
       " 'root_cause_installer_workmanship',\n",
       " 'root_cause_major_component_failure_warranty',\n",
       " 'root_cause_normal_wear_and_tear',\n",
       " 'root_cause_major_component_failure_warranty',\n",
       " 'root_cause_normal_wear_and_tear',\n",
       " 'root_cause_installer_workmanship',\n",
       " 'root_cause_installer_workmanship',\n",
       " 'root_cause_installer_workmanship',\n",
       " 'root_cause_major_component_failure_warranty',\n",
       " 'root_cause_major_component_failure_warranty',\n",
       " 'root_cause_normal_wear_and_tear',\n",
       " 'root_cause_normal_wear_and_tear',\n",
       " 'root_cause_normal_wear_and_tear',\n",
       " 'root_cause_normal_wear_and_tear',\n",
       " 'root_cause_normal_wear_and_tear',\n",
       " 'root_cause_normal_wear_and_tear',\n",
       " 'root_cause_environmental',\n",
       " 'root_cause_normal_wear_and_tear',\n",
       " 'root_cause_normal_wear_and_tear',\n",
       " 'root_cause_normal_wear_and_tear',\n",
       " 'root_cause_normal_wear_and_tear',\n",
       " 'root_cause_normal_wear_and_tear',\n",
       " 'root_cause_non-service_support',\n",
       " 'root_cause_non-service_support',\n",
       " 'root_cause_non-service_support',\n",
       " 'root_cause_major_component_failure_non-warranty',\n",
       " 'root_cause_installer_workmanship',\n",
       " 'root_cause_environmental',\n",
       " 'root_cause_normal_wear_and_tear',\n",
       " 'root_cause_normal_wear_and_tear',\n",
       " 'root_cause_normal_wear_and_tear',\n",
       " 'root_cause_normal_wear_and_tear',\n",
       " 'root_cause_normal_wear_and_tear',\n",
       " 'root_cause_normal_wear_and_tear',\n",
       " 'root_cause_normal_wear_and_tear',\n",
       " 'root_cause_normal_wear_and_tear',\n",
       " 'root_cause_major_component_failure_warranty',\n",
       " 'root_cause_major_component_failure_warranty',\n",
       " 'root_cause_non-service_support',\n",
       " 'root_cause_major_component_failure_warranty',\n",
       " 'root_cause_normal_wear_and_tear',\n",
       " 'root_cause_environmental',\n",
       " 'root_cause_installer_workmanship',\n",
       " 'root_cause_installer_workmanship',\n",
       " 'root_cause_roof_issue',\n",
       " 'root_cause_roof_issue',\n",
       " 'root_cause_normal_wear_and_tear',\n",
       " 'root_cause_normal_wear_and_tear',\n",
       " 'root_cause_roof_issue',\n",
       " 'root_cause_major_component_failure_warranty',\n",
       " 'root_cause_major_component_failure_warranty',\n",
       " 'root_cause_major_component_failure_warranty',\n",
       " 'root_cause_normal_wear_and_tear',\n",
       " 'root_cause_normal_wear_and_tear',\n",
       " 'root_cause_normal_wear_and_tear',\n",
       " 'root_cause_installer_workmanship',\n",
       " 'root_cause_major_component_failure_warranty',\n",
       " 'root_cause_installer_workmanship',\n",
       " 'root_cause_installer_workmanship',\n",
       " 'root_cause_installer_workmanship',\n",
       " 'root_cause_major_component_failure_warranty',\n",
       " 'root_cause_normal_wear_and_tear',\n",
       " 'root_cause_roof_issue',\n",
       " 'root_cause_normal_wear_and_tear',\n",
       " 'root_cause_normal_wear_and_tear',\n",
       " 'root_cause_normal_wear_and_tear',\n",
       " 'root_cause_homeowner',\n",
       " 'root_cause_installer_workmanship',\n",
       " 'root_cause_normal_wear_and_tear',\n",
       " 'root_cause_normal_wear_and_tear',\n",
       " 'root_cause_normal_wear_and_tear',\n",
       " 'root_cause_major_component_failure_warranty',\n",
       " 'root_cause_major_component_failure_non-warranty',\n",
       " 'root_cause_normal_wear_and_tear',\n",
       " 'root_cause_homeowner',\n",
       " 'root_cause_homeowner',\n",
       " 'root_cause_normal_wear_and_tear',\n",
       " 'root_cause_normal_wear_and_tear',\n",
       " 'root_cause_normal_wear_and_tear',\n",
       " 'root_cause_normal_wear_and_tear',\n",
       " 'root_cause_non-service_support',\n",
       " 'root_cause_non-service_support',\n",
       " 'root_cause_normal_wear_and_tear',\n",
       " 'root_cause_roof_issue',\n",
       " 'root_cause_normal_wear_and_tear',\n",
       " 'root_cause_installer_workmanship',\n",
       " 'root_cause_homeowner',\n",
       " 'root_cause_homeowner',\n",
       " 'root_cause_normal_wear_and_tear',\n",
       " 'root_cause_normal_wear_and_tear',\n",
       " 'root_cause_normal_wear_and_tear',\n",
       " 'root_cause_normal_wear_and_tear',\n",
       " 'root_cause_major_component_failure_warranty',\n",
       " 'root_cause_homeowner',\n",
       " 'root_cause_normal_wear_and_tear',\n",
       " 'root_cause_major_component_failure_warranty',\n",
       " 'root_cause_normal_wear_and_tear',\n",
       " 'root_cause_normal_wear_and_tear',\n",
       " 'root_cause_major_component_failure_warranty',\n",
       " 'root_cause_major_component_failure_warranty',\n",
       " 'root_cause_service_workmanship',\n",
       " 'root_cause_non-service_support',\n",
       " 'root_cause_non-service_support',\n",
       " 'root_cause_major_component_failure_warranty',\n",
       " 'root_cause_homeowner',\n",
       " 'root_cause_normal_wear_and_tear',\n",
       " 'root_cause_normal_wear_and_tear',\n",
       " 'root_cause_normal_wear_and_tear',\n",
       " 'root_cause_homeowner',\n",
       " 'root_cause_non-service_support',\n",
       " 'root_cause_major_component_failure_warranty',\n",
       " 'root_cause_normal_wear_and_tear',\n",
       " 'root_cause_normal_wear_and_tear',\n",
       " 'root_cause_normal_wear_and_tear',\n",
       " 'root_cause_normal_wear_and_tear',\n",
       " 'root_cause_normal_wear_and_tear',\n",
       " 'root_cause_normal_wear_and_tear',\n",
       " 'root_cause_normal_wear_and_tear',\n",
       " 'root_cause_normal_wear_and_tear',\n",
       " 'root_cause_normal_wear_and_tear',\n",
       " 'root_cause_normal_wear_and_tear',\n",
       " 'root_cause_normal_wear_and_tear',\n",
       " 'root_cause_normal_wear_and_tear',\n",
       " 'root_cause_normal_wear_and_tear',\n",
       " 'root_cause_normal_wear_and_tear',\n",
       " 'root_cause_normal_wear_and_tear',\n",
       " 'root_cause_normal_wear_and_tear',\n",
       " 'root_cause_normal_wear_and_tear',\n",
       " 'root_cause_major_component_failure_warranty',\n",
       " 'root_cause_major_component_failure_warranty',\n",
       " 'root_cause_major_component_failure_warranty',\n",
       " 'root_cause_normal_wear_and_tear',\n",
       " 'root_cause_normal_wear_and_tear',\n",
       " 'root_cause_major_component_failure_warranty',\n",
       " 'root_cause_normal_wear_and_tear',\n",
       " 'root_cause_normal_wear_and_tear',\n",
       " 'root_cause_normal_wear_and_tear',\n",
       " 'root_cause_non-service_support',\n",
       " 'root_cause_non-service_support',\n",
       " 'root_cause_major_component_failure_warranty',\n",
       " 'root_cause_major_component_failure_warranty',\n",
       " 'root_cause_normal_wear_and_tear',\n",
       " 'root_cause_normal_wear_and_tear',\n",
       " 'root_cause_normal_wear_and_tear',\n",
       " 'root_cause_normal_wear_and_tear',\n",
       " 'root_cause_normal_wear_and_tear',\n",
       " 'root_cause_normal_wear_and_tear',\n",
       " 'root_cause_homeowner',\n",
       " 'root_cause_roof_issue',\n",
       " 'root_cause_roof_issue',\n",
       " 'root_cause_normal_wear_and_tear',\n",
       " 'root_cause_normal_wear_and_tear',\n",
       " 'root_cause_homeowner',\n",
       " 'root_cause_normal_wear_and_tear',\n",
       " 'root_cause_normal_wear_and_tear',\n",
       " 'root_cause_non-service_support',\n",
       " 'root_cause_non-service_support',\n",
       " 'root_cause_major_component_failure_warranty',\n",
       " 'root_cause_major_component_failure_warranty',\n",
       " 'root_cause_major_component_failure_warranty',\n",
       " 'root_cause_major_component_failure_warranty',\n",
       " 'root_cause_major_component_failure_warranty',\n",
       " 'root_cause_normal_wear_and_tear',\n",
       " 'root_cause_non-service_support',\n",
       " 'root_cause_non-service_support',\n",
       " 'root_cause_normal_wear_and_tear',\n",
       " 'root_cause_major_component_failure_warranty',\n",
       " 'root_cause_normal_wear_and_tear',\n",
       " 'root_cause_normal_wear_and_tear',\n",
       " 'root_cause_normal_wear_and_tear',\n",
       " 'root_cause_normal_wear_and_tear',\n",
       " 'root_cause_major_component_failure_warranty',\n",
       " 'root_cause_major_component_failure_warranty',\n",
       " 'root_cause_normal_wear_and_tear',\n",
       " 'root_cause_normal_wear_and_tear',\n",
       " 'root_cause_homeowner',\n",
       " 'root_cause_non-service_support',\n",
       " 'root_cause_major_component_failure_warranty',\n",
       " 'root_cause_major_component_failure_warranty',\n",
       " 'root_cause_normal_wear_and_tear',\n",
       " 'root_cause_normal_wear_and_tear',\n",
       " 'root_cause_normal_wear_and_tear',\n",
       " 'root_cause_non-service_support',\n",
       " 'root_cause_non-service_support',\n",
       " 'root_cause_non-service_support',\n",
       " 'root_cause_normal_wear_and_tear',\n",
       " 'root_cause_normal_wear_and_tear',\n",
       " 'root_cause_normal_wear_and_tear',\n",
       " 'root_cause_normal_wear_and_tear',\n",
       " 'root_cause_normal_wear_and_tear',\n",
       " 'root_cause_normal_wear_and_tear',\n",
       " 'root_cause_normal_wear_and_tear',\n",
       " 'root_cause_normal_wear_and_tear',\n",
       " 'root_cause_homeowner',\n",
       " 'root_cause_roof_issue',\n",
       " 'root_cause_normal_wear_and_tear',\n",
       " 'root_cause_major_component_failure_warranty',\n",
       " 'root_cause_major_component_failure_warranty',\n",
       " 'root_cause_normal_wear_and_tear',\n",
       " 'root_cause_normal_wear_and_tear',\n",
       " 'root_cause_major_component_failure_warranty',\n",
       " 'root_cause_roof_issue',\n",
       " 'root_cause_major_component_failure_warranty',\n",
       " 'root_cause_normal_wear_and_tear',\n",
       " 'root_cause_normal_wear_and_tear']"
      ]
     },
     "execution_count": 72,
     "metadata": {},
     "output_type": "execute_result"
    }
   ],
   "source": [
    "le = LabelEncoder()\n",
    "y_le = le.fit_transform(y)\n",
    "# Let's make sure we can get the names back.\n",
    "list(le.inverse_transform(y_le))\n"
   ]
  },
  {
   "cell_type": "code",
   "execution_count": 73,
   "metadata": {},
   "outputs": [
    {
     "data": {
      "text/plain": [
       "(638,)"
      ]
     },
     "execution_count": 73,
     "metadata": {},
     "output_type": "execute_result"
    }
   ],
   "source": [
    "y.shape"
   ]
  },
  {
   "cell_type": "code",
   "execution_count": 16,
   "metadata": {},
   "outputs": [],
   "source": [
    "X = df101_b.drop(['root_cause'], axis=1).copy()"
   ]
  },
  {
   "cell_type": "code",
   "execution_count": 17,
   "metadata": {},
   "outputs": [
    {
     "data": {
      "text/plain": [
       "['ticket_id',\n",
       " 'asset_id',\n",
       " 'ticket_creation_reason',\n",
       " 'asset_type',\n",
       " 'ticket_origin',\n",
       " 'date_ticket_initially_assigned',\n",
       " 'date_ticket_closed',\n",
       " 'installed_by',\n",
       " 'installation_date']"
      ]
     },
     "execution_count": 17,
     "metadata": {},
     "output_type": "execute_result"
    }
   ],
   "source": [
    "# # List our categorical features\n",
    "categoricals = list(X.columns[(X.dtypes.values == np.dtype('object'))])\n",
    "categoricals"
   ]
  },
  {
   "cell_type": "code",
   "execution_count": 18,
   "metadata": {
    "scrolled": false
   },
   "outputs": [
    {
     "data": {
      "text/plain": [
       "['latitude', 'longitude', 'tilt', 'azimuth']"
      ]
     },
     "execution_count": 18,
     "metadata": {},
     "output_type": "execute_result"
    }
   ],
   "source": [
    "# List our numerical features\n",
    "nums = list(df101_b.columns[(df101_b.dtypes.values != np.dtype('object'))])\n",
    "nums"
   ]
  },
  {
   "cell_type": "code",
   "execution_count": 19,
   "metadata": {},
   "outputs": [],
   "source": [
    "df_nums = df101_b[nums].copy()"
   ]
  },
  {
   "cell_type": "code",
   "execution_count": 20,
   "metadata": {},
   "outputs": [],
   "source": [
    "cats = df101_b[categoricals].copy()"
   ]
  },
  {
   "cell_type": "code",
   "execution_count": 21,
   "metadata": {},
   "outputs": [
    {
     "data": {
      "text/plain": [
       "OneHotEncoder(categorical_features=None, categories='auto', drop=None,\n",
       "              dtype=<class 'numpy.float64'>, handle_unknown='ignore',\n",
       "              n_values=None, sparse=True)"
      ]
     },
     "execution_count": 21,
     "metadata": {},
     "output_type": "execute_result"
    }
   ],
   "source": [
    "encoder = OneHotEncoder(categories='auto', handle_unknown='ignore')\n",
    "encoder.fit(cats)"
   ]
  },
  {
   "cell_type": "code",
   "execution_count": 22,
   "metadata": {},
   "outputs": [],
   "source": [
    "enc_cats = pd.DataFrame(encoder.transform(cats).toarray(),\n",
    "                       columns=encoder.get_feature_names())"
   ]
  },
  {
   "cell_type": "markdown",
   "metadata": {},
   "source": [
    "### Now we join the numerical features together."
   ]
  },
  {
   "cell_type": "code",
   "execution_count": 23,
   "metadata": {
    "scrolled": true
   },
   "outputs": [
    {
     "name": "stdout",
     "output_type": "stream",
     "text": [
      "<class 'pandas.core.frame.DataFrame'>\n",
      "Int64Index: 638 entries, 0 to 823\n",
      "Columns: 1926 entries, latitude to x8_2016-08-03 00:00:00\n",
      "dtypes: float64(1926)\n",
      "memory usage: 9.4 MB\n"
     ]
    }
   ],
   "source": [
    "X = df_nums.join(enc_cats)\n",
    "X.info()"
   ]
  },
  {
   "cell_type": "markdown",
   "metadata": {},
   "source": [
    "### Let's be sure our binary zeroes didn't become nans or nulls."
   ]
  },
  {
   "cell_type": "code",
   "execution_count": 42,
   "metadata": {
    "scrolled": true
   },
   "outputs": [
    {
     "data": {
      "text/plain": [
       "latitude                  False\n",
       "longitude                 False\n",
       "tilt                      False\n",
       "azimuth                   False\n",
       "x0_10006                   True\n",
       "x0_10009                   True\n",
       "x0_10010                   True\n",
       "x0_10046                   True\n",
       "x0_10088                   True\n",
       "x0_10336                   True\n",
       "x0_10337                   True\n",
       "x0_10361                   True\n",
       "x0_10363                   True\n",
       "x0_10417                   True\n",
       "x0_10461                   True\n",
       "x0_10551                   True\n",
       "x0_10657                   True\n",
       "x0_10663                   True\n",
       "x0_10707                   True\n",
       "x0_10747                   True\n",
       "x0_10752                   True\n",
       "x0_10755                   True\n",
       "x0_10908                   True\n",
       "x0_10909                   True\n",
       "x0_10910                   True\n",
       "x0_10912                   True\n",
       "x0_10913                   True\n",
       "x0_10992                   True\n",
       "x0_11041                   True\n",
       "x0_11253                   True\n",
       "                          ...  \n",
       "x8_2015-09-08 00:00:00     True\n",
       "x8_2015-09-17 00:00:00     True\n",
       "x8_2015-10-23 00:00:00     True\n",
       "x8_2015-10-29 00:00:00     True\n",
       "x8_2015-10-31 00:00:00     True\n",
       "x8_2015-11-03 00:00:00     True\n",
       "x8_2015-11-10 00:00:00     True\n",
       "x8_2015-11-18 00:00:00     True\n",
       "x8_2015-11-24 00:00:00     True\n",
       "x8_2015-11-25 00:00:00     True\n",
       "x8_2015-12-03 00:00:00     True\n",
       "x8_2015-12-07 00:00:00     True\n",
       "x8_2015-12-15 00:00:00     True\n",
       "x8_2016-01-04 00:00:00     True\n",
       "x8_2016-01-07 00:00:00     True\n",
       "x8_2016-01-11 00:00:00     True\n",
       "x8_2016-01-14 00:00:00     True\n",
       "x8_2016-01-20 00:00:00     True\n",
       "x8_2016-02-15 00:00:00     True\n",
       "x8_2016-02-26 00:00:00     True\n",
       "x8_2016-03-09 00:00:00     True\n",
       "x8_2016-03-16 00:00:00     True\n",
       "x8_2016-03-21 00:00:00     True\n",
       "x8_2016-03-22 00:00:00     True\n",
       "x8_2016-04-27 00:00:00     True\n",
       "x8_2016-05-11 00:00:00     True\n",
       "x8_2016-05-18 00:00:00     True\n",
       "x8_2016-06-29 00:00:00     True\n",
       "x8_2016-07-01 00:00:00     True\n",
       "x8_2016-08-03 00:00:00     True\n",
       "Length: 1926, dtype: bool"
      ]
     },
     "execution_count": 42,
     "metadata": {},
     "output_type": "execute_result"
    }
   ],
   "source": [
    "X.isnull().any()"
   ]
  },
  {
   "cell_type": "code",
   "execution_count": 45,
   "metadata": {
    "scrolled": true
   },
   "outputs": [
    {
     "data": {
      "text/plain": [
       "latitude                  False\n",
       "longitude                 False\n",
       "tilt                      False\n",
       "azimuth                   False\n",
       "x0_10006                   True\n",
       "x0_10009                   True\n",
       "x0_10010                   True\n",
       "x0_10046                   True\n",
       "x0_10088                   True\n",
       "x0_10336                   True\n",
       "x0_10337                   True\n",
       "x0_10361                   True\n",
       "x0_10363                   True\n",
       "x0_10417                   True\n",
       "x0_10461                   True\n",
       "x0_10551                   True\n",
       "x0_10657                   True\n",
       "x0_10663                   True\n",
       "x0_10707                   True\n",
       "x0_10747                   True\n",
       "x0_10752                   True\n",
       "x0_10755                   True\n",
       "x0_10908                   True\n",
       "x0_10909                   True\n",
       "x0_10910                   True\n",
       "x0_10912                   True\n",
       "x0_10913                   True\n",
       "x0_10992                   True\n",
       "x0_11041                   True\n",
       "x0_11253                   True\n",
       "                          ...  \n",
       "x8_2015-09-08 00:00:00     True\n",
       "x8_2015-09-17 00:00:00     True\n",
       "x8_2015-10-23 00:00:00     True\n",
       "x8_2015-10-29 00:00:00     True\n",
       "x8_2015-10-31 00:00:00     True\n",
       "x8_2015-11-03 00:00:00     True\n",
       "x8_2015-11-10 00:00:00     True\n",
       "x8_2015-11-18 00:00:00     True\n",
       "x8_2015-11-24 00:00:00     True\n",
       "x8_2015-11-25 00:00:00     True\n",
       "x8_2015-12-03 00:00:00     True\n",
       "x8_2015-12-07 00:00:00     True\n",
       "x8_2015-12-15 00:00:00     True\n",
       "x8_2016-01-04 00:00:00     True\n",
       "x8_2016-01-07 00:00:00     True\n",
       "x8_2016-01-11 00:00:00     True\n",
       "x8_2016-01-14 00:00:00     True\n",
       "x8_2016-01-20 00:00:00     True\n",
       "x8_2016-02-15 00:00:00     True\n",
       "x8_2016-02-26 00:00:00     True\n",
       "x8_2016-03-09 00:00:00     True\n",
       "x8_2016-03-16 00:00:00     True\n",
       "x8_2016-03-21 00:00:00     True\n",
       "x8_2016-03-22 00:00:00     True\n",
       "x8_2016-04-27 00:00:00     True\n",
       "x8_2016-05-11 00:00:00     True\n",
       "x8_2016-05-18 00:00:00     True\n",
       "x8_2016-06-29 00:00:00     True\n",
       "x8_2016-07-01 00:00:00     True\n",
       "x8_2016-08-03 00:00:00     True\n",
       "Length: 1926, dtype: bool"
      ]
     },
     "execution_count": 45,
     "metadata": {},
     "output_type": "execute_result"
    }
   ],
   "source": [
    "X.isna().any()"
   ]
  },
  {
   "cell_type": "markdown",
   "metadata": {},
   "source": [
    "### Yes they did. Let's put our zeroes back in place."
   ]
  },
  {
   "cell_type": "code",
   "execution_count": 46,
   "metadata": {},
   "outputs": [],
   "source": [
    "X.fillna(0, inplace=True)"
   ]
  },
  {
   "cell_type": "code",
   "execution_count": 47,
   "metadata": {
    "scrolled": true
   },
   "outputs": [
    {
     "data": {
      "text/plain": [
       "latitude                  False\n",
       "longitude                 False\n",
       "tilt                      False\n",
       "azimuth                   False\n",
       "x0_10006                  False\n",
       "x0_10009                  False\n",
       "x0_10010                  False\n",
       "x0_10046                  False\n",
       "x0_10088                  False\n",
       "x0_10336                  False\n",
       "x0_10337                  False\n",
       "x0_10361                  False\n",
       "x0_10363                  False\n",
       "x0_10417                  False\n",
       "x0_10461                  False\n",
       "x0_10551                  False\n",
       "x0_10657                  False\n",
       "x0_10663                  False\n",
       "x0_10707                  False\n",
       "x0_10747                  False\n",
       "x0_10752                  False\n",
       "x0_10755                  False\n",
       "x0_10908                  False\n",
       "x0_10909                  False\n",
       "x0_10910                  False\n",
       "x0_10912                  False\n",
       "x0_10913                  False\n",
       "x0_10992                  False\n",
       "x0_11041                  False\n",
       "x0_11253                  False\n",
       "                          ...  \n",
       "x8_2015-09-08 00:00:00    False\n",
       "x8_2015-09-17 00:00:00    False\n",
       "x8_2015-10-23 00:00:00    False\n",
       "x8_2015-10-29 00:00:00    False\n",
       "x8_2015-10-31 00:00:00    False\n",
       "x8_2015-11-03 00:00:00    False\n",
       "x8_2015-11-10 00:00:00    False\n",
       "x8_2015-11-18 00:00:00    False\n",
       "x8_2015-11-24 00:00:00    False\n",
       "x8_2015-11-25 00:00:00    False\n",
       "x8_2015-12-03 00:00:00    False\n",
       "x8_2015-12-07 00:00:00    False\n",
       "x8_2015-12-15 00:00:00    False\n",
       "x8_2016-01-04 00:00:00    False\n",
       "x8_2016-01-07 00:00:00    False\n",
       "x8_2016-01-11 00:00:00    False\n",
       "x8_2016-01-14 00:00:00    False\n",
       "x8_2016-01-20 00:00:00    False\n",
       "x8_2016-02-15 00:00:00    False\n",
       "x8_2016-02-26 00:00:00    False\n",
       "x8_2016-03-09 00:00:00    False\n",
       "x8_2016-03-16 00:00:00    False\n",
       "x8_2016-03-21 00:00:00    False\n",
       "x8_2016-03-22 00:00:00    False\n",
       "x8_2016-04-27 00:00:00    False\n",
       "x8_2016-05-11 00:00:00    False\n",
       "x8_2016-05-18 00:00:00    False\n",
       "x8_2016-06-29 00:00:00    False\n",
       "x8_2016-07-01 00:00:00    False\n",
       "x8_2016-08-03 00:00:00    False\n",
       "Length: 1926, dtype: bool"
      ]
     },
     "execution_count": 47,
     "metadata": {},
     "output_type": "execute_result"
    }
   ],
   "source": [
    "X.isnull().any()"
   ]
  },
  {
   "cell_type": "markdown",
   "metadata": {},
   "source": [
    "### Next we split for training and testing."
   ]
  },
  {
   "cell_type": "code",
   "execution_count": 48,
   "metadata": {},
   "outputs": [],
   "source": [
    "X_train, X_test, y_train, y_test = train_test_split(X, y_le, random_state=42, test_size=0.2)"
   ]
  },
  {
   "cell_type": "code",
   "execution_count": 49,
   "metadata": {
    "scrolled": false
   },
   "outputs": [
    {
     "name": "stdout",
     "output_type": "stream",
     "text": [
      "<class 'pandas.core.frame.DataFrame'>\n",
      "Int64Index: 510 entries, 764 to 131\n",
      "Columns: 1926 entries, latitude to x8_2016-08-03 00:00:00\n",
      "dtypes: float64(1926)\n",
      "memory usage: 7.5 MB\n"
     ]
    }
   ],
   "source": [
    "X_train.info()"
   ]
  },
  {
   "cell_type": "code",
   "execution_count": 50,
   "metadata": {},
   "outputs": [
    {
     "data": {
      "text/plain": [
       "(510,)"
      ]
     },
     "execution_count": 50,
     "metadata": {},
     "output_type": "execute_result"
    }
   ],
   "source": [
    "y_train.shape"
   ]
  },
  {
   "cell_type": "code",
   "execution_count": 51,
   "metadata": {
    "scrolled": true
   },
   "outputs": [
    {
     "name": "stdout",
     "output_type": "stream",
     "text": [
      "<class 'pandas.core.frame.DataFrame'>\n",
      "Int64Index: 128 entries, 324 to 325\n",
      "Columns: 1926 entries, latitude to x8_2016-08-03 00:00:00\n",
      "dtypes: float64(1926)\n",
      "memory usage: 1.9 MB\n"
     ]
    }
   ],
   "source": [
    "X_test.info()"
   ]
  },
  {
   "cell_type": "code",
   "execution_count": 52,
   "metadata": {},
   "outputs": [
    {
     "data": {
      "text/plain": [
       "(128,)"
      ]
     },
     "execution_count": 52,
     "metadata": {},
     "output_type": "execute_result"
    }
   ],
   "source": [
    "y_test.shape"
   ]
  },
  {
   "cell_type": "markdown",
   "metadata": {},
   "source": [
    "### Let's make sure we can get our root_cause names back in place for human readability."
   ]
  },
  {
   "cell_type": "code",
   "execution_count": 78,
   "metadata": {},
   "outputs": [
    {
     "data": {
      "text/plain": [
       "510"
      ]
     },
     "execution_count": 78,
     "metadata": {},
     "output_type": "execute_result"
    }
   ],
   "source": [
    "y_train_names = list(le.inverse_transform(y_train))\n",
    "len(y_train_names)"
   ]
  },
  {
   "cell_type": "code",
   "execution_count": 79,
   "metadata": {},
   "outputs": [
    {
     "data": {
      "text/plain": [
       "128"
      ]
     },
     "execution_count": 79,
     "metadata": {},
     "output_type": "execute_result"
    }
   ],
   "source": [
    "y_test_names = list(le.inverse_transform(y_test))\n",
    "len(y_test_names)"
   ]
  },
  {
   "cell_type": "markdown",
   "metadata": {},
   "source": [
    "## Modeling."
   ]
  },
  {
   "cell_type": "code",
   "execution_count": 64,
   "metadata": {
    "scrolled": true
   },
   "outputs": [
    {
     "data": {
      "text/plain": [
       "GradientBoostingClassifier(criterion='friedman_mse', init=None,\n",
       "                           learning_rate=0.1, loss='deviance', max_depth=3,\n",
       "                           max_features=None, max_leaf_nodes=None,\n",
       "                           min_impurity_decrease=0.0, min_impurity_split=None,\n",
       "                           min_samples_leaf=30, min_samples_split=2,\n",
       "                           min_weight_fraction_leaf=0.0, n_estimators=100,\n",
       "                           n_iter_no_change=None, presort='auto',\n",
       "                           random_state=42, subsample=1.0, tol=0.0001,\n",
       "                           validation_fraction=0.1, verbose=0,\n",
       "                           warm_start=False)"
      ]
     },
     "execution_count": 64,
     "metadata": {},
     "output_type": "execute_result"
    }
   ],
   "source": [
    "gb = GradientBoostingClassifier(random_state=42, min_samples_leaf=30)\n",
    "gb.fit(X_train, y_train)"
   ]
  },
  {
   "cell_type": "code",
   "execution_count": 68,
   "metadata": {},
   "outputs": [],
   "source": [
    "gb_pred = gb.predict(X_test)"
   ]
  },
  {
   "cell_type": "code",
   "execution_count": 69,
   "metadata": {},
   "outputs": [
    {
     "data": {
      "text/plain": [
       "0.4765625"
      ]
     },
     "execution_count": 69,
     "metadata": {},
     "output_type": "execute_result"
    }
   ],
   "source": [
    "gb.score(X_test, y_test)"
   ]
  },
  {
   "cell_type": "code",
   "execution_count": 81,
   "metadata": {
    "scrolled": true
   },
   "outputs": [
    {
     "name": "stdout",
     "output_type": "stream",
     "text": [
      "              precision    recall  f1-score   support\n",
      "\n",
      "           1       0.00      0.00      0.00         4\n",
      "           2       0.00      0.00      0.00         5\n",
      "           3       0.00      0.00      0.00         5\n",
      "           4       0.00      0.00      0.00         2\n",
      "           5       0.26      0.38      0.31        21\n",
      "           6       0.50      0.15      0.24        13\n",
      "           7       0.57      0.73      0.64        70\n",
      "           8       0.00      0.00      0.00         7\n",
      "           9       0.00      0.00      0.00         1\n",
      "\n",
      "    accuracy                           0.48       128\n",
      "   macro avg       0.15      0.14      0.13       128\n",
      "weighted avg       0.40      0.48      0.42       128\n",
      "\n"
     ]
    },
    {
     "name": "stderr",
     "output_type": "stream",
     "text": [
      "/Users/humanperson/anaconda3/envs/learn2env/lib/python3.7/site-packages/sklearn/metrics/classification.py:1437: UndefinedMetricWarning: Precision and F-score are ill-defined and being set to 0.0 in labels with no predicted samples.\n",
      "  'precision', 'predicted', average, warn_for)\n"
     ]
    }
   ],
   "source": [
    "print(classification_report(y_test, gb_pred))\n"
   ]
  },
  {
   "cell_type": "code",
   "execution_count": 84,
   "metadata": {},
   "outputs": [],
   "source": [
    "from sklearn.metrics import balanced_accuracy_score"
   ]
  },
  {
   "cell_type": "code",
   "execution_count": 85,
   "metadata": {},
   "outputs": [
    {
     "data": {
      "text/plain": [
       "0.14037444037444036"
      ]
     },
     "execution_count": 85,
     "metadata": {},
     "output_type": "execute_result"
    }
   ],
   "source": [
    "balanced_accuracy_score(y_test, gb_pred)"
   ]
  },
  {
   "cell_type": "code",
   "execution_count": null,
   "metadata": {},
   "outputs": [],
   "source": []
  },
  {
   "cell_type": "code",
   "execution_count": 82,
   "metadata": {},
   "outputs": [
    {
     "data": {
      "text/plain": [
       "KNeighborsClassifier(algorithm='auto', leaf_size=30, metric='minkowski',\n",
       "                     metric_params=None, n_jobs=None, n_neighbors=5, p=2,\n",
       "                     weights='uniform')"
      ]
     },
     "execution_count": 82,
     "metadata": {},
     "output_type": "execute_result"
    }
   ],
   "source": [
    "knn = KNeighborsClassifier()\n",
    "knn.fit(X_train, y_train)"
   ]
  },
  {
   "cell_type": "code",
   "execution_count": 83,
   "metadata": {},
   "outputs": [
    {
     "data": {
      "text/plain": [
       "0.3828125"
      ]
     },
     "execution_count": 83,
     "metadata": {},
     "output_type": "execute_result"
    }
   ],
   "source": [
    "knn.score(X_test, y_test)"
   ]
  },
  {
   "cell_type": "code",
   "execution_count": null,
   "metadata": {},
   "outputs": [],
   "source": []
  },
  {
   "cell_type": "code",
   "execution_count": null,
   "metadata": {},
   "outputs": [],
   "source": [
    "# filename = '101_knn.pkl'\n",
    "# pickle.dump(knn, open(filename, 'wb'))"
   ]
  },
  {
   "cell_type": "code",
   "execution_count": null,
   "metadata": {},
   "outputs": [],
   "source": [
    "# kn = pickle.load"
   ]
  },
  {
   "cell_type": "code",
   "execution_count": 89,
   "metadata": {},
   "outputs": [
    {
     "name": "stderr",
     "output_type": "stream",
     "text": [
      "/Users/humanperson/anaconda3/envs/learn2env/lib/python3.7/site-packages/sklearn/linear_model/logistic.py:947: ConvergenceWarning: lbfgs failed to converge. Increase the number of iterations.\n",
      "  \"of iterations.\", ConvergenceWarning)\n"
     ]
    },
    {
     "data": {
      "text/plain": [
       "LogisticRegression(C=1.0, class_weight=None, dual=False, fit_intercept=True,\n",
       "                   intercept_scaling=1, l1_ratio=None, max_iter=1000,\n",
       "                   multi_class='multinomial', n_jobs=None, penalty='l2',\n",
       "                   random_state=None, solver='lbfgs', tol=0.0001, verbose=0,\n",
       "                   warm_start=False)"
      ]
     },
     "execution_count": 89,
     "metadata": {},
     "output_type": "execute_result"
    }
   ],
   "source": [
    "lr = LogisticRegression(multi_class='multinomial', solver='lbfgs', max_iter=1000)\n",
    "lr.fit(X_train, y_train)"
   ]
  },
  {
   "cell_type": "code",
   "execution_count": 90,
   "metadata": {},
   "outputs": [
    {
     "data": {
      "text/plain": [
       "0.546875"
      ]
     },
     "execution_count": 90,
     "metadata": {},
     "output_type": "execute_result"
    }
   ],
   "source": [
    "lr.score(X_test, y_test)"
   ]
  },
  {
   "cell_type": "code",
   "execution_count": null,
   "metadata": {},
   "outputs": [],
   "source": [
    "# filename = '101_lr.pkl'\n",
    "# pickle.dump(lr, open(filename, 'wb'))"
   ]
  },
  {
   "cell_type": "code",
   "execution_count": null,
   "metadata": {},
   "outputs": [],
   "source": [
    "# filename = '101_gb.pkl'\n",
    "# pickle.dump(gb, open(filename, 'wb'))"
   ]
  },
  {
   "cell_type": "code",
   "execution_count": 91,
   "metadata": {},
   "outputs": [
    {
     "data": {
      "text/plain": [
       "DecisionTreeClassifier(class_weight=None, criterion='gini', max_depth=None,\n",
       "                       max_features=None, max_leaf_nodes=None,\n",
       "                       min_impurity_decrease=0.0, min_impurity_split=None,\n",
       "                       min_samples_leaf=30, min_samples_split=2,\n",
       "                       min_weight_fraction_leaf=0.0, presort=False,\n",
       "                       random_state=42, splitter='best')"
      ]
     },
     "execution_count": 91,
     "metadata": {},
     "output_type": "execute_result"
    }
   ],
   "source": [
    "dt = DecisionTreeClassifier(random_state=42, min_samples_leaf=30)\n",
    "dt.fit(X_train, y_train)"
   ]
  },
  {
   "cell_type": "code",
   "execution_count": 92,
   "metadata": {},
   "outputs": [
    {
     "data": {
      "text/plain": [
       "0.484375"
      ]
     },
     "execution_count": 92,
     "metadata": {},
     "output_type": "execute_result"
    }
   ],
   "source": [
    "dt.score(X_test, y_test)"
   ]
  },
  {
   "cell_type": "code",
   "execution_count": null,
   "metadata": {},
   "outputs": [],
   "source": [
    "# filename = '101_dt.pkl'\n",
    "# pickle.dump(dt, open(filename, 'wb'))"
   ]
  },
  {
   "cell_type": "code",
   "execution_count": 93,
   "metadata": {},
   "outputs": [
    {
     "data": {
      "text/plain": [
       "BaggingClassifier(base_estimator=None, bootstrap=True, bootstrap_features=False,\n",
       "                  max_features=1.0, max_samples=1.0, n_estimators=10,\n",
       "                  n_jobs=None, oob_score=False, random_state=25565, verbose=0,\n",
       "                  warm_start=False)"
      ]
     },
     "execution_count": 93,
     "metadata": {},
     "output_type": "execute_result"
    }
   ],
   "source": [
    "bg = BaggingClassifier(random_state=25565)\n",
    "bg.fit(X_train, y_train)"
   ]
  },
  {
   "cell_type": "code",
   "execution_count": 94,
   "metadata": {},
   "outputs": [
    {
     "data": {
      "text/plain": [
       "0.53125"
      ]
     },
     "execution_count": 94,
     "metadata": {},
     "output_type": "execute_result"
    }
   ],
   "source": [
    "bg.score(X_test, y_test)"
   ]
  },
  {
   "cell_type": "code",
   "execution_count": null,
   "metadata": {},
   "outputs": [],
   "source": [
    "# filename = '101_bg.pkl'\n",
    "# pickle.dump(bg, open(filename, 'wb'))"
   ]
  },
  {
   "cell_type": "code",
   "execution_count": 95,
   "metadata": {},
   "outputs": [],
   "source": [
    "rf = RandomForestClassifier(random_state=42, n_estimators=100)\n",
    "rf.fit(X_train, y_train);"
   ]
  },
  {
   "cell_type": "code",
   "execution_count": 96,
   "metadata": {},
   "outputs": [
    {
     "data": {
      "text/plain": [
       "0.53125"
      ]
     },
     "execution_count": 96,
     "metadata": {},
     "output_type": "execute_result"
    }
   ],
   "source": [
    "rf.score(X_test, y_test)"
   ]
  },
  {
   "cell_type": "code",
   "execution_count": null,
   "metadata": {},
   "outputs": [],
   "source": [
    "# filename = '101_rf.pkl'\n",
    "# pickle.dump(rf, open(filename, 'wb'))"
   ]
  },
  {
   "cell_type": "markdown",
   "metadata": {},
   "source": [
    "Let's show our results"
   ]
  },
  {
   "cell_type": "code",
   "execution_count": null,
   "metadata": {},
   "outputs": [],
   "source": [
    "knn.score(X_test, y_test)"
   ]
  },
  {
   "cell_type": "code",
   "execution_count": null,
   "metadata": {},
   "outputs": [],
   "source": [
    "lr.score(X_test, y_test)"
   ]
  },
  {
   "cell_type": "code",
   "execution_count": null,
   "metadata": {},
   "outputs": [],
   "source": [
    "gb.score(X_test, y_test)"
   ]
  },
  {
   "cell_type": "code",
   "execution_count": null,
   "metadata": {},
   "outputs": [],
   "source": [
    "dt.score(X_test, y_test)"
   ]
  },
  {
   "cell_type": "code",
   "execution_count": null,
   "metadata": {},
   "outputs": [],
   "source": [
    "bg.score(X_test, y_test)"
   ]
  },
  {
   "cell_type": "code",
   "execution_count": null,
   "metadata": {},
   "outputs": [],
   "source": [
    "rf.score(X_test, y_test)"
   ]
  },
  {
   "cell_type": "code",
   "execution_count": null,
   "metadata": {},
   "outputs": [],
   "source": [
    "from sklearn.utils.testing import all_estimators"
   ]
  },
  {
   "cell_type": "code",
   "execution_count": 97,
   "metadata": {},
   "outputs": [
    {
     "data": {
      "text/plain": [
       "array([0.  , 0.  , 0.  , 0.  , 0.  , 0.09, 0.01, 0.9 , 0.  , 0.  ])"
      ]
     },
     "execution_count": 97,
     "metadata": {},
     "output_type": "execute_result"
    }
   ],
   "source": [
    "rf.predict_proba(X_test)[0]"
   ]
  },
  {
   "cell_type": "code",
   "execution_count": null,
   "metadata": {},
   "outputs": [],
   "source": [
    "rf.predict(X_test)[0:5]"
   ]
  },
  {
   "cell_type": "code",
   "execution_count": 99,
   "metadata": {},
   "outputs": [],
   "source": [
    "l_props = lr.predict_proba(X_test)[1]"
   ]
  },
  {
   "cell_type": "code",
   "execution_count": 100,
   "metadata": {},
   "outputs": [],
   "source": [
    "zipp = list(zip(lr.classes_, l_props))"
   ]
  },
  {
   "cell_type": "code",
   "execution_count": 101,
   "metadata": {},
   "outputs": [],
   "source": [
    "#want a dictionary that gives probability for each class, \n",
    "#prediction, and ground truth\n",
    "def display_preds_truth(model, obs, X_test, y_test):\n",
    "    probs = model.predict_proba(X_test)[obs]\n",
    "    classes = model.classes_\n",
    "    display = dict(zip(classes, probs))\n",
    "#     display['prediction'] = model.predict(X_test)[obs]\n",
    "    display['ground truth'] = y_test[obs]\n",
    "    return display\n",
    "        \n",
    "    \n",
    "    "
   ]
  },
  {
   "cell_type": "code",
   "execution_count": 102,
   "metadata": {},
   "outputs": [],
   "source": [
    "#want a dictionary that gives probability for each class,\n",
    "def display_probas(model, obs, X_test):\n",
    "    probs = model.predict_proba(X_test)[obs]\n",
    "    classes = model.classes_\n",
    "    display = dict(zip(classes, probs))\n",
    "    display['prediction'] = model.predict(X_test)[obs]\n",
    "    return display"
   ]
  },
  {
   "cell_type": "code",
   "execution_count": 103,
   "metadata": {},
   "outputs": [
    {
     "data": {
      "text/plain": [
       "{0: 0.0020976295183632136,\n",
       " 1: 0.007567920462641144,\n",
       " 2: 0.027824670706177567,\n",
       " 3: 0.005245495449828084,\n",
       " 4: 0.006648726156005691,\n",
       " 5: 0.04240686532491433,\n",
       " 6: 0.05344159118190062,\n",
       " 7: 0.8435075132221252,\n",
       " 8: 0.009345673007980008,\n",
       " 9: 0.0019139149700641534,\n",
       " 'prediction': 7}"
      ]
     },
     "execution_count": 103,
     "metadata": {},
     "output_type": "execute_result"
    }
   ],
   "source": [
    "display_probas(lr, 1, X_test)"
   ]
  },
  {
   "cell_type": "code",
   "execution_count": null,
   "metadata": {},
   "outputs": [],
   "source": []
  }
 ],
 "metadata": {
  "kernelspec": {
   "display_name": "learn2env",
   "language": "python",
   "name": "learn2env"
  },
  "language_info": {
   "codemirror_mode": {
    "name": "ipython",
    "version": 3
   },
   "file_extension": ".py",
   "mimetype": "text/x-python",
   "name": "python",
   "nbconvert_exporter": "python",
   "pygments_lexer": "ipython3",
   "version": "3.7.3"
  }
 },
 "nbformat": 4,
 "nbformat_minor": 2
}
