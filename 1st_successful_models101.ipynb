{
 "cells": [
  {
   "cell_type": "markdown",
   "metadata": {},
   "source": [
    "# *Inaugural classification models."
   ]
  },
  {
   "cell_type": "markdown",
   "metadata": {},
   "source": [
    "### Based on features 'ticket_id', 'asset_id', 'root_cause', 'ticket_creation_reason','asset_type', 'latitude', 'longitude', 'tilt', 'azimuth','ticket_origin', 'date_ticket_initially_assigned', 'date_ticket_closed', 'installed_by', and 'installation_date' from Omnidian database 101, we compare K-Nearest Neighbors, Gradient Boosting, Random Forest, Bagging, and Logistic Regression."
   ]
  },
  {
   "cell_type": "code",
   "execution_count": 1,
   "metadata": {},
   "outputs": [
    {
     "name": "stderr",
     "output_type": "stream",
     "text": [
      "/Users/humanperson/anaconda3/envs/learn2env/lib/python3.7/site-packages/sklearn/externals/six.py:31: DeprecationWarning: The module is deprecated in version 0.21 and will be removed in version 0.23 since we've dropped support for Python 2.7. Please rely on the official version of six (https://pypi.org/project/six/).\n",
      "  \"(https://pypi.org/project/six/).\", DeprecationWarning)\n"
     ]
    }
   ],
   "source": [
    "from sklearn.tree import DecisionTreeClassifier\n",
    "from sklearn.ensemble import GradientBoostingClassifier, RandomForestClassifier, BaggingClassifier\n",
    "from sklearn.neighbors import KNeighborsClassifier\n",
    "from sklearn.linear_model import LogisticRegression\n",
    "from sklearn.model_selection import train_test_split\n",
    "from sklearn.preprocessing import OneHotEncoder\n",
    "from sklearn import tree\n",
    "import numpy as np\n",
    "import pandas as pd\n",
    "from imblearn.over_sampling import SMOTE\n",
    "from sklearn.utils import resample\n",
    "import matplotlib.pyplot as plt\n",
    "%matplotlib inline\n",
    "plt.style.use('seaborn-paper')"
   ]
  },
  {
   "cell_type": "code",
   "execution_count": 2,
   "metadata": {},
   "outputs": [],
   "source": [
    "import pickle"
   ]
  },
  {
   "cell_type": "markdown",
   "metadata": {},
   "source": [
    "Get Data"
   ]
  },
  {
   "cell_type": "code",
   "execution_count": 3,
   "metadata": {},
   "outputs": [
    {
     "data": {
      "text/html": [
       "<div>\n",
       "<style scoped>\n",
       "    .dataframe tbody tr th:only-of-type {\n",
       "        vertical-align: middle;\n",
       "    }\n",
       "\n",
       "    .dataframe tbody tr th {\n",
       "        vertical-align: top;\n",
       "    }\n",
       "\n",
       "    .dataframe thead th {\n",
       "        text-align: right;\n",
       "    }\n",
       "</style>\n",
       "<table border=\"1\" class=\"dataframe\">\n",
       "  <thead>\n",
       "    <tr style=\"text-align: right;\">\n",
       "      <th></th>\n",
       "      <th>Ticket_Id</th>\n",
       "      <th>Asset_Id</th>\n",
       "      <th>Root_Cause</th>\n",
       "      <th>Ticket_Creation_Reason</th>\n",
       "      <th>asset_type</th>\n",
       "      <th>latitude</th>\n",
       "      <th>longitude</th>\n",
       "      <th>tilt</th>\n",
       "      <th>azimuth</th>\n",
       "      <th>Ticket_Origin</th>\n",
       "      <th>Date_Ticket_Initially_Assigned</th>\n",
       "      <th>Date_Ticket_Closed</th>\n",
       "      <th>installed_by</th>\n",
       "      <th>installation_date</th>\n",
       "    </tr>\n",
       "  </thead>\n",
       "  <tbody>\n",
       "    <tr>\n",
       "      <th>0</th>\n",
       "      <td>23947</td>\n",
       "      <td>101112604</td>\n",
       "      <td>root_cause_normal_wear_and_tear</td>\n",
       "      <td>communication offline</td>\n",
       "      <td>Residential Solar PV</td>\n",
       "      <td>38.944642</td>\n",
       "      <td>-121.248833</td>\n",
       "      <td>37.0</td>\n",
       "      <td>190.0</td>\n",
       "      <td>origin_omnidian_customer</td>\n",
       "      <td>2018-10-22 17:25:27</td>\n",
       "      <td>2018-11-29</td>\n",
       "      <td>Williams Lifetime Builders Inc. DBA Lifetime S...</td>\n",
       "      <td>2013-04-04 00:00:00</td>\n",
       "    </tr>\n",
       "    <tr>\n",
       "      <th>1</th>\n",
       "      <td>23947</td>\n",
       "      <td>101112604</td>\n",
       "      <td>root_cause_normal_wear_and_tear</td>\n",
       "      <td>communication offline</td>\n",
       "      <td>Residential Solar PV</td>\n",
       "      <td>38.944642</td>\n",
       "      <td>-121.248833</td>\n",
       "      <td>37.0</td>\n",
       "      <td>190.0</td>\n",
       "      <td>origin_omnidian_customer</td>\n",
       "      <td>2018-10-22 17:25:27</td>\n",
       "      <td>2018-11-29</td>\n",
       "      <td>Williams Lifetime Builders Inc. DBA Lifetime S...</td>\n",
       "      <td>2013-04-04 00:00:00</td>\n",
       "    </tr>\n",
       "    <tr>\n",
       "      <th>2</th>\n",
       "      <td>27384</td>\n",
       "      <td>101113056</td>\n",
       "      <td>root_cause_normal_wear_and_tear</td>\n",
       "      <td>system inspection</td>\n",
       "      <td>Residential Solar PV</td>\n",
       "      <td>34.101697</td>\n",
       "      <td>-118.146646</td>\n",
       "      <td>18.0</td>\n",
       "      <td>180.0</td>\n",
       "      <td>origin_homeowner</td>\n",
       "      <td>2018-12-20 06:49:02</td>\n",
       "      <td>2019-02-09</td>\n",
       "      <td>Green Tech Solutions Inc.</td>\n",
       "      <td>2014-04-08 00:00:00</td>\n",
       "    </tr>\n",
       "    <tr>\n",
       "      <th>3</th>\n",
       "      <td>27384</td>\n",
       "      <td>101113056</td>\n",
       "      <td>root_cause_normal_wear_and_tear</td>\n",
       "      <td>system inspection</td>\n",
       "      <td>Residential Solar PV</td>\n",
       "      <td>34.101697</td>\n",
       "      <td>-118.146646</td>\n",
       "      <td>18.0</td>\n",
       "      <td>180.0</td>\n",
       "      <td>origin_homeowner</td>\n",
       "      <td>2018-12-20 06:49:02</td>\n",
       "      <td>2019-02-09</td>\n",
       "      <td>Green Tech Solutions Inc.</td>\n",
       "      <td>2014-04-08 00:00:00</td>\n",
       "    </tr>\n",
       "    <tr>\n",
       "      <th>4</th>\n",
       "      <td>27384</td>\n",
       "      <td>101113056</td>\n",
       "      <td>root_cause_normal_wear_and_tear</td>\n",
       "      <td>system inspection</td>\n",
       "      <td>Residential Solar PV</td>\n",
       "      <td>34.101697</td>\n",
       "      <td>-118.146646</td>\n",
       "      <td>18.0</td>\n",
       "      <td>90.0</td>\n",
       "      <td>origin_homeowner</td>\n",
       "      <td>2018-12-20 06:49:02</td>\n",
       "      <td>2019-02-09</td>\n",
       "      <td>Green Tech Solutions Inc.</td>\n",
       "      <td>2014-04-08 00:00:00</td>\n",
       "    </tr>\n",
       "  </tbody>\n",
       "</table>\n",
       "</div>"
      ],
      "text/plain": [
       "   Ticket_Id   Asset_Id                       Root_Cause  \\\n",
       "0      23947  101112604  root_cause_normal_wear_and_tear   \n",
       "1      23947  101112604  root_cause_normal_wear_and_tear   \n",
       "2      27384  101113056  root_cause_normal_wear_and_tear   \n",
       "3      27384  101113056  root_cause_normal_wear_and_tear   \n",
       "4      27384  101113056  root_cause_normal_wear_and_tear   \n",
       "\n",
       "  Ticket_Creation_Reason            asset_type   latitude   longitude  tilt  \\\n",
       "0  communication offline  Residential Solar PV  38.944642 -121.248833  37.0   \n",
       "1  communication offline  Residential Solar PV  38.944642 -121.248833  37.0   \n",
       "2      system inspection  Residential Solar PV  34.101697 -118.146646  18.0   \n",
       "3      system inspection  Residential Solar PV  34.101697 -118.146646  18.0   \n",
       "4      system inspection  Residential Solar PV  34.101697 -118.146646  18.0   \n",
       "\n",
       "   azimuth             Ticket_Origin Date_Ticket_Initially_Assigned  \\\n",
       "0    190.0  origin_omnidian_customer            2018-10-22 17:25:27   \n",
       "1    190.0  origin_omnidian_customer            2018-10-22 17:25:27   \n",
       "2    180.0          origin_homeowner            2018-12-20 06:49:02   \n",
       "3    180.0          origin_homeowner            2018-12-20 06:49:02   \n",
       "4     90.0          origin_homeowner            2018-12-20 06:49:02   \n",
       "\n",
       "  Date_Ticket_Closed                                       installed_by  \\\n",
       "0         2018-11-29  Williams Lifetime Builders Inc. DBA Lifetime S...   \n",
       "1         2018-11-29  Williams Lifetime Builders Inc. DBA Lifetime S...   \n",
       "2         2019-02-09                          Green Tech Solutions Inc.   \n",
       "3         2019-02-09                          Green Tech Solutions Inc.   \n",
       "4         2019-02-09                          Green Tech Solutions Inc.   \n",
       "\n",
       "     installation_date  \n",
       "0  2013-04-04 00:00:00  \n",
       "1  2013-04-04 00:00:00  \n",
       "2  2014-04-08 00:00:00  \n",
       "3  2014-04-08 00:00:00  \n",
       "4  2014-04-08 00:00:00  "
      ]
     },
     "execution_count": 3,
     "metadata": {},
     "output_type": "execute_result"
    }
   ],
   "source": [
    "data101 = pd.read_csv('data/eda101.csv')\n",
    "data101.head()"
   ]
  },
  {
   "cell_type": "code",
   "execution_count": 4,
   "metadata": {},
   "outputs": [
    {
     "name": "stdout",
     "output_type": "stream",
     "text": [
      "<class 'pandas.core.frame.DataFrame'>\n",
      "RangeIndex: 825 entries, 0 to 824\n",
      "Data columns (total 14 columns):\n",
      "Ticket_Id                         825 non-null int64\n",
      "Asset_Id                          825 non-null int64\n",
      "Root_Cause                        825 non-null object\n",
      "Ticket_Creation_Reason            825 non-null object\n",
      "asset_type                        825 non-null object\n",
      "latitude                          825 non-null float64\n",
      "longitude                         825 non-null float64\n",
      "tilt                              825 non-null float64\n",
      "azimuth                           825 non-null float64\n",
      "Ticket_Origin                     825 non-null object\n",
      "Date_Ticket_Initially_Assigned    825 non-null object\n",
      "Date_Ticket_Closed                825 non-null object\n",
      "installed_by                      825 non-null object\n",
      "installation_date                 825 non-null object\n",
      "dtypes: float64(4), int64(2), object(8)\n",
      "memory usage: 90.3+ KB\n"
     ]
    }
   ],
   "source": [
    "data101.info()"
   ]
  },
  {
   "cell_type": "markdown",
   "metadata": {},
   "source": [
    "Let's start by converting everything to lowercase to minimze confusion and redundancy."
   ]
  },
  {
   "cell_type": "code",
   "execution_count": 5,
   "metadata": {},
   "outputs": [],
   "source": [
    "data101.rename(str.lower, axis='columns', inplace=True)"
   ]
  },
  {
   "cell_type": "code",
   "execution_count": 6,
   "metadata": {},
   "outputs": [
    {
     "name": "stdout",
     "output_type": "stream",
     "text": [
      "<class 'pandas.core.frame.DataFrame'>\n",
      "RangeIndex: 825 entries, 0 to 824\n",
      "Data columns (total 14 columns):\n",
      "ticket_id                         825 non-null int64\n",
      "asset_id                          825 non-null int64\n",
      "root_cause                        825 non-null object\n",
      "ticket_creation_reason            825 non-null object\n",
      "asset_type                        825 non-null object\n",
      "latitude                          825 non-null float64\n",
      "longitude                         825 non-null float64\n",
      "tilt                              825 non-null float64\n",
      "azimuth                           825 non-null float64\n",
      "ticket_origin                     825 non-null object\n",
      "date_ticket_initially_assigned    825 non-null object\n",
      "date_ticket_closed                825 non-null object\n",
      "installed_by                      825 non-null object\n",
      "installation_date                 825 non-null object\n",
      "dtypes: float64(4), int64(2), object(8)\n",
      "memory usage: 90.3+ KB\n"
     ]
    }
   ],
   "source": [
    "data101.info()"
   ]
  },
  {
   "cell_type": "code",
   "execution_count": 7,
   "metadata": {},
   "outputs": [
    {
     "data": {
      "text/plain": [
       "Index(['ticket_id', 'asset_id', 'root_cause', 'ticket_creation_reason',\n",
       "       'asset_type', 'latitude', 'longitude', 'tilt', 'azimuth',\n",
       "       'ticket_origin', 'date_ticket_initially_assigned', 'date_ticket_closed',\n",
       "       'installed_by', 'installation_date'],\n",
       "      dtype='object')"
      ]
     },
     "execution_count": 7,
     "metadata": {},
     "output_type": "execute_result"
    }
   ],
   "source": [
    "data101.columns"
   ]
  },
  {
   "cell_type": "markdown",
   "metadata": {},
   "source": [
    "Assign target to Root_Cause and Train-Test-Split"
   ]
  },
  {
   "cell_type": "code",
   "execution_count": 8,
   "metadata": {},
   "outputs": [],
   "source": [
    "X = data101.drop('root_cause', axis=1).copy()\n",
    "y = data101['root_cause']\n",
    "X_train, X_test, y_train, y_test = train_test_split(X, y, random_state=42, test_size=0.2)"
   ]
  },
  {
   "cell_type": "code",
   "execution_count": 9,
   "metadata": {},
   "outputs": [
    {
     "data": {
      "text/html": [
       "<div>\n",
       "<style scoped>\n",
       "    .dataframe tbody tr th:only-of-type {\n",
       "        vertical-align: middle;\n",
       "    }\n",
       "\n",
       "    .dataframe tbody tr th {\n",
       "        vertical-align: top;\n",
       "    }\n",
       "\n",
       "    .dataframe thead th {\n",
       "        text-align: right;\n",
       "    }\n",
       "</style>\n",
       "<table border=\"1\" class=\"dataframe\">\n",
       "  <thead>\n",
       "    <tr style=\"text-align: right;\">\n",
       "      <th></th>\n",
       "      <th>ticket_id</th>\n",
       "      <th>asset_id</th>\n",
       "      <th>ticket_creation_reason</th>\n",
       "      <th>asset_type</th>\n",
       "      <th>latitude</th>\n",
       "      <th>longitude</th>\n",
       "      <th>tilt</th>\n",
       "      <th>azimuth</th>\n",
       "      <th>ticket_origin</th>\n",
       "      <th>date_ticket_initially_assigned</th>\n",
       "      <th>date_ticket_closed</th>\n",
       "      <th>installed_by</th>\n",
       "      <th>installation_date</th>\n",
       "    </tr>\n",
       "  </thead>\n",
       "  <tbody>\n",
       "    <tr>\n",
       "      <th>611</th>\n",
       "      <td>15895</td>\n",
       "      <td>101111497</td>\n",
       "      <td>communication offline</td>\n",
       "      <td>Residential Solar PV</td>\n",
       "      <td>37.818595</td>\n",
       "      <td>-121.934280</td>\n",
       "      <td>23.0</td>\n",
       "      <td>170.0</td>\n",
       "      <td>origin_omnidian_customer</td>\n",
       "      <td>2018-06-12 17:31:48</td>\n",
       "      <td>2018-08-17</td>\n",
       "      <td>Aram Solar</td>\n",
       "      <td>2012-02-10 00:00:00</td>\n",
       "    </tr>\n",
       "    <tr>\n",
       "      <th>174</th>\n",
       "      <td>2591</td>\n",
       "      <td>101113294</td>\n",
       "      <td>communication offline</td>\n",
       "      <td>Residential Solar PV</td>\n",
       "      <td>33.840872</td>\n",
       "      <td>-111.771766</td>\n",
       "      <td>34.0</td>\n",
       "      <td>232.0</td>\n",
       "      <td>origin_omnidian_monitoring_team</td>\n",
       "      <td>2017-08-04 22:27:05</td>\n",
       "      <td>2018-08-16</td>\n",
       "      <td>Potere Solar</td>\n",
       "      <td>2015-04-30 00:00:00</td>\n",
       "    </tr>\n",
       "    <tr>\n",
       "      <th>67</th>\n",
       "      <td>11278</td>\n",
       "      <td>101111915</td>\n",
       "      <td>zero production</td>\n",
       "      <td>Residential Solar PV</td>\n",
       "      <td>40.768241</td>\n",
       "      <td>-74.510319</td>\n",
       "      <td>18.0</td>\n",
       "      <td>224.0</td>\n",
       "      <td>origin_omnidian_monitoring_team</td>\n",
       "      <td>2018-03-15 18:41:26</td>\n",
       "      <td>2018-06-07</td>\n",
       "      <td>Roof Diagnostics Solar and Electric Inc</td>\n",
       "      <td>2013-09-23 00:00:00</td>\n",
       "    </tr>\n",
       "    <tr>\n",
       "      <th>168</th>\n",
       "      <td>16584</td>\n",
       "      <td>101113401</td>\n",
       "      <td>zero production</td>\n",
       "      <td>Residential Solar PV</td>\n",
       "      <td>33.866658</td>\n",
       "      <td>-118.387667</td>\n",
       "      <td>23.0</td>\n",
       "      <td>55.0</td>\n",
       "      <td>origin_omnidian_monitoring_team</td>\n",
       "      <td>2018-06-25 20:48:46</td>\n",
       "      <td>2018-07-26</td>\n",
       "      <td>SunStarter Solar Installations Inc</td>\n",
       "      <td>2015-11-10 00:00:00</td>\n",
       "    </tr>\n",
       "    <tr>\n",
       "      <th>275</th>\n",
       "      <td>11859</td>\n",
       "      <td>101113282</td>\n",
       "      <td>zero production</td>\n",
       "      <td>Residential Solar PV</td>\n",
       "      <td>34.314705</td>\n",
       "      <td>-118.432859</td>\n",
       "      <td>23.0</td>\n",
       "      <td>132.0</td>\n",
       "      <td>origin_omnidian_customer</td>\n",
       "      <td>2018-04-02 20:49:37</td>\n",
       "      <td>2018-06-15</td>\n",
       "      <td>Green Tech Solutions Inc.</td>\n",
       "      <td>2015-08-17 00:00:00</td>\n",
       "    </tr>\n",
       "  </tbody>\n",
       "</table>\n",
       "</div>"
      ],
      "text/plain": [
       "     ticket_id   asset_id ticket_creation_reason            asset_type  \\\n",
       "611      15895  101111497  communication offline  Residential Solar PV   \n",
       "174       2591  101113294  communication offline  Residential Solar PV   \n",
       "67       11278  101111915        zero production  Residential Solar PV   \n",
       "168      16584  101113401        zero production  Residential Solar PV   \n",
       "275      11859  101113282        zero production  Residential Solar PV   \n",
       "\n",
       "      latitude   longitude  tilt  azimuth                    ticket_origin  \\\n",
       "611  37.818595 -121.934280  23.0    170.0         origin_omnidian_customer   \n",
       "174  33.840872 -111.771766  34.0    232.0  origin_omnidian_monitoring_team   \n",
       "67   40.768241  -74.510319  18.0    224.0  origin_omnidian_monitoring_team   \n",
       "168  33.866658 -118.387667  23.0     55.0  origin_omnidian_monitoring_team   \n",
       "275  34.314705 -118.432859  23.0    132.0         origin_omnidian_customer   \n",
       "\n",
       "    date_ticket_initially_assigned date_ticket_closed  \\\n",
       "611            2018-06-12 17:31:48         2018-08-17   \n",
       "174            2017-08-04 22:27:05         2018-08-16   \n",
       "67             2018-03-15 18:41:26         2018-06-07   \n",
       "168            2018-06-25 20:48:46         2018-07-26   \n",
       "275            2018-04-02 20:49:37         2018-06-15   \n",
       "\n",
       "                                installed_by    installation_date  \n",
       "611                               Aram Solar  2012-02-10 00:00:00  \n",
       "174                             Potere Solar  2015-04-30 00:00:00  \n",
       "67   Roof Diagnostics Solar and Electric Inc  2013-09-23 00:00:00  \n",
       "168       SunStarter Solar Installations Inc  2015-11-10 00:00:00  \n",
       "275                Green Tech Solutions Inc.  2015-08-17 00:00:00  "
      ]
     },
     "execution_count": 9,
     "metadata": {},
     "output_type": "execute_result"
    }
   ],
   "source": [
    "X_test.head()"
   ]
  },
  {
   "cell_type": "code",
   "execution_count": 10,
   "metadata": {},
   "outputs": [
    {
     "name": "stdout",
     "output_type": "stream",
     "text": [
      "<class 'pandas.core.frame.DataFrame'>\n",
      "Int64Index: 165 entries, 611 to 527\n",
      "Data columns (total 13 columns):\n",
      "ticket_id                         165 non-null int64\n",
      "asset_id                          165 non-null int64\n",
      "ticket_creation_reason            165 non-null object\n",
      "asset_type                        165 non-null object\n",
      "latitude                          165 non-null float64\n",
      "longitude                         165 non-null float64\n",
      "tilt                              165 non-null float64\n",
      "azimuth                           165 non-null float64\n",
      "ticket_origin                     165 non-null object\n",
      "date_ticket_initially_assigned    165 non-null object\n",
      "date_ticket_closed                165 non-null object\n",
      "installed_by                      165 non-null object\n",
      "installation_date                 165 non-null object\n",
      "dtypes: float64(4), int64(2), object(7)\n",
      "memory usage: 18.0+ KB\n"
     ]
    }
   ],
   "source": [
    "X_test.info()"
   ]
  },
  {
   "cell_type": "markdown",
   "metadata": {},
   "source": [
    "One hot encoding: since our data is largely categorical but our models require numeric inputs, we one hot encode it.\n"
   ]
  },
  {
   "cell_type": "code",
   "execution_count": 11,
   "metadata": {},
   "outputs": [
    {
     "data": {
      "text/plain": [
       "OneHotEncoder(categorical_features=None, categories='auto', drop=None,\n",
       "              dtype=<class 'numpy.float64'>, handle_unknown='ignore',\n",
       "              n_values=None, sparse=True)"
      ]
     },
     "execution_count": 11,
     "metadata": {},
     "output_type": "execute_result"
    }
   ],
   "source": [
    "encoder = OneHotEncoder(categories='auto', handle_unknown='ignore')\n",
    "encoder.fit(X_train)"
   ]
  },
  {
   "cell_type": "code",
   "execution_count": 12,
   "metadata": {},
   "outputs": [],
   "source": [
    "X_train = pd.DataFrame(encoder.transform(X_train).toarray(),\n",
    "                         columns=encoder.get_feature_names())\n",
    "X_test = pd.DataFrame(encoder.transform(X_test).toarray(),\n",
    "                        columns=encoder.get_feature_names())"
   ]
  },
  {
   "cell_type": "code",
   "execution_count": 13,
   "metadata": {},
   "outputs": [],
   "source": [
    "# X_test = pd.DataFrame(encoder.transform(X_test).toarray(),\n",
    "#                         columns=encoder.get_feature_names())"
   ]
  },
  {
   "cell_type": "markdown",
   "metadata": {},
   "source": [
    "Training our models."
   ]
  },
  {
   "cell_type": "code",
   "execution_count": 14,
   "metadata": {},
   "outputs": [
    {
     "data": {
      "text/plain": [
       "KNeighborsClassifier(algorithm='auto', leaf_size=30, metric='minkowski',\n",
       "                     metric_params=None, n_jobs=None, n_neighbors=5, p=2,\n",
       "                     weights='uniform')"
      ]
     },
     "execution_count": 14,
     "metadata": {},
     "output_type": "execute_result"
    }
   ],
   "source": [
    "knn = KNeighborsClassifier()\n",
    "knn.fit(X_train, y_train)"
   ]
  },
  {
   "cell_type": "code",
   "execution_count": 15,
   "metadata": {},
   "outputs": [],
   "source": [
    "# filename = '101_knn.pkl'\n",
    "# pickle.dump(knn, open(filename, 'wb'))"
   ]
  },
  {
   "cell_type": "code",
   "execution_count": 16,
   "metadata": {},
   "outputs": [
    {
     "data": {
      "text/plain": [
       "LogisticRegression(C=1.0, class_weight=None, dual=False, fit_intercept=True,\n",
       "                   intercept_scaling=1, l1_ratio=None, max_iter=1000,\n",
       "                   multi_class='multinomial', n_jobs=None, penalty='l2',\n",
       "                   random_state=None, solver='lbfgs', tol=0.0001, verbose=0,\n",
       "                   warm_start=False)"
      ]
     },
     "execution_count": 16,
     "metadata": {},
     "output_type": "execute_result"
    }
   ],
   "source": [
    "lr = LogisticRegression(multi_class='multinomial', solver='lbfgs', max_iter=1000)\n",
    "lr.fit(X_train, y_train)"
   ]
  },
  {
   "cell_type": "code",
   "execution_count": 17,
   "metadata": {},
   "outputs": [],
   "source": [
    "# filename = '101_lr.pkl'\n",
    "# pickle.dump(lr, open(filename, 'wb'))"
   ]
  },
  {
   "cell_type": "code",
   "execution_count": 18,
   "metadata": {},
   "outputs": [
    {
     "data": {
      "text/plain": [
       "GradientBoostingClassifier(criterion='friedman_mse', init=None,\n",
       "                           learning_rate=0.1, loss='deviance', max_depth=3,\n",
       "                           max_features=None, max_leaf_nodes=None,\n",
       "                           min_impurity_decrease=0.0, min_impurity_split=None,\n",
       "                           min_samples_leaf=30, min_samples_split=2,\n",
       "                           min_weight_fraction_leaf=0.0, n_estimators=100,\n",
       "                           n_iter_no_change=None, presort='auto',\n",
       "                           random_state=42, subsample=1.0, tol=0.0001,\n",
       "                           validation_fraction=0.1, verbose=0,\n",
       "                           warm_start=False)"
      ]
     },
     "execution_count": 18,
     "metadata": {},
     "output_type": "execute_result"
    }
   ],
   "source": [
    "gb = GradientBoostingClassifier(random_state=42, min_samples_leaf=30)\n",
    "gb.fit(X_train, y_train)"
   ]
  },
  {
   "cell_type": "code",
   "execution_count": 19,
   "metadata": {},
   "outputs": [],
   "source": [
    "# filename = '101_gb.pkl'\n",
    "# pickle.dump(gb, open(filename, 'wb'))"
   ]
  },
  {
   "cell_type": "code",
   "execution_count": 20,
   "metadata": {},
   "outputs": [
    {
     "data": {
      "text/plain": [
       "DecisionTreeClassifier(class_weight=None, criterion='gini', max_depth=None,\n",
       "                       max_features=None, max_leaf_nodes=None,\n",
       "                       min_impurity_decrease=0.0, min_impurity_split=None,\n",
       "                       min_samples_leaf=30, min_samples_split=2,\n",
       "                       min_weight_fraction_leaf=0.0, presort=False,\n",
       "                       random_state=42, splitter='best')"
      ]
     },
     "execution_count": 20,
     "metadata": {},
     "output_type": "execute_result"
    }
   ],
   "source": [
    "dt = DecisionTreeClassifier(random_state=42, min_samples_leaf=30)\n",
    "dt.fit(X_train, y_train)"
   ]
  },
  {
   "cell_type": "code",
   "execution_count": 21,
   "metadata": {},
   "outputs": [],
   "source": [
    "# filename = '101_dt.pkl'\n",
    "# pickle.dump(dt, open(filename, 'wb'))"
   ]
  },
  {
   "cell_type": "code",
   "execution_count": 22,
   "metadata": {},
   "outputs": [
    {
     "data": {
      "text/plain": [
       "BaggingClassifier(base_estimator=None, bootstrap=True, bootstrap_features=False,\n",
       "                  max_features=1.0, max_samples=1.0, n_estimators=10,\n",
       "                  n_jobs=None, oob_score=False, random_state=25565, verbose=0,\n",
       "                  warm_start=False)"
      ]
     },
     "execution_count": 22,
     "metadata": {},
     "output_type": "execute_result"
    }
   ],
   "source": [
    "bg = BaggingClassifier(random_state=25565)\n",
    "bg.fit(X_train, y_train)"
   ]
  },
  {
   "cell_type": "code",
   "execution_count": 23,
   "metadata": {},
   "outputs": [],
   "source": [
    "# filename = '101_bg.pkl'\n",
    "# pickle.dump(bg, open(filename, 'wb'))"
   ]
  },
  {
   "cell_type": "code",
   "execution_count": 24,
   "metadata": {},
   "outputs": [],
   "source": [
    "rf = RandomForestClassifier(random_state=42, n_estimators=100)\n",
    "rf.fit(X_train, y_train);"
   ]
  },
  {
   "cell_type": "code",
   "execution_count": 25,
   "metadata": {},
   "outputs": [],
   "source": [
    "# filename = '101_rf.pkl'\n",
    "# pickle.dump(rf, open(filename, 'wb'))"
   ]
  },
  {
   "cell_type": "markdown",
   "metadata": {},
   "source": [
    "Let's show our results"
   ]
  },
  {
   "cell_type": "code",
   "execution_count": 26,
   "metadata": {},
   "outputs": [
    {
     "data": {
      "text/plain": [
       "0.5818181818181818"
      ]
     },
     "execution_count": 26,
     "metadata": {},
     "output_type": "execute_result"
    }
   ],
   "source": [
    "knn.score(X_test, y_test)"
   ]
  },
  {
   "cell_type": "code",
   "execution_count": 27,
   "metadata": {},
   "outputs": [
    {
     "data": {
      "text/plain": [
       "0.8242424242424242"
      ]
     },
     "execution_count": 27,
     "metadata": {},
     "output_type": "execute_result"
    }
   ],
   "source": [
    "lr.score(X_test, y_test)"
   ]
  },
  {
   "cell_type": "code",
   "execution_count": 28,
   "metadata": {},
   "outputs": [
    {
     "data": {
      "text/plain": [
       "0.6121212121212121"
      ]
     },
     "execution_count": 28,
     "metadata": {},
     "output_type": "execute_result"
    }
   ],
   "source": [
    "gb.score(X_test, y_test)"
   ]
  },
  {
   "cell_type": "code",
   "execution_count": 29,
   "metadata": {},
   "outputs": [
    {
     "data": {
      "text/plain": [
       "0.593939393939394"
      ]
     },
     "execution_count": 29,
     "metadata": {},
     "output_type": "execute_result"
    }
   ],
   "source": [
    "dt.score(X_test, y_test)"
   ]
  },
  {
   "cell_type": "code",
   "execution_count": 30,
   "metadata": {},
   "outputs": [
    {
     "data": {
      "text/plain": [
       "0.8363636363636363"
      ]
     },
     "execution_count": 30,
     "metadata": {},
     "output_type": "execute_result"
    }
   ],
   "source": [
    "bg.score(X_test, y_test)"
   ]
  },
  {
   "cell_type": "code",
   "execution_count": 31,
   "metadata": {},
   "outputs": [
    {
     "data": {
      "text/plain": [
       "0.8303030303030303"
      ]
     },
     "execution_count": 31,
     "metadata": {},
     "output_type": "execute_result"
    }
   ],
   "source": [
    "rf.score(X_test, y_test)"
   ]
  },
  {
   "cell_type": "code",
   "execution_count": null,
   "metadata": {},
   "outputs": [],
   "source": []
  },
  {
   "cell_type": "markdown",
   "metadata": {},
   "source": [
    "What may be some other classifiers?"
   ]
  },
  {
   "cell_type": "code",
   "execution_count": 27,
   "metadata": {},
   "outputs": [],
   "source": [
    "# from sklearn.utils.testing import all_estimators"
   ]
  },
  {
   "cell_type": "code",
   "execution_count": 56,
   "metadata": {},
   "outputs": [
    {
     "data": {
      "text/plain": [
       "array([0.  , 0.  , 0.  , 0.01, 0.  , 0.11, 0.  , 0.88, 0.  , 0.  ])"
      ]
     },
     "execution_count": 56,
     "metadata": {},
     "output_type": "execute_result"
    }
   ],
   "source": [
    "rf.predict_proba(X_test)[0]"
   ]
  },
  {
   "cell_type": "code",
   "execution_count": 60,
   "metadata": {},
   "outputs": [
    {
     "data": {
      "text/plain": [
       "array(['root_cause_normal_wear_and_tear',\n",
       "       'root_cause_major_component_failure_warranty',\n",
       "       'root_cause_normal_wear_and_tear',\n",
       "       'root_cause_normal_wear_and_tear',\n",
       "       'root_cause_major_component_failure_warranty'], dtype=object)"
      ]
     },
     "execution_count": 60,
     "metadata": {},
     "output_type": "execute_result"
    }
   ],
   "source": [
    "rf.predict(X_test)[0:5]"
   ]
  },
  {
   "cell_type": "code",
   "execution_count": 94,
   "metadata": {},
   "outputs": [],
   "source": [
    "l_props = lr.predict_proba(X_test)[1]"
   ]
  },
  {
   "cell_type": "code",
   "execution_count": 100,
   "metadata": {},
   "outputs": [],
   "source": [
    "zipp = list(zip(lr.classes_, l_props))"
   ]
  },
  {
   "cell_type": "code",
   "execution_count": 101,
   "metadata": {},
   "outputs": [
    {
     "data": {
      "text/plain": [
       "[('root_cause_design/sale_issue', 0.00043387759236169344),\n",
       " ('root_cause_environmental', 0.004206441640046431),\n",
       " ('root_cause_homeowner', 0.014217294259570568),\n",
       " ('root_cause_installer_workmanship', 0.004648355311296379),\n",
       " ('root_cause_major_component_failure_non-warranty', 0.0036398455245150647),\n",
       " ('root_cause_major_component_failure_warranty', 0.9000584314884308),\n",
       " ('root_cause_non-service_support', 0.027058029061024055),\n",
       " ('root_cause_normal_wear_and_tear', 0.0411124777776664),\n",
       " ('root_cause_roof_issue', 0.0027033523841786256),\n",
       " ('root_cause_service_workmanship', 0.0019218949609099132)]"
      ]
     },
     "execution_count": 101,
     "metadata": {},
     "output_type": "execute_result"
    }
   ],
   "source": [
    "zipp"
   ]
  },
  {
   "cell_type": "code",
   "execution_count": 110,
   "metadata": {},
   "outputs": [],
   "source": [
    "#want a dictionary that gives probability for each class, \n",
    "#prediction, and ground truth\n",
    "def display_preds_truth(model, obs, X_test, y_test):\n",
    "    probs = model.predict_proba(X_test)[obs]\n",
    "    classes = model.classes_\n",
    "    display = dict(zip(classes, probs))\n",
    "#     display['prediction'] = model.predict(X_test)[obs]\n",
    "    display['ground truth'] = y_test[obs]\n",
    "    return display\n",
    "        \n",
    "    \n",
    "    "
   ]
  },
  {
   "cell_type": "code",
   "execution_count": 129,
   "metadata": {},
   "outputs": [],
   "source": [
    "#want a dictionary that gives probability for each class,\n",
    "def display_probas(model, obs, X_test):\n",
    "    probs = model.predict_proba(X_test)[obs]\n",
    "    classes = model.classes_\n",
    "    display = dict(zip(classes, probs))\n",
    "    display['prediction'] = model.predict(X_test)[obs]\n",
    "    return display"
   ]
  },
  {
   "cell_type": "code",
   "execution_count": 130,
   "metadata": {},
   "outputs": [
    {
     "data": {
      "text/plain": [
       "{'root_cause_design/sale_issue': 0.00043387759236169344,\n",
       " 'root_cause_environmental': 0.004206441640046431,\n",
       " 'root_cause_homeowner': 0.014217294259570568,\n",
       " 'root_cause_installer_workmanship': 0.004648355311296379,\n",
       " 'root_cause_major_component_failure_non-warranty': 0.0036398455245150647,\n",
       " 'root_cause_major_component_failure_warranty': 0.9000584314884308,\n",
       " 'root_cause_non-service_support': 0.027058029061024055,\n",
       " 'root_cause_normal_wear_and_tear': 0.0411124777776664,\n",
       " 'root_cause_roof_issue': 0.0027033523841786256,\n",
       " 'root_cause_service_workmanship': 0.0019218949609099132,\n",
       " 'prediction': 'root_cause_major_component_failure_warranty'}"
      ]
     },
     "execution_count": 130,
     "metadata": {},
     "output_type": "execute_result"
    }
   ],
   "source": [
    "display_probas(lr, 1, X_test)"
   ]
  },
  {
   "cell_type": "code",
   "execution_count": 124,
   "metadata": {},
   "outputs": [
    {
     "data": {
      "text/plain": [
       "714                    root_cause_normal_wear_and_tear\n",
       "605        root_cause_major_component_failure_warranty\n",
       "120                    root_cause_normal_wear_and_tear\n",
       "208                    root_cause_normal_wear_and_tear\n",
       "380        root_cause_major_component_failure_warranty\n",
       "816        root_cause_major_component_failure_warranty\n",
       "575                    root_cause_normal_wear_and_tear\n",
       "266        root_cause_major_component_failure_warranty\n",
       "557                    root_cause_normal_wear_and_tear\n",
       "825                    root_cause_normal_wear_and_tear\n",
       "580                    root_cause_normal_wear_and_tear\n",
       "327                    root_cause_normal_wear_and_tear\n",
       "623    root_cause_major_component_failure_non-warranty\n",
       "365        root_cause_major_component_failure_warranty\n",
       "827                     root_cause_non-service_support\n",
       "198                    root_cause_normal_wear_and_tear\n",
       "456                    root_cause_normal_wear_and_tear\n",
       "465                    root_cause_normal_wear_and_tear\n",
       "311                    root_cause_normal_wear_and_tear\n",
       "331                    root_cause_normal_wear_and_tear\n",
       "393                    root_cause_normal_wear_and_tear\n",
       "634                    root_cause_normal_wear_and_tear\n",
       "788        root_cause_major_component_failure_warranty\n",
       "743                    root_cause_normal_wear_and_tear\n",
       "851                              root_cause_roof_issue\n",
       "137                    root_cause_normal_wear_and_tear\n",
       "809                    root_cause_normal_wear_and_tear\n",
       "440        root_cause_major_component_failure_warranty\n",
       "859                    root_cause_normal_wear_and_tear\n",
       "432        root_cause_major_component_failure_warranty\n",
       "                            ...                       \n",
       "653                              root_cause_roof_issue\n",
       "332        root_cause_major_component_failure_warranty\n",
       "672        root_cause_major_component_failure_warranty\n",
       "118                    root_cause_normal_wear_and_tear\n",
       "259                    root_cause_normal_wear_and_tear\n",
       "254                     root_cause_non-service_support\n",
       "29                     root_cause_normal_wear_and_tear\n",
       "210        root_cause_major_component_failure_warranty\n",
       "381        root_cause_major_component_failure_warranty\n",
       "213                     root_cause_non-service_support\n",
       "796                    root_cause_normal_wear_and_tear\n",
       "81                     root_cause_normal_wear_and_tear\n",
       "715                    root_cause_normal_wear_and_tear\n",
       "342                    root_cause_normal_wear_and_tear\n",
       "539                    root_cause_normal_wear_and_tear\n",
       "314                    root_cause_normal_wear_and_tear\n",
       "756                    root_cause_normal_wear_and_tear\n",
       "209        root_cause_major_component_failure_warranty\n",
       "250                     root_cause_non-service_support\n",
       "518                               root_cause_homeowner\n",
       "737                    root_cause_normal_wear_and_tear\n",
       "411        root_cause_major_component_failure_warranty\n",
       "711                               root_cause_homeowner\n",
       "490                    root_cause_normal_wear_and_tear\n",
       "611                    root_cause_normal_wear_and_tear\n",
       "235        root_cause_major_component_failure_warranty\n",
       "333        root_cause_major_component_failure_warranty\n",
       "215                    root_cause_normal_wear_and_tear\n",
       "795                     root_cause_non-service_support\n",
       "7                      root_cause_normal_wear_and_tear\n",
       "Name: Root_Cause, Length: 173, dtype: object"
      ]
     },
     "execution_count": 124,
     "metadata": {},
     "output_type": "execute_result"
    }
   ],
   "source": [
    "y_test"
   ]
  },
  {
   "cell_type": "code",
   "execution_count": null,
   "metadata": {},
   "outputs": [],
   "source": []
  }
 ],
 "metadata": {
  "kernelspec": {
   "display_name": "learn2env",
   "language": "python",
   "name": "learn2env"
  },
  "language_info": {
   "codemirror_mode": {
    "name": "ipython",
    "version": 3
   },
   "file_extension": ".py",
   "mimetype": "text/x-python",
   "name": "python",
   "nbconvert_exporter": "python",
   "pygments_lexer": "ipython3",
   "version": "3.7.3"
  }
 },
 "nbformat": 4,
 "nbformat_minor": 2
}
