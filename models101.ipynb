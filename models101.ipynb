{
 "cells": [
  {
   "cell_type": "markdown",
   "metadata": {},
   "source": [
    "# Inaugural classification models."
   ]
  },
  {
   "cell_type": "markdown",
   "metadata": {},
   "source": [
    "### Based on features from Omnidian database 101, we compare K-Nearest Neighbors, Gradient Boosting, Random Forest, Bagging, and Logistic Regression."
   ]
  },
  {
   "cell_type": "code",
   "execution_count": 122,
   "metadata": {},
   "outputs": [],
   "source": [
    "from sklearn.tree import DecisionTreeClassifier\n",
    "from sklearn.ensemble import GradientBoostingClassifier, RandomForestClassifier, BaggingClassifier\n",
    "from sklearn.neighbors import KNeighborsClassifier\n",
    "from sklearn.linear_model import LogisticRegression\n",
    "from sklearn.model_selection import train_test_split\n",
    "from sklearn.preprocessing import OneHotEncoder\n",
    "from sklearn import tree\n",
    "import numpy as np\n",
    "import pandas as pd\n",
    "from imblearn.over_sampling import SMOTE\n",
    "from sklearn.utils import resample\n",
    "import matplotlib.pyplot as plt\n",
    "%matplotlib inline\n",
    "plt.style.use('seaborn-paper')"
   ]
  },
  {
   "cell_type": "code",
   "execution_count": 2,
   "metadata": {},
   "outputs": [],
   "source": [
    "from omnotes import get_preds, score_model, human_readify"
   ]
  },
  {
   "cell_type": "code",
   "execution_count": 29,
   "metadata": {},
   "outputs": [],
   "source": [
    "import pickle"
   ]
  },
  {
   "cell_type": "markdown",
   "metadata": {},
   "source": [
    "Get Data"
   ]
  },
  {
   "cell_type": "code",
   "execution_count": 3,
   "metadata": {},
   "outputs": [
    {
     "data": {
      "text/html": [
       "<div>\n",
       "<style scoped>\n",
       "    .dataframe tbody tr th:only-of-type {\n",
       "        vertical-align: middle;\n",
       "    }\n",
       "\n",
       "    .dataframe tbody tr th {\n",
       "        vertical-align: top;\n",
       "    }\n",
       "\n",
       "    .dataframe thead th {\n",
       "        text-align: right;\n",
       "    }\n",
       "</style>\n",
       "<table border=\"1\" class=\"dataframe\">\n",
       "  <thead>\n",
       "    <tr style=\"text-align: right;\">\n",
       "      <th></th>\n",
       "      <th>Ticket_Id</th>\n",
       "      <th>Asset_Id</th>\n",
       "      <th>asset_id</th>\n",
       "      <th>Resolution_Code</th>\n",
       "      <th>Root_Cause</th>\n",
       "      <th>Ticket_Creation_Reason</th>\n",
       "      <th>asset_type</th>\n",
       "      <th>latitude</th>\n",
       "      <th>longitude</th>\n",
       "      <th>tilt</th>\n",
       "      <th>azimuth</th>\n",
       "      <th>Ticket_Status</th>\n",
       "      <th>Ticket_Origin</th>\n",
       "      <th>Service_Type</th>\n",
       "      <th>Service_Partner</th>\n",
       "      <th>Ticket_Tags</th>\n",
       "      <th>Date_Ticket_Initially_Assigned</th>\n",
       "      <th>Date_Ticket_Closed</th>\n",
       "      <th>installed_by</th>\n",
       "      <th>installation_date</th>\n",
       "    </tr>\n",
       "  </thead>\n",
       "  <tbody>\n",
       "    <tr>\n",
       "      <th>0</th>\n",
       "      <td>23947</td>\n",
       "      <td>101112604</td>\n",
       "      <td>101112604</td>\n",
       "      <td>inspect system</td>\n",
       "      <td>root_cause_normal_wear_and_tear</td>\n",
       "      <td>communication offline</td>\n",
       "      <td>Residential Solar PV</td>\n",
       "      <td>38.944642</td>\n",
       "      <td>-121.248833</td>\n",
       "      <td>37.0</td>\n",
       "      <td>190.0</td>\n",
       "      <td>Closed</td>\n",
       "      <td>origin_omnidian_customer</td>\n",
       "      <td>Field Service</td>\n",
       "      <td>SunUp STS Service Team</td>\n",
       "      <td>comment_from_another_agent,communication_statu...</td>\n",
       "      <td>2018-10-22 17:25:27</td>\n",
       "      <td>2018-11-29</td>\n",
       "      <td>Williams Lifetime Builders Inc. DBA Lifetime S...</td>\n",
       "      <td>2013-04-04 00:00:00</td>\n",
       "    </tr>\n",
       "    <tr>\n",
       "      <th>1</th>\n",
       "      <td>23947</td>\n",
       "      <td>101112604</td>\n",
       "      <td>101112604</td>\n",
       "      <td>inspect system</td>\n",
       "      <td>root_cause_normal_wear_and_tear</td>\n",
       "      <td>communication offline</td>\n",
       "      <td>Residential Solar PV</td>\n",
       "      <td>38.944642</td>\n",
       "      <td>-121.248833</td>\n",
       "      <td>37.0</td>\n",
       "      <td>190.0</td>\n",
       "      <td>Closed</td>\n",
       "      <td>origin_omnidian_customer</td>\n",
       "      <td>Field Service</td>\n",
       "      <td>SunUp STS Service Team</td>\n",
       "      <td>comment_from_another_agent,communication_statu...</td>\n",
       "      <td>2018-10-22 17:25:27</td>\n",
       "      <td>2018-11-29</td>\n",
       "      <td>Williams Lifetime Builders Inc. DBA Lifetime S...</td>\n",
       "      <td>2013-04-04 00:00:00</td>\n",
       "    </tr>\n",
       "    <tr>\n",
       "      <th>2</th>\n",
       "      <td>27384</td>\n",
       "      <td>101113056</td>\n",
       "      <td>101113056</td>\n",
       "      <td>inspect system</td>\n",
       "      <td>root_cause_normal_wear_and_tear</td>\n",
       "      <td>system inspection</td>\n",
       "      <td>Residential Solar PV</td>\n",
       "      <td>34.101697</td>\n",
       "      <td>-118.146646</td>\n",
       "      <td>18.0</td>\n",
       "      <td>180.0</td>\n",
       "      <td>Closed</td>\n",
       "      <td>origin_homeowner</td>\n",
       "      <td>Field Service</td>\n",
       "      <td>IndaSpec Solar Service Team</td>\n",
       "      <td>comment_from_another_agent,comment_from_end-us...</td>\n",
       "      <td>2018-12-20 06:49:02</td>\n",
       "      <td>2019-02-09</td>\n",
       "      <td>Green Tech Solutions Inc.</td>\n",
       "      <td>2014-04-08 00:00:00</td>\n",
       "    </tr>\n",
       "    <tr>\n",
       "      <th>3</th>\n",
       "      <td>27384</td>\n",
       "      <td>101113056</td>\n",
       "      <td>101113056</td>\n",
       "      <td>inspect system</td>\n",
       "      <td>root_cause_normal_wear_and_tear</td>\n",
       "      <td>system inspection</td>\n",
       "      <td>Residential Solar PV</td>\n",
       "      <td>34.101697</td>\n",
       "      <td>-118.146646</td>\n",
       "      <td>18.0</td>\n",
       "      <td>180.0</td>\n",
       "      <td>Closed</td>\n",
       "      <td>origin_homeowner</td>\n",
       "      <td>Field Service</td>\n",
       "      <td>IndaSpec Solar Service Team</td>\n",
       "      <td>comment_from_another_agent,comment_from_end-us...</td>\n",
       "      <td>2018-12-20 06:49:02</td>\n",
       "      <td>2019-02-09</td>\n",
       "      <td>Green Tech Solutions Inc.</td>\n",
       "      <td>2014-04-08 00:00:00</td>\n",
       "    </tr>\n",
       "    <tr>\n",
       "      <th>4</th>\n",
       "      <td>27384</td>\n",
       "      <td>101113056</td>\n",
       "      <td>101113056</td>\n",
       "      <td>inspect system</td>\n",
       "      <td>root_cause_normal_wear_and_tear</td>\n",
       "      <td>system inspection</td>\n",
       "      <td>Residential Solar PV</td>\n",
       "      <td>34.101697</td>\n",
       "      <td>-118.146646</td>\n",
       "      <td>18.0</td>\n",
       "      <td>90.0</td>\n",
       "      <td>Closed</td>\n",
       "      <td>origin_homeowner</td>\n",
       "      <td>Field Service</td>\n",
       "      <td>IndaSpec Solar Service Team</td>\n",
       "      <td>comment_from_another_agent,comment_from_end-us...</td>\n",
       "      <td>2018-12-20 06:49:02</td>\n",
       "      <td>2019-02-09</td>\n",
       "      <td>Green Tech Solutions Inc.</td>\n",
       "      <td>2014-04-08 00:00:00</td>\n",
       "    </tr>\n",
       "  </tbody>\n",
       "</table>\n",
       "</div>"
      ],
      "text/plain": [
       "   Ticket_Id   Asset_Id   asset_id Resolution_Code  \\\n",
       "0      23947  101112604  101112604  inspect system   \n",
       "1      23947  101112604  101112604  inspect system   \n",
       "2      27384  101113056  101113056  inspect system   \n",
       "3      27384  101113056  101113056  inspect system   \n",
       "4      27384  101113056  101113056  inspect system   \n",
       "\n",
       "                        Root_Cause Ticket_Creation_Reason  \\\n",
       "0  root_cause_normal_wear_and_tear  communication offline   \n",
       "1  root_cause_normal_wear_and_tear  communication offline   \n",
       "2  root_cause_normal_wear_and_tear      system inspection   \n",
       "3  root_cause_normal_wear_and_tear      system inspection   \n",
       "4  root_cause_normal_wear_and_tear      system inspection   \n",
       "\n",
       "             asset_type   latitude   longitude  tilt  azimuth Ticket_Status  \\\n",
       "0  Residential Solar PV  38.944642 -121.248833  37.0    190.0        Closed   \n",
       "1  Residential Solar PV  38.944642 -121.248833  37.0    190.0        Closed   \n",
       "2  Residential Solar PV  34.101697 -118.146646  18.0    180.0        Closed   \n",
       "3  Residential Solar PV  34.101697 -118.146646  18.0    180.0        Closed   \n",
       "4  Residential Solar PV  34.101697 -118.146646  18.0     90.0        Closed   \n",
       "\n",
       "              Ticket_Origin   Service_Type              Service_Partner  \\\n",
       "0  origin_omnidian_customer  Field Service       SunUp STS Service Team   \n",
       "1  origin_omnidian_customer  Field Service       SunUp STS Service Team   \n",
       "2          origin_homeowner  Field Service  IndaSpec Solar Service Team   \n",
       "3          origin_homeowner  Field Service  IndaSpec Solar Service Team   \n",
       "4          origin_homeowner  Field Service  IndaSpec Solar Service Team   \n",
       "\n",
       "                                         Ticket_Tags  \\\n",
       "0  comment_from_another_agent,communication_statu...   \n",
       "1  comment_from_another_agent,communication_statu...   \n",
       "2  comment_from_another_agent,comment_from_end-us...   \n",
       "3  comment_from_another_agent,comment_from_end-us...   \n",
       "4  comment_from_another_agent,comment_from_end-us...   \n",
       "\n",
       "  Date_Ticket_Initially_Assigned Date_Ticket_Closed  \\\n",
       "0            2018-10-22 17:25:27         2018-11-29   \n",
       "1            2018-10-22 17:25:27         2018-11-29   \n",
       "2            2018-12-20 06:49:02         2019-02-09   \n",
       "3            2018-12-20 06:49:02         2019-02-09   \n",
       "4            2018-12-20 06:49:02         2019-02-09   \n",
       "\n",
       "                                        installed_by    installation_date  \n",
       "0  Williams Lifetime Builders Inc. DBA Lifetime S...  2013-04-04 00:00:00  \n",
       "1  Williams Lifetime Builders Inc. DBA Lifetime S...  2013-04-04 00:00:00  \n",
       "2                          Green Tech Solutions Inc.  2014-04-08 00:00:00  \n",
       "3                          Green Tech Solutions Inc.  2014-04-08 00:00:00  \n",
       "4                          Green Tech Solutions Inc.  2014-04-08 00:00:00  "
      ]
     },
     "execution_count": 3,
     "metadata": {},
     "output_type": "execute_result"
    }
   ],
   "source": [
    "data101 = pd.read_csv('data/eda101.csv')\n",
    "data101.head()"
   ]
  },
  {
   "cell_type": "code",
   "execution_count": 4,
   "metadata": {},
   "outputs": [
    {
     "name": "stdout",
     "output_type": "stream",
     "text": [
      "<class 'pandas.core.frame.DataFrame'>\n",
      "RangeIndex: 861 entries, 0 to 860\n",
      "Data columns (total 20 columns):\n",
      "Ticket_Id                         861 non-null int64\n",
      "Asset_Id                          861 non-null int64\n",
      "asset_id                          861 non-null int64\n",
      "Resolution_Code                   861 non-null object\n",
      "Root_Cause                        861 non-null object\n",
      "Ticket_Creation_Reason            861 non-null object\n",
      "asset_type                        861 non-null object\n",
      "latitude                          861 non-null float64\n",
      "longitude                         861 non-null float64\n",
      "tilt                              861 non-null float64\n",
      "azimuth                           861 non-null float64\n",
      "Ticket_Status                     861 non-null object\n",
      "Ticket_Origin                     861 non-null object\n",
      "Service_Type                      861 non-null object\n",
      "Service_Partner                   861 non-null object\n",
      "Ticket_Tags                       861 non-null object\n",
      "Date_Ticket_Initially_Assigned    861 non-null object\n",
      "Date_Ticket_Closed                861 non-null object\n",
      "installed_by                      861 non-null object\n",
      "installation_date                 861 non-null object\n",
      "dtypes: float64(4), int64(3), object(13)\n",
      "memory usage: 134.6+ KB\n"
     ]
    }
   ],
   "source": [
    "data101.info()"
   ]
  },
  {
   "cell_type": "markdown",
   "metadata": {},
   "source": [
    "Assign target to Root_Cause and Train-Test-Split"
   ]
  },
  {
   "cell_type": "code",
   "execution_count": 5,
   "metadata": {},
   "outputs": [],
   "source": [
    "X = data101.drop('Root_Cause', axis=1)\n",
    "y = data101['Root_Cause']\n",
    "X_train, X_test, y_train, y_test = train_test_split(X, y, random_state=42, test_size=0.2)"
   ]
  },
  {
   "cell_type": "markdown",
   "metadata": {},
   "source": [
    "One hot encoding: since our data is largely categorical but our models require numeric inputs, we one hot encode it.\n"
   ]
  },
  {
   "cell_type": "code",
   "execution_count": 6,
   "metadata": {},
   "outputs": [
    {
     "data": {
      "text/plain": [
       "OneHotEncoder(categorical_features=None, categories='auto', drop=None,\n",
       "              dtype=<class 'numpy.float64'>, handle_unknown='ignore',\n",
       "              n_values=None, sparse=True)"
      ]
     },
     "execution_count": 6,
     "metadata": {},
     "output_type": "execute_result"
    }
   ],
   "source": [
    "encoder = OneHotEncoder(categories='auto', handle_unknown='ignore')\n",
    "encoder.fit(X_train)"
   ]
  },
  {
   "cell_type": "code",
   "execution_count": 7,
   "metadata": {},
   "outputs": [],
   "source": [
    "X_train = pd.DataFrame(encoder.transform(X_train).toarray(),\n",
    "                         columns=encoder.get_feature_names())\n",
    "X_test = pd.DataFrame(encoder.transform(X_test).toarray(),\n",
    "                        columns=encoder.get_feature_names())"
   ]
  },
  {
   "cell_type": "markdown",
   "metadata": {},
   "source": [
    "Training our models."
   ]
  },
  {
   "cell_type": "code",
   "execution_count": 8,
   "metadata": {},
   "outputs": [
    {
     "data": {
      "text/plain": [
       "KNeighborsClassifier(algorithm='auto', leaf_size=30, metric='minkowski',\n",
       "                     metric_params=None, n_jobs=None, n_neighbors=5, p=2,\n",
       "                     weights='uniform')"
      ]
     },
     "execution_count": 8,
     "metadata": {},
     "output_type": "execute_result"
    }
   ],
   "source": [
    "knn = KNeighborsClassifier()\n",
    "knn.fit(X_train, y_train)"
   ]
  },
  {
   "cell_type": "code",
   "execution_count": 34,
   "metadata": {},
   "outputs": [],
   "source": [
    "filename = '101_knn.pkl'\n",
    "pickle.dump(knn, open(filename, 'wb'))"
   ]
  },
  {
   "cell_type": "code",
   "execution_count": 9,
   "metadata": {},
   "outputs": [
    {
     "data": {
      "text/plain": [
       "LogisticRegression(C=1.0, class_weight=None, dual=False, fit_intercept=True,\n",
       "                   intercept_scaling=1, l1_ratio=None, max_iter=1000,\n",
       "                   multi_class='multinomial', n_jobs=None, penalty='l2',\n",
       "                   random_state=None, solver='lbfgs', tol=0.0001, verbose=0,\n",
       "                   warm_start=False)"
      ]
     },
     "execution_count": 9,
     "metadata": {},
     "output_type": "execute_result"
    }
   ],
   "source": [
    "lr = LogisticRegression(multi_class='multinomial', solver='lbfgs', max_iter=1000)\n",
    "lr.fit(X_train, y_train)"
   ]
  },
  {
   "cell_type": "code",
   "execution_count": 35,
   "metadata": {},
   "outputs": [],
   "source": [
    "filename = '101_lr.pkl'\n",
    "pickle.dump(lr, open(filename, 'wb'))"
   ]
  },
  {
   "cell_type": "code",
   "execution_count": 27,
   "metadata": {},
   "outputs": [
    {
     "data": {
      "text/plain": [
       "GradientBoostingClassifier(criterion='friedman_mse', init=None,\n",
       "                           learning_rate=0.1, loss='deviance', max_depth=3,\n",
       "                           max_features=None, max_leaf_nodes=None,\n",
       "                           min_impurity_decrease=0.0, min_impurity_split=None,\n",
       "                           min_samples_leaf=30, min_samples_split=2,\n",
       "                           min_weight_fraction_leaf=0.0, n_estimators=100,\n",
       "                           n_iter_no_change=None, presort='auto',\n",
       "                           random_state=42, subsample=1.0, tol=0.0001,\n",
       "                           validation_fraction=0.1, verbose=0,\n",
       "                           warm_start=False)"
      ]
     },
     "execution_count": 27,
     "metadata": {},
     "output_type": "execute_result"
    }
   ],
   "source": [
    "gb = GradientBoostingClassifier(random_state=42, min_samples_leaf=30)\n",
    "gb.fit(X_train, y_train)"
   ]
  },
  {
   "cell_type": "code",
   "execution_count": 36,
   "metadata": {},
   "outputs": [],
   "source": [
    "filename = '101_gb.pkl'\n",
    "pickle.dump(gb, open(filename, 'wb'))"
   ]
  },
  {
   "cell_type": "code",
   "execution_count": 37,
   "metadata": {},
   "outputs": [
    {
     "data": {
      "text/plain": [
       "DecisionTreeClassifier(class_weight=None, criterion='gini', max_depth=None,\n",
       "                       max_features=None, max_leaf_nodes=None,\n",
       "                       min_impurity_decrease=0.0, min_impurity_split=None,\n",
       "                       min_samples_leaf=30, min_samples_split=2,\n",
       "                       min_weight_fraction_leaf=0.0, presort=False,\n",
       "                       random_state=42, splitter='best')"
      ]
     },
     "execution_count": 37,
     "metadata": {},
     "output_type": "execute_result"
    }
   ],
   "source": [
    "dt = DecisionTreeClassifier(random_state=42, min_samples_leaf=30)\n",
    "dt.fit(X_train, y_train)"
   ]
  },
  {
   "cell_type": "code",
   "execution_count": 41,
   "metadata": {},
   "outputs": [],
   "source": [
    "filename = '101_dt.pkl'\n",
    "pickle.dump(dt, open(filename, 'wb'))"
   ]
  },
  {
   "cell_type": "code",
   "execution_count": 39,
   "metadata": {},
   "outputs": [
    {
     "data": {
      "text/plain": [
       "BaggingClassifier(base_estimator=None, bootstrap=True, bootstrap_features=False,\n",
       "                  max_features=1.0, max_samples=1.0, n_estimators=10,\n",
       "                  n_jobs=None, oob_score=False, random_state=25565, verbose=0,\n",
       "                  warm_start=False)"
      ]
     },
     "execution_count": 39,
     "metadata": {},
     "output_type": "execute_result"
    }
   ],
   "source": [
    "bg = BaggingClassifier(random_state=25565)\n",
    "bg.fit(X_train, y_train)"
   ]
  },
  {
   "cell_type": "code",
   "execution_count": 42,
   "metadata": {},
   "outputs": [],
   "source": [
    "filename = '101_bg.pkl'\n",
    "pickle.dump(bg, open(filename, 'wb'))"
   ]
  },
  {
   "cell_type": "code",
   "execution_count": 43,
   "metadata": {},
   "outputs": [],
   "source": [
    "rf = RandomForestClassifier(random_state=42, n_estimators=100)\n",
    "rf.fit(X_train, y_train);"
   ]
  },
  {
   "cell_type": "code",
   "execution_count": 44,
   "metadata": {},
   "outputs": [],
   "source": [
    "filename = '101_rf.pkl'\n",
    "pickle.dump(rf, open(filename, 'wb'))"
   ]
  },
  {
   "cell_type": "markdown",
   "metadata": {},
   "source": [
    "Let's show our results"
   ]
  },
  {
   "cell_type": "code",
   "execution_count": 25,
   "metadata": {},
   "outputs": [
    {
     "data": {
      "text/plain": [
       "0.6820809248554913"
      ]
     },
     "execution_count": 25,
     "metadata": {},
     "output_type": "execute_result"
    }
   ],
   "source": [
    "knn.score(X_test, y_test)"
   ]
  },
  {
   "cell_type": "code",
   "execution_count": 26,
   "metadata": {},
   "outputs": [
    {
     "data": {
      "text/plain": [
       "0.9017341040462428"
      ]
     },
     "execution_count": 26,
     "metadata": {},
     "output_type": "execute_result"
    }
   ],
   "source": [
    "lr.score(X_test, y_test)"
   ]
  },
  {
   "cell_type": "code",
   "execution_count": 28,
   "metadata": {},
   "outputs": [
    {
     "data": {
      "text/plain": [
       "0.7456647398843931"
      ]
     },
     "execution_count": 28,
     "metadata": {},
     "output_type": "execute_result"
    }
   ],
   "source": [
    "gb.score(X_test, y_test)"
   ]
  },
  {
   "cell_type": "code",
   "execution_count": 45,
   "metadata": {},
   "outputs": [
    {
     "data": {
      "text/plain": [
       "0.6936416184971098"
      ]
     },
     "execution_count": 45,
     "metadata": {},
     "output_type": "execute_result"
    }
   ],
   "source": [
    "dt.score(X_test, y_test)"
   ]
  },
  {
   "cell_type": "code",
   "execution_count": 46,
   "metadata": {},
   "outputs": [
    {
     "data": {
      "text/plain": [
       "0.9190751445086706"
      ]
     },
     "execution_count": 46,
     "metadata": {},
     "output_type": "execute_result"
    }
   ],
   "source": [
    "bg.score(X_test, y_test)"
   ]
  },
  {
   "cell_type": "code",
   "execution_count": 47,
   "metadata": {},
   "outputs": [
    {
     "data": {
      "text/plain": [
       "0.9075144508670521"
      ]
     },
     "execution_count": 47,
     "metadata": {},
     "output_type": "execute_result"
    }
   ],
   "source": [
    "rf.score(X_test, y_test)"
   ]
  },
  {
   "cell_type": "code",
   "execution_count": null,
   "metadata": {},
   "outputs": [],
   "source": []
  },
  {
   "cell_type": "markdown",
   "metadata": {},
   "source": [
    "What may be some other classifiers?"
   ]
  },
  {
   "cell_type": "code",
   "execution_count": 48,
   "metadata": {},
   "outputs": [],
   "source": [
    "from sklearn.utils.testing import all_estimators"
   ]
  },
  {
   "cell_type": "code",
   "execution_count": 56,
   "metadata": {},
   "outputs": [
    {
     "data": {
      "text/plain": [
       "array([0.  , 0.  , 0.  , 0.01, 0.  , 0.11, 0.  , 0.88, 0.  , 0.  ])"
      ]
     },
     "execution_count": 56,
     "metadata": {},
     "output_type": "execute_result"
    }
   ],
   "source": [
    "rf.predict_proba(X_test)[0]"
   ]
  },
  {
   "cell_type": "code",
   "execution_count": 60,
   "metadata": {},
   "outputs": [
    {
     "data": {
      "text/plain": [
       "array(['root_cause_normal_wear_and_tear',\n",
       "       'root_cause_major_component_failure_warranty',\n",
       "       'root_cause_normal_wear_and_tear',\n",
       "       'root_cause_normal_wear_and_tear',\n",
       "       'root_cause_major_component_failure_warranty'], dtype=object)"
      ]
     },
     "execution_count": 60,
     "metadata": {},
     "output_type": "execute_result"
    }
   ],
   "source": [
    "rf.predict(X_test)[0:5]"
   ]
  },
  {
   "cell_type": "code",
   "execution_count": 94,
   "metadata": {},
   "outputs": [],
   "source": [
    "l_props = lr.predict_proba(X_test)[1]"
   ]
  },
  {
   "cell_type": "code",
   "execution_count": 100,
   "metadata": {},
   "outputs": [],
   "source": [
    "zipp = list(zip(lr.classes_, l_props))"
   ]
  },
  {
   "cell_type": "code",
   "execution_count": 101,
   "metadata": {},
   "outputs": [
    {
     "data": {
      "text/plain": [
       "[('root_cause_design/sale_issue', 0.00043387759236169344),\n",
       " ('root_cause_environmental', 0.004206441640046431),\n",
       " ('root_cause_homeowner', 0.014217294259570568),\n",
       " ('root_cause_installer_workmanship', 0.004648355311296379),\n",
       " ('root_cause_major_component_failure_non-warranty', 0.0036398455245150647),\n",
       " ('root_cause_major_component_failure_warranty', 0.9000584314884308),\n",
       " ('root_cause_non-service_support', 0.027058029061024055),\n",
       " ('root_cause_normal_wear_and_tear', 0.0411124777776664),\n",
       " ('root_cause_roof_issue', 0.0027033523841786256),\n",
       " ('root_cause_service_workmanship', 0.0019218949609099132)]"
      ]
     },
     "execution_count": 101,
     "metadata": {},
     "output_type": "execute_result"
    }
   ],
   "source": [
    "zipp"
   ]
  },
  {
   "cell_type": "code",
   "execution_count": 110,
   "metadata": {},
   "outputs": [],
   "source": [
    "#want a dictionary that gives probability for each class, \n",
    "#prediction, and ground truth\n",
    "def display_preds_truth(model, obs, X_test, y_test):\n",
    "    probs = model.predict_proba(X_test)[obs]\n",
    "    classes = model.classes_\n",
    "    display = dict(zip(classes, probs))\n",
    "#     display['prediction'] = model.predict(X_test)[obs]\n",
    "    display['ground truth'] = y_test[obs]\n",
    "    return display\n",
    "        \n",
    "    \n",
    "    "
   ]
  },
  {
   "cell_type": "code",
   "execution_count": 129,
   "metadata": {},
   "outputs": [],
   "source": [
    "#want a dictionary that gives probability for each class,\n",
    "def display_probas(model, obs, X_test):\n",
    "    probs = model.predict_proba(X_test)[obs]\n",
    "    classes = model.classes_\n",
    "    display = dict(zip(classes, probs))\n",
    "    display['prediction'] = model.predict(X_test)[obs]\n",
    "    return display"
   ]
  },
  {
   "cell_type": "code",
   "execution_count": 130,
   "metadata": {},
   "outputs": [
    {
     "data": {
      "text/plain": [
       "{'root_cause_design/sale_issue': 0.00043387759236169344,\n",
       " 'root_cause_environmental': 0.004206441640046431,\n",
       " 'root_cause_homeowner': 0.014217294259570568,\n",
       " 'root_cause_installer_workmanship': 0.004648355311296379,\n",
       " 'root_cause_major_component_failure_non-warranty': 0.0036398455245150647,\n",
       " 'root_cause_major_component_failure_warranty': 0.9000584314884308,\n",
       " 'root_cause_non-service_support': 0.027058029061024055,\n",
       " 'root_cause_normal_wear_and_tear': 0.0411124777776664,\n",
       " 'root_cause_roof_issue': 0.0027033523841786256,\n",
       " 'root_cause_service_workmanship': 0.0019218949609099132,\n",
       " 'prediction': 'root_cause_major_component_failure_warranty'}"
      ]
     },
     "execution_count": 130,
     "metadata": {},
     "output_type": "execute_result"
    }
   ],
   "source": [
    "display_probas(lr, 1, X_test)"
   ]
  },
  {
   "cell_type": "code",
   "execution_count": 124,
   "metadata": {},
   "outputs": [
    {
     "data": {
      "text/plain": [
       "714                    root_cause_normal_wear_and_tear\n",
       "605        root_cause_major_component_failure_warranty\n",
       "120                    root_cause_normal_wear_and_tear\n",
       "208                    root_cause_normal_wear_and_tear\n",
       "380        root_cause_major_component_failure_warranty\n",
       "816        root_cause_major_component_failure_warranty\n",
       "575                    root_cause_normal_wear_and_tear\n",
       "266        root_cause_major_component_failure_warranty\n",
       "557                    root_cause_normal_wear_and_tear\n",
       "825                    root_cause_normal_wear_and_tear\n",
       "580                    root_cause_normal_wear_and_tear\n",
       "327                    root_cause_normal_wear_and_tear\n",
       "623    root_cause_major_component_failure_non-warranty\n",
       "365        root_cause_major_component_failure_warranty\n",
       "827                     root_cause_non-service_support\n",
       "198                    root_cause_normal_wear_and_tear\n",
       "456                    root_cause_normal_wear_and_tear\n",
       "465                    root_cause_normal_wear_and_tear\n",
       "311                    root_cause_normal_wear_and_tear\n",
       "331                    root_cause_normal_wear_and_tear\n",
       "393                    root_cause_normal_wear_and_tear\n",
       "634                    root_cause_normal_wear_and_tear\n",
       "788        root_cause_major_component_failure_warranty\n",
       "743                    root_cause_normal_wear_and_tear\n",
       "851                              root_cause_roof_issue\n",
       "137                    root_cause_normal_wear_and_tear\n",
       "809                    root_cause_normal_wear_and_tear\n",
       "440        root_cause_major_component_failure_warranty\n",
       "859                    root_cause_normal_wear_and_tear\n",
       "432        root_cause_major_component_failure_warranty\n",
       "                            ...                       \n",
       "653                              root_cause_roof_issue\n",
       "332        root_cause_major_component_failure_warranty\n",
       "672        root_cause_major_component_failure_warranty\n",
       "118                    root_cause_normal_wear_and_tear\n",
       "259                    root_cause_normal_wear_and_tear\n",
       "254                     root_cause_non-service_support\n",
       "29                     root_cause_normal_wear_and_tear\n",
       "210        root_cause_major_component_failure_warranty\n",
       "381        root_cause_major_component_failure_warranty\n",
       "213                     root_cause_non-service_support\n",
       "796                    root_cause_normal_wear_and_tear\n",
       "81                     root_cause_normal_wear_and_tear\n",
       "715                    root_cause_normal_wear_and_tear\n",
       "342                    root_cause_normal_wear_and_tear\n",
       "539                    root_cause_normal_wear_and_tear\n",
       "314                    root_cause_normal_wear_and_tear\n",
       "756                    root_cause_normal_wear_and_tear\n",
       "209        root_cause_major_component_failure_warranty\n",
       "250                     root_cause_non-service_support\n",
       "518                               root_cause_homeowner\n",
       "737                    root_cause_normal_wear_and_tear\n",
       "411        root_cause_major_component_failure_warranty\n",
       "711                               root_cause_homeowner\n",
       "490                    root_cause_normal_wear_and_tear\n",
       "611                    root_cause_normal_wear_and_tear\n",
       "235        root_cause_major_component_failure_warranty\n",
       "333        root_cause_major_component_failure_warranty\n",
       "215                    root_cause_normal_wear_and_tear\n",
       "795                     root_cause_non-service_support\n",
       "7                      root_cause_normal_wear_and_tear\n",
       "Name: Root_Cause, Length: 173, dtype: object"
      ]
     },
     "execution_count": 124,
     "metadata": {},
     "output_type": "execute_result"
    }
   ],
   "source": [
    "y_test"
   ]
  },
  {
   "cell_type": "code",
   "execution_count": null,
   "metadata": {},
   "outputs": [],
   "source": []
  }
 ],
 "metadata": {
  "kernelspec": {
   "display_name": "learn2env",
   "language": "python",
   "name": "learn2env"
  },
  "language_info": {
   "codemirror_mode": {
    "name": "ipython",
    "version": 3
   },
   "file_extension": ".py",
   "mimetype": "text/x-python",
   "name": "python",
   "nbconvert_exporter": "python",
   "pygments_lexer": "ipython3",
   "version": "3.7.3"
  }
 },
 "nbformat": 4,
 "nbformat_minor": 2
}
