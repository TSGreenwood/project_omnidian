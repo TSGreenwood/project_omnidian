{
 "cells": [
  {
   "cell_type": "markdown",
   "metadata": {},
   "source": [
    "# In which we drop the dimensionally mismatched features to improve the linear algebra for our models."
   ]
  },
  {
   "cell_type": "markdown",
   "metadata": {},
   "source": [
    "#### Factors from SQL query:'root_cause'(target variable), 'ticket_id', 'ticket_creation_reason',\n",
    "####      'latitude', 'longitude', 'ticket_origin','service_partner','installed_by'\n",
    "\n",
    "#### Models compared: 'Logistic Regression', 'Nearest Neighbors', 'RBF SVM',\n",
    "####         'Decision Tree', 'Random Forest', 'Neural Net', 'Bagging', 'AdaBoost',\n",
    "####       'Gradient Boost'"
   ]
  },
  {
   "cell_type": "code",
   "execution_count": 1,
   "metadata": {},
   "outputs": [
    {
     "name": "stderr",
     "output_type": "stream",
     "text": [
      "/Users/humanperson/anaconda3/envs/learn2env/lib/python3.7/site-packages/sklearn/externals/six.py:31: DeprecationWarning: The module is deprecated in version 0.21 and will be removed in version 0.23 since we've dropped support for Python 2.7. Please rely on the official version of six (https://pypi.org/project/six/).\n",
      "  \"(https://pypi.org/project/six/).\", DeprecationWarning)\n"
     ]
    }
   ],
   "source": [
    "import sklearn\n",
    "from sklearn.tree import DecisionTreeClassifier\n",
    "from sklearn.ensemble import GradientBoostingClassifier, RandomForestClassifier, BaggingClassifier, AdaBoostClassifier\n",
    "from sklearn.linear_model import LogisticRegression\n",
    "from sklearn.neural_network import MLPClassifier\n",
    "from catboost import Pool, CatBoostClassifier\n",
    "from sklearn.neighbors import KNeighborsClassifier\n",
    "from sklearn.svm import SVC\n",
    "from scipy import stats\n",
    "from sklearn.model_selection import train_test_split\n",
    "from sklearn.preprocessing import OneHotEncoder\n",
    "from sklearn.metrics import classification_report, log_loss, f1_score, auc\n",
    "from sklearn.pipeline import FeatureUnion\n",
    "from sklearn.compose import ColumnTransformer, make_column_transformer\n",
    "from sklearn import tree\n",
    "import numpy as np\n",
    "import pandas as pd\n",
    "from datetime import datetime\n",
    "from imblearn.over_sampling import SMOTE\n",
    "from sklearn.utils import resample\n",
    "import matplotlib.pyplot as plt\n",
    "%matplotlib inline\n",
    "plt.style.use('seaborn-paper')\n",
    "import pickle"
   ]
  },
  {
   "cell_type": "markdown",
   "metadata": {},
   "source": [
    "Get Data"
   ]
  },
  {
   "cell_type": "code",
   "execution_count": 2,
   "metadata": {},
   "outputs": [],
   "source": [
    "df_all_shards_c = pd.read_csv('../data/all_shards_c.csv')"
   ]
  },
  {
   "cell_type": "code",
   "execution_count": 3,
   "metadata": {},
   "outputs": [
    {
     "name": "stdout",
     "output_type": "stream",
     "text": [
      "<class 'pandas.core.frame.DataFrame'>\n",
      "RangeIndex: 3633 entries, 0 to 3632\n",
      "Data columns (total 8 columns):\n",
      "ticket_id                 3633 non-null int64\n",
      "root_cause                3633 non-null object\n",
      "ticket_creation_reason    3616 non-null object\n",
      "ticket_origin             3632 non-null object\n",
      "service_partner           3633 non-null object\n",
      "latitude                  3633 non-null float64\n",
      "longitude                 3633 non-null float64\n",
      "installed_by              3615 non-null object\n",
      "dtypes: float64(2), int64(1), object(5)\n",
      "memory usage: 227.1+ KB\n"
     ]
    }
   ],
   "source": [
    "df_all_shards_c.info()"
   ]
  },
  {
   "cell_type": "code",
   "execution_count": 5,
   "metadata": {},
   "outputs": [
    {
     "data": {
      "text/html": [
       "<div>\n",
       "<style scoped>\n",
       "    .dataframe tbody tr th:only-of-type {\n",
       "        vertical-align: middle;\n",
       "    }\n",
       "\n",
       "    .dataframe tbody tr th {\n",
       "        vertical-align: top;\n",
       "    }\n",
       "\n",
       "    .dataframe thead th {\n",
       "        text-align: right;\n",
       "    }\n",
       "</style>\n",
       "<table border=\"1\" class=\"dataframe\">\n",
       "  <thead>\n",
       "    <tr style=\"text-align: right;\">\n",
       "      <th></th>\n",
       "      <th>ticket_id</th>\n",
       "      <th>root_cause</th>\n",
       "      <th>ticket_creation_reason</th>\n",
       "      <th>ticket_origin</th>\n",
       "      <th>service_partner</th>\n",
       "      <th>latitude</th>\n",
       "      <th>longitude</th>\n",
       "      <th>installed_by</th>\n",
       "    </tr>\n",
       "  </thead>\n",
       "  <tbody>\n",
       "    <tr>\n",
       "      <th>0</th>\n",
       "      <td>23947</td>\n",
       "      <td>root_cause_normal_wear_and_tear</td>\n",
       "      <td>communication offline</td>\n",
       "      <td>origin_omnidian_customer</td>\n",
       "      <td>sunup sts service team</td>\n",
       "      <td>38.944642</td>\n",
       "      <td>-121.248833</td>\n",
       "      <td>williams lifetime builders inc. dba lifetime s...</td>\n",
       "    </tr>\n",
       "    <tr>\n",
       "      <th>1</th>\n",
       "      <td>27384</td>\n",
       "      <td>root_cause_normal_wear_and_tear</td>\n",
       "      <td>system inspection</td>\n",
       "      <td>origin_homeowner</td>\n",
       "      <td>indaspec solar service team</td>\n",
       "      <td>34.101697</td>\n",
       "      <td>-118.146646</td>\n",
       "      <td>green tech solutions inc.</td>\n",
       "    </tr>\n",
       "    <tr>\n",
       "      <th>2</th>\n",
       "      <td>22820</td>\n",
       "      <td>root_cause_normal_wear_and_tear</td>\n",
       "      <td>communication offline</td>\n",
       "      <td>origin_omnidian_customer</td>\n",
       "      <td>sunsystem technology</td>\n",
       "      <td>34.075427</td>\n",
       "      <td>-117.167140</td>\n",
       "      <td>horizon solar power</td>\n",
       "    </tr>\n",
       "    <tr>\n",
       "      <th>3</th>\n",
       "      <td>8568</td>\n",
       "      <td>root_cause_normal_wear_and_tear</td>\n",
       "      <td>communication offline</td>\n",
       "      <td>origin_omnidian_customer</td>\n",
       "      <td>sunsystem technology</td>\n",
       "      <td>33.691802</td>\n",
       "      <td>-112.286230</td>\n",
       "      <td>arizona solar solutions</td>\n",
       "    </tr>\n",
       "    <tr>\n",
       "      <th>4</th>\n",
       "      <td>7826</td>\n",
       "      <td>root_cause_normal_wear_and_tear</td>\n",
       "      <td>communication offline</td>\n",
       "      <td>origin_omnidian_customer</td>\n",
       "      <td>sunsystem technology</td>\n",
       "      <td>33.691802</td>\n",
       "      <td>-112.286230</td>\n",
       "      <td>arizona solar solutions</td>\n",
       "    </tr>\n",
       "  </tbody>\n",
       "</table>\n",
       "</div>"
      ],
      "text/plain": [
       "   ticket_id                       root_cause ticket_creation_reason  \\\n",
       "0      23947  root_cause_normal_wear_and_tear  communication offline   \n",
       "1      27384  root_cause_normal_wear_and_tear      system inspection   \n",
       "2      22820  root_cause_normal_wear_and_tear  communication offline   \n",
       "3       8568  root_cause_normal_wear_and_tear  communication offline   \n",
       "4       7826  root_cause_normal_wear_and_tear  communication offline   \n",
       "\n",
       "              ticket_origin              service_partner   latitude  \\\n",
       "0  origin_omnidian_customer       sunup sts service team  38.944642   \n",
       "1          origin_homeowner  indaspec solar service team  34.101697   \n",
       "2  origin_omnidian_customer         sunsystem technology  34.075427   \n",
       "3  origin_omnidian_customer         sunsystem technology  33.691802   \n",
       "4  origin_omnidian_customer         sunsystem technology  33.691802   \n",
       "\n",
       "    longitude                                       installed_by  \n",
       "0 -121.248833  williams lifetime builders inc. dba lifetime s...  \n",
       "1 -118.146646                          green tech solutions inc.  \n",
       "2 -117.167140                                horizon solar power  \n",
       "3 -112.286230                            arizona solar solutions  \n",
       "4 -112.286230                            arizona solar solutions  "
      ]
     },
     "execution_count": 5,
     "metadata": {},
     "output_type": "execute_result"
    }
   ],
   "source": [
    "df_all_shards_c.head()"
   ]
  },
  {
   "cell_type": "markdown",
   "metadata": {},
   "source": [
    "Both ticket_id needs to be a string."
   ]
  },
  {
   "cell_type": "code",
   "execution_count": 6,
   "metadata": {},
   "outputs": [
    {
     "name": "stdout",
     "output_type": "stream",
     "text": [
      "<class 'pandas.core.frame.DataFrame'>\n",
      "RangeIndex: 3633 entries, 0 to 3632\n",
      "Data columns (total 8 columns):\n",
      "ticket_id                 3633 non-null object\n",
      "root_cause                3633 non-null object\n",
      "ticket_creation_reason    3616 non-null object\n",
      "ticket_origin             3632 non-null object\n",
      "service_partner           3633 non-null object\n",
      "latitude                  3633 non-null float64\n",
      "longitude                 3633 non-null float64\n",
      "installed_by              3615 non-null object\n",
      "dtypes: float64(2), object(6)\n",
      "memory usage: 227.1+ KB\n"
     ]
    }
   ],
   "source": [
    "df_all_shards_c[['ticket_id']] = df_all_shards_c[['ticket_id']].astype(object)\n",
    "df_all_shards_c.info()"
   ]
  },
  {
   "cell_type": "code",
   "execution_count": 7,
   "metadata": {},
   "outputs": [
    {
     "data": {
      "text/plain": [
       "3591"
      ]
     },
     "execution_count": 7,
     "metadata": {},
     "output_type": "execute_result"
    }
   ],
   "source": [
    "df_all_shards_c.ticket_id.nunique()"
   ]
  },
  {
   "cell_type": "markdown",
   "metadata": {},
   "source": [
    "## Deal with duplicates and nulls. A lot of this data came from the time before Omnidian. It's missing information we consider relevant, so we'll drop those columns."
   ]
  },
  {
   "cell_type": "code",
   "execution_count": 8,
   "metadata": {},
   "outputs": [
    {
     "name": "stdout",
     "output_type": "stream",
     "text": [
      "<class 'pandas.core.frame.DataFrame'>\n",
      "Int64Index: 3591 entries, 0 to 3632\n",
      "Data columns (total 8 columns):\n",
      "ticket_id                 3591 non-null object\n",
      "root_cause                3591 non-null object\n",
      "ticket_creation_reason    3574 non-null object\n",
      "ticket_origin             3590 non-null object\n",
      "service_partner           3591 non-null object\n",
      "latitude                  3591 non-null float64\n",
      "longitude                 3591 non-null float64\n",
      "installed_by              3573 non-null object\n",
      "dtypes: float64(2), object(6)\n",
      "memory usage: 252.5+ KB\n"
     ]
    }
   ],
   "source": [
    "df_all_shards_c.drop_duplicates(subset=['ticket_id'], inplace=True)\n",
    "df_all_shards_c.info()"
   ]
  },
  {
   "cell_type": "code",
   "execution_count": 9,
   "metadata": {},
   "outputs": [
    {
     "data": {
      "text/plain": [
       "ticket_id                 False\n",
       "root_cause                False\n",
       "ticket_creation_reason     True\n",
       "ticket_origin              True\n",
       "service_partner           False\n",
       "latitude                  False\n",
       "longitude                 False\n",
       "installed_by               True\n",
       "dtype: bool"
      ]
     },
     "execution_count": 9,
     "metadata": {},
     "output_type": "execute_result"
    }
   ],
   "source": [
    "df_all_shards_c.isnull().any()"
   ]
  },
  {
   "cell_type": "code",
   "execution_count": 10,
   "metadata": {},
   "outputs": [
    {
     "name": "stdout",
     "output_type": "stream",
     "text": [
      "<class 'pandas.core.frame.DataFrame'>\n",
      "Int64Index: 3555 entries, 0 to 3617\n",
      "Data columns (total 8 columns):\n",
      "ticket_id                 3555 non-null object\n",
      "root_cause                3555 non-null object\n",
      "ticket_creation_reason    3555 non-null object\n",
      "ticket_origin             3555 non-null object\n",
      "service_partner           3555 non-null object\n",
      "latitude                  3555 non-null float64\n",
      "longitude                 3555 non-null float64\n",
      "installed_by              3555 non-null object\n",
      "dtypes: float64(2), object(6)\n",
      "memory usage: 250.0+ KB\n"
     ]
    }
   ],
   "source": [
    "df_all_shards_c.dropna(axis=0, how='any', inplace=True)\n",
    "df_all_shards_c.info()"
   ]
  },
  {
   "cell_type": "code",
   "execution_count": 11,
   "metadata": {},
   "outputs": [
    {
     "data": {
      "text/plain": [
       "ticket_id                 False\n",
       "root_cause                False\n",
       "ticket_creation_reason    False\n",
       "ticket_origin             False\n",
       "service_partner           False\n",
       "latitude                  False\n",
       "longitude                 False\n",
       "installed_by              False\n",
       "dtype: bool"
      ]
     },
     "execution_count": 11,
     "metadata": {},
     "output_type": "execute_result"
    }
   ],
   "source": [
    "df_all_shards_c.isnull().any()"
   ]
  },
  {
   "cell_type": "markdown",
   "metadata": {},
   "source": [
    "# Convert everthing to numbers for our machine to read."
   ]
  },
  {
   "cell_type": "markdown",
   "metadata": {},
   "source": [
    "### We want to use ticket_id to look things up later and will not encode it."
   ]
  },
  {
   "cell_type": "code",
   "execution_count": 12,
   "metadata": {},
   "outputs": [
    {
     "name": "stdout",
     "output_type": "stream",
     "text": [
      "<class 'pandas.core.frame.DataFrame'>\n",
      "Int64Index: 3555 entries, 0 to 3617\n",
      "Data columns (total 6 columns):\n",
      "ticket_creation_reason    3555 non-null object\n",
      "ticket_origin             3555 non-null object\n",
      "service_partner           3555 non-null object\n",
      "latitude                  3555 non-null float64\n",
      "longitude                 3555 non-null float64\n",
      "installed_by              3555 non-null object\n",
      "dtypes: float64(2), object(4)\n",
      "memory usage: 194.4+ KB\n"
     ]
    }
   ],
   "source": [
    "df_sans_ticket = df_all_shards_c.drop(['ticket_id', 'root_cause'], axis=1).copy()\n",
    "df_sans_ticket.info()"
   ]
  },
  {
   "cell_type": "code",
   "execution_count": 13,
   "metadata": {},
   "outputs": [
    {
     "data": {
      "text/plain": [
       "['ticket_creation_reason', 'ticket_origin', 'service_partner', 'installed_by']"
      ]
     },
     "execution_count": 13,
     "metadata": {},
     "output_type": "execute_result"
    }
   ],
   "source": [
    "# List our categorical features\n",
    "categoricals = list(df_sans_ticket.columns[(df_sans_ticket.dtypes.values == np.dtype('object'))])\n",
    "categoricals"
   ]
  },
  {
   "cell_type": "code",
   "execution_count": 14,
   "metadata": {},
   "outputs": [
    {
     "data": {
      "text/plain": [
       "OneHotEncoder(categorical_features=None, categories='auto', drop=None,\n",
       "              dtype=<class 'numpy.float64'>, handle_unknown='ignore',\n",
       "              n_values=None, sparse=True)"
      ]
     },
     "execution_count": 14,
     "metadata": {},
     "output_type": "execute_result"
    }
   ],
   "source": [
    "encoder = OneHotEncoder(categories='auto', handle_unknown='ignore')\n",
    "encoder.fit(df_sans_ticket[categoricals])"
   ]
  },
  {
   "cell_type": "code",
   "execution_count": 15,
   "metadata": {},
   "outputs": [
    {
     "name": "stdout",
     "output_type": "stream",
     "text": [
      "<class 'pandas.core.frame.DataFrame'>\n",
      "RangeIndex: 3555 entries, 0 to 3554\n",
      "Columns: 310 entries, x0_communication offline to x3_williams lifetime builders inc. dba lifetime solar\n",
      "dtypes: float64(310)\n",
      "memory usage: 8.4 MB\n"
     ]
    }
   ],
   "source": [
    "enc_cat = pd.DataFrame(encoder.transform(df_sans_ticket[categoricals]).toarray(),\n",
    "                         columns=encoder.get_feature_names())\n",
    "enc_cat.info()"
   ]
  },
  {
   "cell_type": "code",
   "execution_count": 16,
   "metadata": {},
   "outputs": [
    {
     "data": {
      "text/html": [
       "<div>\n",
       "<style scoped>\n",
       "    .dataframe tbody tr th:only-of-type {\n",
       "        vertical-align: middle;\n",
       "    }\n",
       "\n",
       "    .dataframe tbody tr th {\n",
       "        vertical-align: top;\n",
       "    }\n",
       "\n",
       "    .dataframe thead th {\n",
       "        text-align: right;\n",
       "    }\n",
       "</style>\n",
       "<table border=\"1\" class=\"dataframe\">\n",
       "  <thead>\n",
       "    <tr style=\"text-align: right;\">\n",
       "      <th></th>\n",
       "      <th>x0_communication offline</th>\n",
       "      <th>x0_duplicate ticket</th>\n",
       "      <th>x0_homeowner cannot access portal</th>\n",
       "      <th>x0_inquiry about service ticket</th>\n",
       "      <th>x0_install punchlist</th>\n",
       "      <th>x0_non-service inquiry</th>\n",
       "      <th>x0_performance guarantee review</th>\n",
       "      <th>x0_permanent system removal</th>\n",
       "      <th>x0_reinstallation</th>\n",
       "      <th>x0_roof leak</th>\n",
       "      <th>...</th>\n",
       "      <th>x3_titan solar power</th>\n",
       "      <th>x3_trinity</th>\n",
       "      <th>x3_united solar associates woburn</th>\n",
       "      <th>x3_unleash solar</th>\n",
       "      <th>x3_usa solar littleton</th>\n",
       "      <th>x3_valley unique electric inc fresno</th>\n",
       "      <th>x3_verde solar phoenix</th>\n",
       "      <th>x3_verengo inc.</th>\n",
       "      <th>x3_vivint solar</th>\n",
       "      <th>x3_williams lifetime builders inc. dba lifetime solar</th>\n",
       "    </tr>\n",
       "  </thead>\n",
       "  <tbody>\n",
       "    <tr>\n",
       "      <th>0</th>\n",
       "      <td>1.0</td>\n",
       "      <td>0.0</td>\n",
       "      <td>0.0</td>\n",
       "      <td>0.0</td>\n",
       "      <td>0.0</td>\n",
       "      <td>0.0</td>\n",
       "      <td>0.0</td>\n",
       "      <td>0.0</td>\n",
       "      <td>0.0</td>\n",
       "      <td>0.0</td>\n",
       "      <td>...</td>\n",
       "      <td>0.0</td>\n",
       "      <td>0.0</td>\n",
       "      <td>0.0</td>\n",
       "      <td>0.0</td>\n",
       "      <td>0.0</td>\n",
       "      <td>0.0</td>\n",
       "      <td>0.0</td>\n",
       "      <td>0.0</td>\n",
       "      <td>0.0</td>\n",
       "      <td>1.0</td>\n",
       "    </tr>\n",
       "    <tr>\n",
       "      <th>1</th>\n",
       "      <td>0.0</td>\n",
       "      <td>0.0</td>\n",
       "      <td>0.0</td>\n",
       "      <td>0.0</td>\n",
       "      <td>0.0</td>\n",
       "      <td>0.0</td>\n",
       "      <td>0.0</td>\n",
       "      <td>0.0</td>\n",
       "      <td>0.0</td>\n",
       "      <td>0.0</td>\n",
       "      <td>...</td>\n",
       "      <td>0.0</td>\n",
       "      <td>0.0</td>\n",
       "      <td>0.0</td>\n",
       "      <td>0.0</td>\n",
       "      <td>0.0</td>\n",
       "      <td>0.0</td>\n",
       "      <td>0.0</td>\n",
       "      <td>0.0</td>\n",
       "      <td>0.0</td>\n",
       "      <td>0.0</td>\n",
       "    </tr>\n",
       "    <tr>\n",
       "      <th>2</th>\n",
       "      <td>1.0</td>\n",
       "      <td>0.0</td>\n",
       "      <td>0.0</td>\n",
       "      <td>0.0</td>\n",
       "      <td>0.0</td>\n",
       "      <td>0.0</td>\n",
       "      <td>0.0</td>\n",
       "      <td>0.0</td>\n",
       "      <td>0.0</td>\n",
       "      <td>0.0</td>\n",
       "      <td>...</td>\n",
       "      <td>0.0</td>\n",
       "      <td>0.0</td>\n",
       "      <td>0.0</td>\n",
       "      <td>0.0</td>\n",
       "      <td>0.0</td>\n",
       "      <td>0.0</td>\n",
       "      <td>0.0</td>\n",
       "      <td>0.0</td>\n",
       "      <td>0.0</td>\n",
       "      <td>0.0</td>\n",
       "    </tr>\n",
       "    <tr>\n",
       "      <th>3</th>\n",
       "      <td>1.0</td>\n",
       "      <td>0.0</td>\n",
       "      <td>0.0</td>\n",
       "      <td>0.0</td>\n",
       "      <td>0.0</td>\n",
       "      <td>0.0</td>\n",
       "      <td>0.0</td>\n",
       "      <td>0.0</td>\n",
       "      <td>0.0</td>\n",
       "      <td>0.0</td>\n",
       "      <td>...</td>\n",
       "      <td>0.0</td>\n",
       "      <td>0.0</td>\n",
       "      <td>0.0</td>\n",
       "      <td>0.0</td>\n",
       "      <td>0.0</td>\n",
       "      <td>0.0</td>\n",
       "      <td>0.0</td>\n",
       "      <td>0.0</td>\n",
       "      <td>0.0</td>\n",
       "      <td>0.0</td>\n",
       "    </tr>\n",
       "    <tr>\n",
       "      <th>4</th>\n",
       "      <td>1.0</td>\n",
       "      <td>0.0</td>\n",
       "      <td>0.0</td>\n",
       "      <td>0.0</td>\n",
       "      <td>0.0</td>\n",
       "      <td>0.0</td>\n",
       "      <td>0.0</td>\n",
       "      <td>0.0</td>\n",
       "      <td>0.0</td>\n",
       "      <td>0.0</td>\n",
       "      <td>...</td>\n",
       "      <td>0.0</td>\n",
       "      <td>0.0</td>\n",
       "      <td>0.0</td>\n",
       "      <td>0.0</td>\n",
       "      <td>0.0</td>\n",
       "      <td>0.0</td>\n",
       "      <td>0.0</td>\n",
       "      <td>0.0</td>\n",
       "      <td>0.0</td>\n",
       "      <td>0.0</td>\n",
       "    </tr>\n",
       "  </tbody>\n",
       "</table>\n",
       "<p>5 rows × 310 columns</p>\n",
       "</div>"
      ],
      "text/plain": [
       "   x0_communication offline  x0_duplicate ticket  \\\n",
       "0                       1.0                  0.0   \n",
       "1                       0.0                  0.0   \n",
       "2                       1.0                  0.0   \n",
       "3                       1.0                  0.0   \n",
       "4                       1.0                  0.0   \n",
       "\n",
       "   x0_homeowner cannot access portal  x0_inquiry about service ticket  \\\n",
       "0                                0.0                              0.0   \n",
       "1                                0.0                              0.0   \n",
       "2                                0.0                              0.0   \n",
       "3                                0.0                              0.0   \n",
       "4                                0.0                              0.0   \n",
       "\n",
       "   x0_install punchlist  x0_non-service inquiry  \\\n",
       "0                   0.0                     0.0   \n",
       "1                   0.0                     0.0   \n",
       "2                   0.0                     0.0   \n",
       "3                   0.0                     0.0   \n",
       "4                   0.0                     0.0   \n",
       "\n",
       "   x0_performance guarantee review  x0_permanent system removal  \\\n",
       "0                              0.0                          0.0   \n",
       "1                              0.0                          0.0   \n",
       "2                              0.0                          0.0   \n",
       "3                              0.0                          0.0   \n",
       "4                              0.0                          0.0   \n",
       "\n",
       "   x0_reinstallation  x0_roof leak  ...  x3_titan solar power  x3_trinity  \\\n",
       "0                0.0           0.0  ...                   0.0         0.0   \n",
       "1                0.0           0.0  ...                   0.0         0.0   \n",
       "2                0.0           0.0  ...                   0.0         0.0   \n",
       "3                0.0           0.0  ...                   0.0         0.0   \n",
       "4                0.0           0.0  ...                   0.0         0.0   \n",
       "\n",
       "   x3_united solar associates woburn  x3_unleash solar  \\\n",
       "0                                0.0               0.0   \n",
       "1                                0.0               0.0   \n",
       "2                                0.0               0.0   \n",
       "3                                0.0               0.0   \n",
       "4                                0.0               0.0   \n",
       "\n",
       "   x3_usa solar littleton  x3_valley unique electric inc fresno  \\\n",
       "0                     0.0                                   0.0   \n",
       "1                     0.0                                   0.0   \n",
       "2                     0.0                                   0.0   \n",
       "3                     0.0                                   0.0   \n",
       "4                     0.0                                   0.0   \n",
       "\n",
       "   x3_verde solar phoenix  x3_verengo inc.  x3_vivint solar  \\\n",
       "0                     0.0              0.0              0.0   \n",
       "1                     0.0              0.0              0.0   \n",
       "2                     0.0              0.0              0.0   \n",
       "3                     0.0              0.0              0.0   \n",
       "4                     0.0              0.0              0.0   \n",
       "\n",
       "   x3_williams lifetime builders inc. dba lifetime solar  \n",
       "0                                                1.0      \n",
       "1                                                0.0      \n",
       "2                                                0.0      \n",
       "3                                                0.0      \n",
       "4                                                0.0      \n",
       "\n",
       "[5 rows x 310 columns]"
      ]
     },
     "execution_count": 16,
     "metadata": {},
     "output_type": "execute_result"
    }
   ],
   "source": [
    "# enc_cat.insert(loc=0, column='ticket_id', value=df101_e.ticket_id)\n",
    "enc_cat.head()"
   ]
  },
  {
   "cell_type": "code",
   "execution_count": 17,
   "metadata": {},
   "outputs": [
    {
     "name": "stdout",
     "output_type": "stream",
     "text": [
      "<class 'pandas.core.frame.DataFrame'>\n",
      "Int64Index: 3555 entries, 0 to 3617\n",
      "Data columns (total 4 columns):\n",
      "ticket_id     3555 non-null object\n",
      "root_cause    3555 non-null object\n",
      "latitude      3555 non-null float64\n",
      "longitude     3555 non-null float64\n",
      "dtypes: float64(2), object(2)\n",
      "memory usage: 138.9+ KB\n"
     ]
    }
   ],
   "source": [
    "# grab the other features\n",
    "df_other = df_all_shards_c.drop(categoricals, axis=1).copy()\n",
    "df_other.info()"
   ]
  },
  {
   "cell_type": "code",
   "execution_count": 18,
   "metadata": {},
   "outputs": [
    {
     "name": "stdout",
     "output_type": "stream",
     "text": [
      "<class 'pandas.core.frame.DataFrame'>\n",
      "Int64Index: 3555 entries, 0 to 3617\n",
      "Columns: 314 entries, ticket_id to x3_williams lifetime builders inc. dba lifetime solar\n",
      "dtypes: float64(312), object(2)\n",
      "memory usage: 8.7+ MB\n"
     ]
    }
   ],
   "source": [
    "# put it back together\n",
    "df_enc = df_other.join(enc_cat)\n",
    "df_enc.info()"
   ]
  },
  {
   "cell_type": "code",
   "execution_count": 19,
   "metadata": {},
   "outputs": [
    {
     "data": {
      "text/plain": [
       "310"
      ]
     },
     "execution_count": 19,
     "metadata": {},
     "output_type": "execute_result"
    }
   ],
   "source": [
    "df_enc.isna().any().sum()"
   ]
  },
  {
   "cell_type": "code",
   "execution_count": 20,
   "metadata": {},
   "outputs": [
    {
     "data": {
      "text/plain": [
       "ticket_id                                                False\n",
       "root_cause                                               False\n",
       "latitude                                                 False\n",
       "longitude                                                False\n",
       "x0_communication offline                                  True\n",
       "x0_duplicate ticket                                       True\n",
       "x0_homeowner cannot access portal                         True\n",
       "x0_inquiry about service ticket                           True\n",
       "x0_install punchlist                                      True\n",
       "x0_non-service inquiry                                    True\n",
       "x0_performance guarantee review                           True\n",
       "x0_permanent system removal                               True\n",
       "x0_reinstallation                                         True\n",
       "x0_roof leak                                              True\n",
       "x0_soiling                                                True\n",
       "x0_system activation                                      True\n",
       "x0_system deactivation                                    True\n",
       "x0_system inspection                                      True\n",
       "x0_system reactivation                                    True\n",
       "x0_temporary removal                                      True\n",
       "x0_thermal event                                          True\n",
       "x0_underproduction                                        True\n",
       "x0_wildlife remediation                                   True\n",
       "x0_zero production                                        True\n",
       "x1_origin_homeowner                                       True\n",
       "x1_origin_omnidian_customer                               True\n",
       "x1_origin_omnidian_monitoring_team                        True\n",
       "x1_origin_service_partner                                 True\n",
       "x2_ace residential solar service team                     True\n",
       "x2_american home energy service team                      True\n",
       "                                                         ...  \n",
       "x3_summit technology group                                True\n",
       "x3_sunburst solar energy lafayette                        True\n",
       "x3_sunchariot solar san carlos                            True\n",
       "x3_sundowner solar visalia                                True\n",
       "x3_sungevity                                              True\n",
       "x3_sunny energy                                           True\n",
       "x3_sunnymac wilmington                                    True\n",
       "x3_sunpower                                               True\n",
       "x3_sunpower4u                                             True\n",
       "x3_sunstarter solar installations inc                     True\n",
       "x3_suntalk solar                                          True\n",
       "x3_suntalk solar denver                                   True\n",
       "x3_sunwize technologies inc.                              True\n",
       "x3_sustainable energy systems frederic                    True\n",
       "x3_swan solar                                             True\n",
       "x3_syntrol plumbing heating and air                       True\n",
       "x3_taitem engineering ithaca                              True\n",
       "x3_tak electric inland empire                             True\n",
       "x3_talbott solar home                                     True\n",
       "x3_tesla                                                  True\n",
       "x3_titan solar power                                      True\n",
       "x3_trinity                                                True\n",
       "x3_united solar associates woburn                         True\n",
       "x3_unleash solar                                          True\n",
       "x3_usa solar littleton                                    True\n",
       "x3_valley unique electric inc fresno                      True\n",
       "x3_verde solar phoenix                                    True\n",
       "x3_verengo inc.                                           True\n",
       "x3_vivint solar                                           True\n",
       "x3_williams lifetime builders inc. dba lifetime solar     True\n",
       "Length: 314, dtype: bool"
      ]
     },
     "execution_count": 20,
     "metadata": {},
     "output_type": "execute_result"
    }
   ],
   "source": [
    "df_enc.isnull().any()"
   ]
  },
  {
   "cell_type": "markdown",
   "metadata": {},
   "source": [
    "### It looks like the 0.0 from our binary encoding turned into nulls. We'll change them back."
   ]
  },
  {
   "cell_type": "code",
   "execution_count": 21,
   "metadata": {},
   "outputs": [],
   "source": [
    "df_enc.fillna(0.0, inplace=True)"
   ]
  },
  {
   "cell_type": "code",
   "execution_count": 22,
   "metadata": {},
   "outputs": [
    {
     "data": {
      "text/plain": [
       "0"
      ]
     },
     "execution_count": 22,
     "metadata": {},
     "output_type": "execute_result"
    }
   ],
   "source": [
    "df_enc.isna().any().sum()"
   ]
  },
  {
   "cell_type": "markdown",
   "metadata": {},
   "source": [
    "## Train-test-split."
   ]
  },
  {
   "cell_type": "code",
   "execution_count": 23,
   "metadata": {},
   "outputs": [],
   "source": [
    "X_enc = df_enc.drop(['root_cause'], axis=1).copy()\n",
    "y_enc = df_enc['root_cause']\n",
    "X_train_enc, X_test_enc, y_train_enc, y_test_enc = train_test_split(X_enc, y_enc, random_state=42,\n",
    "                                                                    test_size=0.2)"
   ]
  },
  {
   "cell_type": "code",
   "execution_count": 24,
   "metadata": {},
   "outputs": [
    {
     "data": {
      "text/html": [
       "<div>\n",
       "<style scoped>\n",
       "    .dataframe tbody tr th:only-of-type {\n",
       "        vertical-align: middle;\n",
       "    }\n",
       "\n",
       "    .dataframe tbody tr th {\n",
       "        vertical-align: top;\n",
       "    }\n",
       "\n",
       "    .dataframe thead th {\n",
       "        text-align: right;\n",
       "    }\n",
       "</style>\n",
       "<table border=\"1\" class=\"dataframe\">\n",
       "  <thead>\n",
       "    <tr style=\"text-align: right;\">\n",
       "      <th></th>\n",
       "      <th>ticket_id</th>\n",
       "      <th>latitude</th>\n",
       "      <th>longitude</th>\n",
       "      <th>x0_communication offline</th>\n",
       "      <th>x0_duplicate ticket</th>\n",
       "      <th>x0_homeowner cannot access portal</th>\n",
       "      <th>x0_inquiry about service ticket</th>\n",
       "      <th>x0_install punchlist</th>\n",
       "      <th>x0_non-service inquiry</th>\n",
       "      <th>x0_performance guarantee review</th>\n",
       "      <th>...</th>\n",
       "      <th>x3_titan solar power</th>\n",
       "      <th>x3_trinity</th>\n",
       "      <th>x3_united solar associates woburn</th>\n",
       "      <th>x3_unleash solar</th>\n",
       "      <th>x3_usa solar littleton</th>\n",
       "      <th>x3_valley unique electric inc fresno</th>\n",
       "      <th>x3_verde solar phoenix</th>\n",
       "      <th>x3_verengo inc.</th>\n",
       "      <th>x3_vivint solar</th>\n",
       "      <th>x3_williams lifetime builders inc. dba lifetime solar</th>\n",
       "    </tr>\n",
       "  </thead>\n",
       "  <tbody>\n",
       "    <tr>\n",
       "      <th>2694</th>\n",
       "      <td>5499</td>\n",
       "      <td>39.831618</td>\n",
       "      <td>-105.175348</td>\n",
       "      <td>0.0</td>\n",
       "      <td>0.0</td>\n",
       "      <td>0.0</td>\n",
       "      <td>0.0</td>\n",
       "      <td>0.0</td>\n",
       "      <td>0.0</td>\n",
       "      <td>0.0</td>\n",
       "      <td>...</td>\n",
       "      <td>0.0</td>\n",
       "      <td>0.0</td>\n",
       "      <td>0.0</td>\n",
       "      <td>0.0</td>\n",
       "      <td>0.0</td>\n",
       "      <td>0.0</td>\n",
       "      <td>0.0</td>\n",
       "      <td>0.0</td>\n",
       "      <td>0.0</td>\n",
       "      <td>0.0</td>\n",
       "    </tr>\n",
       "    <tr>\n",
       "      <th>1931</th>\n",
       "      <td>13893</td>\n",
       "      <td>40.987406</td>\n",
       "      <td>-74.038181</td>\n",
       "      <td>0.0</td>\n",
       "      <td>0.0</td>\n",
       "      <td>0.0</td>\n",
       "      <td>0.0</td>\n",
       "      <td>0.0</td>\n",
       "      <td>0.0</td>\n",
       "      <td>0.0</td>\n",
       "      <td>...</td>\n",
       "      <td>0.0</td>\n",
       "      <td>0.0</td>\n",
       "      <td>0.0</td>\n",
       "      <td>0.0</td>\n",
       "      <td>0.0</td>\n",
       "      <td>0.0</td>\n",
       "      <td>0.0</td>\n",
       "      <td>0.0</td>\n",
       "      <td>0.0</td>\n",
       "      <td>0.0</td>\n",
       "    </tr>\n",
       "    <tr>\n",
       "      <th>1638</th>\n",
       "      <td>18106</td>\n",
       "      <td>40.397362</td>\n",
       "      <td>-104.769056</td>\n",
       "      <td>0.0</td>\n",
       "      <td>0.0</td>\n",
       "      <td>0.0</td>\n",
       "      <td>0.0</td>\n",
       "      <td>0.0</td>\n",
       "      <td>0.0</td>\n",
       "      <td>0.0</td>\n",
       "      <td>...</td>\n",
       "      <td>0.0</td>\n",
       "      <td>0.0</td>\n",
       "      <td>0.0</td>\n",
       "      <td>0.0</td>\n",
       "      <td>0.0</td>\n",
       "      <td>0.0</td>\n",
       "      <td>0.0</td>\n",
       "      <td>0.0</td>\n",
       "      <td>0.0</td>\n",
       "      <td>0.0</td>\n",
       "    </tr>\n",
       "    <tr>\n",
       "      <th>3288</th>\n",
       "      <td>29005</td>\n",
       "      <td>34.138824</td>\n",
       "      <td>-117.559302</td>\n",
       "      <td>0.0</td>\n",
       "      <td>0.0</td>\n",
       "      <td>0.0</td>\n",
       "      <td>0.0</td>\n",
       "      <td>0.0</td>\n",
       "      <td>0.0</td>\n",
       "      <td>0.0</td>\n",
       "      <td>...</td>\n",
       "      <td>0.0</td>\n",
       "      <td>0.0</td>\n",
       "      <td>0.0</td>\n",
       "      <td>0.0</td>\n",
       "      <td>0.0</td>\n",
       "      <td>0.0</td>\n",
       "      <td>0.0</td>\n",
       "      <td>0.0</td>\n",
       "      <td>0.0</td>\n",
       "      <td>0.0</td>\n",
       "    </tr>\n",
       "    <tr>\n",
       "      <th>211</th>\n",
       "      <td>29048</td>\n",
       "      <td>32.804052</td>\n",
       "      <td>-116.915147</td>\n",
       "      <td>1.0</td>\n",
       "      <td>0.0</td>\n",
       "      <td>0.0</td>\n",
       "      <td>0.0</td>\n",
       "      <td>0.0</td>\n",
       "      <td>0.0</td>\n",
       "      <td>0.0</td>\n",
       "      <td>...</td>\n",
       "      <td>0.0</td>\n",
       "      <td>0.0</td>\n",
       "      <td>0.0</td>\n",
       "      <td>0.0</td>\n",
       "      <td>0.0</td>\n",
       "      <td>0.0</td>\n",
       "      <td>0.0</td>\n",
       "      <td>0.0</td>\n",
       "      <td>0.0</td>\n",
       "      <td>0.0</td>\n",
       "    </tr>\n",
       "  </tbody>\n",
       "</table>\n",
       "<p>5 rows × 313 columns</p>\n",
       "</div>"
      ],
      "text/plain": [
       "      ticket_id   latitude   longitude  x0_communication offline  \\\n",
       "2694       5499  39.831618 -105.175348                       0.0   \n",
       "1931      13893  40.987406  -74.038181                       0.0   \n",
       "1638      18106  40.397362 -104.769056                       0.0   \n",
       "3288      29005  34.138824 -117.559302                       0.0   \n",
       "211       29048  32.804052 -116.915147                       1.0   \n",
       "\n",
       "      x0_duplicate ticket  x0_homeowner cannot access portal  \\\n",
       "2694                  0.0                                0.0   \n",
       "1931                  0.0                                0.0   \n",
       "1638                  0.0                                0.0   \n",
       "3288                  0.0                                0.0   \n",
       "211                   0.0                                0.0   \n",
       "\n",
       "      x0_inquiry about service ticket  x0_install punchlist  \\\n",
       "2694                              0.0                   0.0   \n",
       "1931                              0.0                   0.0   \n",
       "1638                              0.0                   0.0   \n",
       "3288                              0.0                   0.0   \n",
       "211                               0.0                   0.0   \n",
       "\n",
       "      x0_non-service inquiry  x0_performance guarantee review  ...  \\\n",
       "2694                     0.0                              0.0  ...   \n",
       "1931                     0.0                              0.0  ...   \n",
       "1638                     0.0                              0.0  ...   \n",
       "3288                     0.0                              0.0  ...   \n",
       "211                      0.0                              0.0  ...   \n",
       "\n",
       "      x3_titan solar power  x3_trinity  x3_united solar associates woburn  \\\n",
       "2694                   0.0         0.0                                0.0   \n",
       "1931                   0.0         0.0                                0.0   \n",
       "1638                   0.0         0.0                                0.0   \n",
       "3288                   0.0         0.0                                0.0   \n",
       "211                    0.0         0.0                                0.0   \n",
       "\n",
       "      x3_unleash solar  x3_usa solar littleton  \\\n",
       "2694               0.0                     0.0   \n",
       "1931               0.0                     0.0   \n",
       "1638               0.0                     0.0   \n",
       "3288               0.0                     0.0   \n",
       "211                0.0                     0.0   \n",
       "\n",
       "      x3_valley unique electric inc fresno  x3_verde solar phoenix  \\\n",
       "2694                                   0.0                     0.0   \n",
       "1931                                   0.0                     0.0   \n",
       "1638                                   0.0                     0.0   \n",
       "3288                                   0.0                     0.0   \n",
       "211                                    0.0                     0.0   \n",
       "\n",
       "      x3_verengo inc.  x3_vivint solar  \\\n",
       "2694              0.0              0.0   \n",
       "1931              0.0              0.0   \n",
       "1638              0.0              0.0   \n",
       "3288              0.0              0.0   \n",
       "211               0.0              0.0   \n",
       "\n",
       "      x3_williams lifetime builders inc. dba lifetime solar  \n",
       "2694                                                0.0      \n",
       "1931                                                0.0      \n",
       "1638                                                0.0      \n",
       "3288                                                0.0      \n",
       "211                                                 0.0      \n",
       "\n",
       "[5 rows x 313 columns]"
      ]
     },
     "execution_count": 24,
     "metadata": {},
     "output_type": "execute_result"
    }
   ],
   "source": [
    "X_train_enc.head()"
   ]
  },
  {
   "cell_type": "code",
   "execution_count": 25,
   "metadata": {},
   "outputs": [
    {
     "name": "stdout",
     "output_type": "stream",
     "text": [
      "<class 'pandas.core.frame.DataFrame'>\n",
      "Int64Index: 2844 entries, 2694 to 3234\n",
      "Columns: 313 entries, ticket_id to x3_williams lifetime builders inc. dba lifetime solar\n",
      "dtypes: float64(312), int64(1)\n",
      "memory usage: 6.8 MB\n"
     ]
    }
   ],
   "source": [
    "X_train_enc.info()"
   ]
  },
  {
   "cell_type": "code",
   "execution_count": 26,
   "metadata": {},
   "outputs": [
    {
     "data": {
      "text/plain": [
       "(2844,)"
      ]
     },
     "execution_count": 26,
     "metadata": {},
     "output_type": "execute_result"
    }
   ],
   "source": [
    "y_train_enc.shape"
   ]
  },
  {
   "cell_type": "code",
   "execution_count": 27,
   "metadata": {},
   "outputs": [],
   "source": [
    "# X_test_enc.head()"
   ]
  },
  {
   "cell_type": "code",
   "execution_count": 28,
   "metadata": {},
   "outputs": [
    {
     "name": "stdout",
     "output_type": "stream",
     "text": [
      "<class 'pandas.core.frame.DataFrame'>\n",
      "Int64Index: 711 entries, 322 to 2782\n",
      "Columns: 313 entries, ticket_id to x3_williams lifetime builders inc. dba lifetime solar\n",
      "dtypes: float64(312), int64(1)\n",
      "memory usage: 1.7 MB\n"
     ]
    }
   ],
   "source": [
    "X_test_enc.info()"
   ]
  },
  {
   "cell_type": "code",
   "execution_count": 29,
   "metadata": {},
   "outputs": [
    {
     "data": {
      "text/plain": [
       "(711,)"
      ]
     },
     "execution_count": 29,
     "metadata": {},
     "output_type": "execute_result"
    }
   ],
   "source": [
    "y_test_enc.shape"
   ]
  },
  {
   "cell_type": "markdown",
   "metadata": {},
   "source": [
    "### Modeling"
   ]
  },
  {
   "cell_type": "code",
   "execution_count": null,
   "metadata": {},
   "outputs": [],
   "source": [
    "random_state=42"
   ]
  },
  {
   "cell_type": "code",
   "execution_count": null,
   "metadata": {},
   "outputs": [],
   "source": [
    "names = ['Logistic Regression', 'Nearest Neighbors', 'RBF SVM',\n",
    "         'Decision Tree', 'Random Forest', 'Neural Net', 'Bagging', 'AdaBoost',\n",
    "         'Gradient Boost']"
   ]
  },
  {
   "cell_type": "code",
   "execution_count": 46,
   "metadata": {},
   "outputs": [
    {
     "name": "stderr",
     "output_type": "stream",
     "text": [
      "/Users/humanperson/anaconda3/envs/learn2env/lib/python3.7/site-packages/sklearn/linear_model/logistic.py:947: ConvergenceWarning: lbfgs failed to converge. Increase the number of iterations.\n",
      "  \"of iterations.\", ConvergenceWarning)\n"
     ]
    },
    {
     "data": {
      "text/plain": [
       "LogisticRegression(C=1.0, class_weight=None, dual=False, fit_intercept=True,\n",
       "                   intercept_scaling=1, l1_ratio=None, max_iter=1000,\n",
       "                   multi_class='multinomial', n_jobs=None, penalty='l2',\n",
       "                   random_state=42, solver='lbfgs', tol=0.0001, verbose=0,\n",
       "                   warm_start=False)"
      ]
     },
     "execution_count": 46,
     "metadata": {},
     "output_type": "execute_result"
    }
   ],
   "source": [
    "lr = LogisticRegression(random_state=42, solver='lbfgs',  multi_class='multinomial', max_iter=1000)\n",
    "lr.fit(X_train_enc, y_train_enc)"
   ]
  },
  {
   "cell_type": "code",
   "execution_count": 47,
   "metadata": {},
   "outputs": [],
   "source": [
    "y_pred_lr_c = lr.predict(X_test_enc)"
   ]
  },
  {
   "cell_type": "code",
   "execution_count": 48,
   "metadata": {},
   "outputs": [
    {
     "name": "stderr",
     "output_type": "stream",
     "text": [
      "/Users/humanperson/anaconda3/envs/learn2env/lib/python3.7/site-packages/sklearn/metrics/classification.py:1439: UndefinedMetricWarning: F-score is ill-defined and being set to 0.0 in labels with no true samples.\n",
      "  'recall', 'true', average, warn_for)\n"
     ]
    },
    {
     "data": {
      "text/plain": [
       "0.5471858215868292"
      ]
     },
     "execution_count": 48,
     "metadata": {},
     "output_type": "execute_result"
    }
   ],
   "source": [
    "f1_score(y_pred_lr_c, y_test_enc, average='weighted')"
   ]
  },
  {
   "cell_type": "code",
   "execution_count": 49,
   "metadata": {},
   "outputs": [],
   "source": [
    "\n",
    "# Let's pickle this model\n",
    "filename = '../pickled_models/shards_lr_c.pkl'\n",
    "pickle.dump(lr, open(filename, 'wb'))"
   ]
  },
  {
   "cell_type": "code",
   "execution_count": 50,
   "metadata": {},
   "outputs": [
    {
     "data": {
      "text/plain": [
       "0.40365682137834036"
      ]
     },
     "execution_count": 50,
     "metadata": {},
     "output_type": "execute_result"
    }
   ],
   "source": [
    "lr.score(X_test_enc, y_test_enc)"
   ]
  },
  {
   "cell_type": "code",
   "execution_count": 51,
   "metadata": {},
   "outputs": [],
   "source": [
    "y_pred_lr_c = lr.predict_proba(X_test_enc)"
   ]
  },
  {
   "cell_type": "code",
   "execution_count": 52,
   "metadata": {},
   "outputs": [
    {
     "data": {
      "text/plain": [
       "array([[0.0060488 , 0.03998497, 0.06501293, ..., 0.41665351, 0.04736695,\n",
       "        0.00234572],\n",
       "       [0.00199947, 0.02239689, 0.10697537, ..., 0.43398293, 0.04334746,\n",
       "        0.00196283],\n",
       "       [0.00319949, 0.02847601, 0.08814591, ..., 0.42658186, 0.04635789,\n",
       "        0.00227143],\n",
       "       ...,\n",
       "       [0.00191975, 0.02121884, 0.10770061, ..., 0.42442968, 0.04620042,\n",
       "        0.00235381],\n",
       "       [0.00646577, 0.04182714, 0.1118047 , ..., 0.36812394, 0.05039748,\n",
       "        0.00347164],\n",
       "       [0.01739114, 0.06586581, 0.18586086, ..., 0.24782242, 0.0601469 ,\n",
       "        0.00965686]])"
      ]
     },
     "execution_count": 52,
     "metadata": {},
     "output_type": "execute_result"
    }
   ],
   "source": [
    "y_pred_lr_c"
   ]
  },
  {
   "cell_type": "code",
   "execution_count": null,
   "metadata": {},
   "outputs": [],
   "source": []
  },
  {
   "cell_type": "code",
   "execution_count": null,
   "metadata": {},
   "outputs": [],
   "source": []
  },
  {
   "cell_type": "code",
   "execution_count": 53,
   "metadata": {},
   "outputs": [
    {
     "name": "stderr",
     "output_type": "stream",
     "text": [
      "/Users/humanperson/anaconda3/envs/learn2env/lib/python3.7/site-packages/sklearn/linear_model/sag.py:337: ConvergenceWarning: The max_iter was reached which means the coef_ did not converge\n",
      "  \"the coef_ did not converge\", ConvergenceWarning)\n"
     ]
    },
    {
     "data": {
      "text/plain": [
       "LogisticRegression(C=1.0, class_weight='balanced', dual=False,\n",
       "                   fit_intercept=True, intercept_scaling=1, l1_ratio=None,\n",
       "                   max_iter=200, multi_class='multinomial', n_jobs=None,\n",
       "                   penalty='l2', random_state=42, solver='sag', tol=0.0001,\n",
       "                   verbose=0, warm_start=False)"
      ]
     },
     "execution_count": 53,
     "metadata": {},
     "output_type": "execute_result"
    }
   ],
   "source": [
    "#try weighing less common classes. This is not great right now because the test data may not have all classes.\n",
    "lr_w = LogisticRegression(random_state=42, class_weight='balanced', solver='sag',\n",
    "                        multi_class='multinomial', max_iter=200)\n",
    "lr_w.fit(X_train_enc, y_train_enc)"
   ]
  },
  {
   "cell_type": "code",
   "execution_count": null,
   "metadata": {},
   "outputs": [],
   "source": []
  },
  {
   "cell_type": "code",
   "execution_count": 54,
   "metadata": {},
   "outputs": [],
   "source": [
    "# Let's pickle this model\n",
    "filename = '../pickled_models/shards_lr_w.pkl'\n",
    "pickle.dump(lr_w, open(filename, 'wb'))"
   ]
  },
  {
   "cell_type": "code",
   "execution_count": null,
   "metadata": {},
   "outputs": [],
   "source": [
    "# lr.score(X_test_enc, y_test_enc)"
   ]
  },
  {
   "cell_type": "code",
   "execution_count": null,
   "metadata": {},
   "outputs": [],
   "source": []
  },
  {
   "cell_type": "code",
   "execution_count": null,
   "metadata": {},
   "outputs": [],
   "source": []
  },
  {
   "cell_type": "code",
   "execution_count": 55,
   "metadata": {},
   "outputs": [
    {
     "data": {
      "text/plain": [
       "0.33473980309423346"
      ]
     },
     "execution_count": 55,
     "metadata": {},
     "output_type": "execute_result"
    }
   ],
   "source": [
    "knn = KNeighborsClassifier()\n",
    "knn.fit(X_train_enc, y_train_enc)\n",
    "knn.score(X_test_enc, y_test_enc)"
   ]
  },
  {
   "cell_type": "code",
   "execution_count": 56,
   "metadata": {},
   "outputs": [],
   "source": [
    "# Let's pickle this model\n",
    "filename = '../pickled_models/shards_knn.pkl'\n",
    "pickle.dump(knn, open(filename, 'wb'))"
   ]
  },
  {
   "cell_type": "code",
   "execution_count": null,
   "metadata": {},
   "outputs": [],
   "source": []
  },
  {
   "cell_type": "code",
   "execution_count": null,
   "metadata": {},
   "outputs": [],
   "source": []
  },
  {
   "cell_type": "code",
   "execution_count": 57,
   "metadata": {},
   "outputs": [
    {
     "data": {
      "text/plain": [
       "0.38396624472573837"
      ]
     },
     "execution_count": 57,
     "metadata": {},
     "output_type": "execute_result"
    }
   ],
   "source": [
    "svc_g = SVC(gamma=2, C=1)\n",
    "svc_g.fit(X_train_enc, y_train_enc)\n",
    "svc_g.score(X_test_enc, y_test_enc)"
   ]
  },
  {
   "cell_type": "code",
   "execution_count": 58,
   "metadata": {},
   "outputs": [],
   "source": [
    "# Let's pickle this model\n",
    "filename = '../pickled_models/shards_svc_g.pkl'\n",
    "pickle.dump(svc_g, open(filename, 'wb'))"
   ]
  },
  {
   "cell_type": "code",
   "execution_count": null,
   "metadata": {},
   "outputs": [],
   "source": []
  },
  {
   "cell_type": "code",
   "execution_count": null,
   "metadata": {},
   "outputs": [],
   "source": []
  },
  {
   "cell_type": "code",
   "execution_count": 59,
   "metadata": {},
   "outputs": [
    {
     "data": {
      "text/plain": [
       "0.3909985935302391"
      ]
     },
     "execution_count": 59,
     "metadata": {},
     "output_type": "execute_result"
    }
   ],
   "source": [
    "dt = DecisionTreeClassifier(min_samples_leaf=30)\n",
    "dt.fit(X_train_enc, y_train_enc)\n",
    "dt.score(X_test_enc, y_test_enc)"
   ]
  },
  {
   "cell_type": "code",
   "execution_count": 60,
   "metadata": {},
   "outputs": [],
   "source": [
    "# Let's pickle this model\n",
    "filename = '../pickled_models/shards_dt.pkl'\n",
    "pickle.dump(dt, open(filename, 'wb'))"
   ]
  },
  {
   "cell_type": "code",
   "execution_count": null,
   "metadata": {},
   "outputs": [],
   "source": []
  },
  {
   "cell_type": "code",
   "execution_count": null,
   "metadata": {},
   "outputs": [],
   "source": []
  },
  {
   "cell_type": "code",
   "execution_count": 61,
   "metadata": {},
   "outputs": [
    {
     "data": {
      "text/plain": [
       "0.38255977496483823"
      ]
     },
     "execution_count": 61,
     "metadata": {},
     "output_type": "execute_result"
    }
   ],
   "source": [
    "rf_entropy = RandomForestClassifier(n_estimators=100,criterion='entropy')\n",
    "rf_entropy.fit(X_train_enc, y_train_enc)\n",
    "rf_entropy.score(X_test_enc, y_test_enc)"
   ]
  },
  {
   "cell_type": "code",
   "execution_count": 62,
   "metadata": {},
   "outputs": [],
   "source": [
    "# Let's pickle this model\n",
    "filename = '../pickled_models/shards_rf_entropy.pkl'\n",
    "pickle.dump(rf_entropy, open(filename, 'wb'))"
   ]
  },
  {
   "cell_type": "code",
   "execution_count": null,
   "metadata": {},
   "outputs": [],
   "source": []
  },
  {
   "cell_type": "code",
   "execution_count": null,
   "metadata": {},
   "outputs": [],
   "source": []
  },
  {
   "cell_type": "code",
   "execution_count": 63,
   "metadata": {},
   "outputs": [
    {
     "data": {
      "text/plain": [
       "0.379746835443038"
      ]
     },
     "execution_count": 63,
     "metadata": {},
     "output_type": "execute_result"
    }
   ],
   "source": [
    "rf_gini = RandomForestClassifier(n_estimators=100,criterion='gini')\n",
    "rf_gini.fit(X_train_enc, y_train_enc)\n",
    "rf_gini.score(X_test_enc, y_test_enc)"
   ]
  },
  {
   "cell_type": "code",
   "execution_count": 64,
   "metadata": {},
   "outputs": [],
   "source": [
    "# Let's pickle this model\n",
    "filename = '../pickled_models/shards_rf_gini.pkl'\n",
    "pickle.dump(rf_gini, open(filename, 'wb'))"
   ]
  },
  {
   "cell_type": "code",
   "execution_count": null,
   "metadata": {},
   "outputs": [],
   "source": []
  },
  {
   "cell_type": "code",
   "execution_count": 65,
   "metadata": {},
   "outputs": [
    {
     "data": {
      "text/plain": [
       "0.12658227848101267"
      ]
     },
     "execution_count": 65,
     "metadata": {},
     "output_type": "execute_result"
    }
   ],
   "source": [
    "mlp = MLPClassifier(max_iter=100)\n",
    "mlp.fit(X_train_enc, y_train_enc)\n",
    "mlp.score(X_test_enc, y_test_enc)"
   ]
  },
  {
   "cell_type": "code",
   "execution_count": 66,
   "metadata": {},
   "outputs": [],
   "source": [
    "# Let's pickle this model\n",
    "filename = '../pickled_models/mlp.pkl'\n",
    "pickle.dump(mlp, open(filename, 'wb'))"
   ]
  },
  {
   "cell_type": "code",
   "execution_count": null,
   "metadata": {},
   "outputs": [],
   "source": []
  },
  {
   "cell_type": "code",
   "execution_count": 67,
   "metadata": {},
   "outputs": [
    {
     "data": {
      "text/plain": [
       "0.37834036568213786"
      ]
     },
     "execution_count": 67,
     "metadata": {},
     "output_type": "execute_result"
    }
   ],
   "source": [
    "bag = BaggingClassifier(random_state=42, bootstrap_features=True)\n",
    "bag.fit(X_train_enc, y_train_enc)\n",
    "bag.score(X_test_enc, y_test_enc)"
   ]
  },
  {
   "cell_type": "code",
   "execution_count": 68,
   "metadata": {},
   "outputs": [],
   "source": [
    "# Let's pickle this model\n",
    "filename = '../pickled_models/shards_bag.pkl'\n",
    "pickle.dump(bag, open(filename, 'wb'))"
   ]
  },
  {
   "cell_type": "code",
   "execution_count": null,
   "metadata": {},
   "outputs": [],
   "source": []
  },
  {
   "cell_type": "code",
   "execution_count": null,
   "metadata": {},
   "outputs": [],
   "source": []
  },
  {
   "cell_type": "code",
   "execution_count": 69,
   "metadata": {},
   "outputs": [
    {
     "data": {
      "text/plain": [
       "0.37834036568213786"
      ]
     },
     "execution_count": 69,
     "metadata": {},
     "output_type": "execute_result"
    }
   ],
   "source": [
    "ada = AdaBoostClassifier(random_state=42)\n",
    "ada.fit(X_train_enc, y_train_enc)\n",
    "ada.score(X_test_enc, y_test_enc)"
   ]
  },
  {
   "cell_type": "code",
   "execution_count": 70,
   "metadata": {},
   "outputs": [],
   "source": [
    "# Let's pickle this model\n",
    "filename = '../pickled_models/shards_ada.pkl'\n",
    "pickle.dump(ada, open(filename, 'wb'))"
   ]
  },
  {
   "cell_type": "code",
   "execution_count": null,
   "metadata": {},
   "outputs": [],
   "source": []
  },
  {
   "cell_type": "code",
   "execution_count": 71,
   "metadata": {},
   "outputs": [
    {
     "data": {
      "text/plain": [
       "0.41068917018284107"
      ]
     },
     "execution_count": 71,
     "metadata": {},
     "output_type": "execute_result"
    }
   ],
   "source": [
    "gb = GradientBoostingClassifier(random_state=42, min_samples_leaf=30)\n",
    "gb.fit(X_train_enc, y_train_enc)\n",
    "gb.score(X_test_enc, y_test_enc)"
   ]
  },
  {
   "cell_type": "code",
   "execution_count": 72,
   "metadata": {},
   "outputs": [],
   "source": [
    "# Let's pickle this model\n",
    "filename = '../pickled_models/shards_gb.pkl'\n",
    "pickle.dump(gb, open(filename, 'wb'))"
   ]
  },
  {
   "cell_type": "code",
   "execution_count": null,
   "metadata": {},
   "outputs": [],
   "source": []
  },
  {
   "cell_type": "code",
   "execution_count": 73,
   "metadata": {},
   "outputs": [
    {
     "name": "stdout",
     "output_type": "stream",
     "text": [
      "0:\tlearn: -2.0115588\ttotal: 58ms\tremaining: 522ms\n",
      "1:\tlearn: -1.7897191\ttotal: 63.3ms\tremaining: 253ms\n",
      "2:\tlearn: -1.7264644\ttotal: 67.9ms\tremaining: 158ms\n",
      "3:\tlearn: -1.7105212\ttotal: 72.3ms\tremaining: 109ms\n",
      "4:\tlearn: -1.6908659\ttotal: 76.8ms\tremaining: 76.8ms\n",
      "5:\tlearn: -1.6817686\ttotal: 80.6ms\tremaining: 53.7ms\n",
      "6:\tlearn: -1.6777376\ttotal: 85.6ms\tremaining: 36.7ms\n",
      "7:\tlearn: -1.6671538\ttotal: 90.2ms\tremaining: 22.6ms\n",
      "8:\tlearn: -1.6615399\ttotal: 95.2ms\tremaining: 10.6ms\n",
      "9:\tlearn: -1.6394750\ttotal: 99.5ms\tremaining: 0us\n"
     ]
    },
    {
     "data": {
      "text/plain": [
       "<catboost.core.CatBoostClassifier at 0x13021d208>"
      ]
     },
     "execution_count": 73,
     "metadata": {},
     "output_type": "execute_result"
    }
   ],
   "source": [
    "cat = CatBoostClassifier(iterations=10,\n",
    "                           learning_rate=1,\n",
    "                           depth=2,\n",
    "                           loss_function='MultiClass')\n",
    "cat.fit(X_train_enc, y_train_enc)"
   ]
  },
  {
   "cell_type": "code",
   "execution_count": 74,
   "metadata": {},
   "outputs": [
    {
     "data": {
      "text/plain": [
       "{'learn': {'MultiClass': -1.6394749540763465}}"
      ]
     },
     "execution_count": 74,
     "metadata": {},
     "output_type": "execute_result"
    }
   ],
   "source": [
    "cat.best_score_"
   ]
  },
  {
   "cell_type": "code",
   "execution_count": 75,
   "metadata": {},
   "outputs": [],
   "source": [
    "filename = '../pickled_models/shards_cat.pkl'\n",
    "pickle.dump(cat, open(filename, 'wb'))"
   ]
  },
  {
   "cell_type": "code",
   "execution_count": null,
   "metadata": {},
   "outputs": [],
   "source": []
  }
 ],
 "metadata": {
  "kernelspec": {
   "display_name": "learn2env",
   "language": "python",
   "name": "learn2env"
  },
  "language_info": {
   "codemirror_mode": {
    "name": "ipython",
    "version": 3
   },
   "file_extension": ".py",
   "mimetype": "text/x-python",
   "name": "python",
   "nbconvert_exporter": "python",
   "pygments_lexer": "ipython3",
   "version": "3.7.3"
  }
 },
 "nbformat": 4,
 "nbformat_minor": 2
}
