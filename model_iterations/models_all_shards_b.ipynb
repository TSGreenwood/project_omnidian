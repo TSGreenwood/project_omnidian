{
 "cells": [
  {
   "cell_type": "markdown",
   "metadata": {},
   "source": [
    "# In which we create vectors of all categorical features before splitting for testing, and used 'days ago' instead of datetimes so we can run more models. The results were not great because we do not have a one-to-one relationship between ticket_id and asset_id."
   ]
  },
  {
   "cell_type": "markdown",
   "metadata": {},
   "source": [
    "#### Factors from SQL query: 'ticket_id', 'asset_id', 'root_cause', 'ticket_creation_reason',\n",
    "####      'latitude', 'longitude', 'tilt', 'azimuth', 'ticket_origin',\n",
    "#### 'service_partner', 'ticket_assigned_days_ago', 'ticket_closed_days_ago',\n",
    "####       'installed_by', 'installed_days_ago'\n",
    "#### Models compared: 'Logistic Regression', 'Nearest Neighbors', 'RBF SVM',\n",
    "####         'Decision Tree', 'Random Forest', 'Neural Net', 'Bagging', 'AdaBoost',\n",
    "####       'Gradient Boost'"
   ]
  },
  {
   "cell_type": "code",
   "execution_count": 1,
   "metadata": {},
   "outputs": [
    {
     "name": "stderr",
     "output_type": "stream",
     "text": [
      "/Users/humanperson/anaconda3/envs/learn2env/lib/python3.7/site-packages/sklearn/externals/six.py:31: DeprecationWarning: The module is deprecated in version 0.21 and will be removed in version 0.23 since we've dropped support for Python 2.7. Please rely on the official version of six (https://pypi.org/project/six/).\n",
      "  \"(https://pypi.org/project/six/).\", DeprecationWarning)\n"
     ]
    }
   ],
   "source": [
    "import sklearn\n",
    "from sklearn.tree import DecisionTreeClassifier\n",
    "from sklearn.ensemble import GradientBoostingClassifier, RandomForestClassifier, BaggingClassifier, AdaBoostClassifier\n",
    "from sklearn.neighbors import KNeighborsClassifier\n",
    "from sklearn.linear_model import LogisticRegression\n",
    "from sklearn.naive_bayes import BernoulliNB, ComplementNB, MultinomialNB\n",
    "from sklearn.linear_model import RidgeClassifier\n",
    "from sklearn.neural_network import MLPClassifier\n",
    "from scipy import stats\n",
    "from sklearn.model_selection import train_test_split\n",
    "from sklearn.preprocessing import OneHotEncoder\n",
    "from sklearn.metrics import classification_report, log_loss, f1_score, auc\n",
    "from sklearn.pipeline import FeatureUnion\n",
    "from sklearn.compose import ColumnTransformer, make_column_transformer\n",
    "from sklearn import tree\n",
    "import numpy as np\n",
    "import pandas as pd\n",
    "from datetime import datetime\n",
    "from imblearn.over_sampling import SMOTE\n",
    "from sklearn.utils import resample\n",
    "import matplotlib.pyplot as plt\n",
    "%matplotlib inline\n",
    "plt.style.use('seaborn-paper')\n",
    "import pickle"
   ]
  },
  {
   "cell_type": "markdown",
   "metadata": {},
   "source": [
    "Get Data"
   ]
  },
  {
   "cell_type": "code",
   "execution_count": 12,
   "metadata": {},
   "outputs": [],
   "source": [
    "df_all_shards_b = pd.read_csv('../data/all_shards_b.csv')"
   ]
  },
  {
   "cell_type": "code",
   "execution_count": 13,
   "metadata": {},
   "outputs": [
    {
     "name": "stdout",
     "output_type": "stream",
     "text": [
      "<class 'pandas.core.frame.DataFrame'>\n",
      "RangeIndex: 5247 entries, 0 to 5246\n",
      "Data columns (total 11 columns):\n",
      "ticket_id                         3633 non-null float64\n",
      "asset_id                          5247 non-null object\n",
      "root_cause                        3633 non-null object\n",
      "ticket_creation_reason            3616 non-null object\n",
      "ticket_origin                     3632 non-null object\n",
      "service_partner                   3633 non-null object\n",
      "date_ticket_initially_assigned    3628 non-null object\n",
      "latitude                          3633 non-null float64\n",
      "longitude                         3633 non-null float64\n",
      "installed_by                      3615 non-null object\n",
      "installation_date                 1871 non-null object\n",
      "dtypes: float64(3), object(8)\n",
      "memory usage: 451.0+ KB\n"
     ]
    }
   ],
   "source": [
    "df_all_shards_b.info()"
   ]
  },
  {
   "cell_type": "code",
   "execution_count": 14,
   "metadata": {},
   "outputs": [],
   "source": [
    "# df_all_shards_b.head()"
   ]
  },
  {
   "cell_type": "markdown",
   "metadata": {},
   "source": [
    "Both ticket_id and asset_id need to be strings"
   ]
  },
  {
   "cell_type": "code",
   "execution_count": 15,
   "metadata": {},
   "outputs": [
    {
     "name": "stdout",
     "output_type": "stream",
     "text": [
      "<class 'pandas.core.frame.DataFrame'>\n",
      "RangeIndex: 5247 entries, 0 to 5246\n",
      "Data columns (total 11 columns):\n",
      "ticket_id                         3633 non-null object\n",
      "asset_id                          5247 non-null object\n",
      "root_cause                        3633 non-null object\n",
      "ticket_creation_reason            3616 non-null object\n",
      "ticket_origin                     3632 non-null object\n",
      "service_partner                   3633 non-null object\n",
      "date_ticket_initially_assigned    3628 non-null object\n",
      "latitude                          3633 non-null float64\n",
      "longitude                         3633 non-null float64\n",
      "installed_by                      3615 non-null object\n",
      "installation_date                 1871 non-null object\n",
      "dtypes: float64(2), object(9)\n",
      "memory usage: 451.0+ KB\n"
     ]
    }
   ],
   "source": [
    "df_all_shards_b[['ticket_id', 'asset_id']] = df_all_shards_b[['ticket_id', 'asset_id']].astype(object)\n",
    "df_all_shards_b.info()"
   ]
  },
  {
   "cell_type": "code",
   "execution_count": 16,
   "metadata": {},
   "outputs": [
    {
     "data": {
      "text/plain": [
       "3591"
      ]
     },
     "execution_count": 16,
     "metadata": {},
     "output_type": "execute_result"
    }
   ],
   "source": [
    "df_all_shards_b.ticket_id.nunique()"
   ]
  },
  {
   "cell_type": "markdown",
   "metadata": {},
   "source": [
    "## Deal with duplicates and nulls. A lot of this data came from the time before Omnidian. It's missing information we consider relevant, so we'll drop those columns."
   ]
  },
  {
   "cell_type": "code",
   "execution_count": 19,
   "metadata": {},
   "outputs": [
    {
     "name": "stdout",
     "output_type": "stream",
     "text": [
      "<class 'pandas.core.frame.DataFrame'>\n",
      "Int64Index: 4193 entries, 0 to 5246\n",
      "Data columns (total 11 columns):\n",
      "ticket_id                         3591 non-null object\n",
      "asset_id                          4193 non-null object\n",
      "root_cause                        3591 non-null object\n",
      "ticket_creation_reason            3574 non-null object\n",
      "ticket_origin                     3590 non-null object\n",
      "service_partner                   3591 non-null object\n",
      "date_ticket_initially_assigned    3586 non-null object\n",
      "latitude                          3591 non-null float64\n",
      "longitude                         3591 non-null float64\n",
      "installed_by                      3573 non-null object\n",
      "installation_date                 1829 non-null object\n",
      "dtypes: float64(2), object(9)\n",
      "memory usage: 393.1+ KB\n"
     ]
    }
   ],
   "source": [
    "df_all_shards_b.drop_duplicates(inplace=True)\n",
    "df_all_shards_b.info()"
   ]
  },
  {
   "cell_type": "code",
   "execution_count": 20,
   "metadata": {},
   "outputs": [
    {
     "data": {
      "text/plain": [
       "ticket_id                          True\n",
       "asset_id                          False\n",
       "root_cause                         True\n",
       "ticket_creation_reason             True\n",
       "ticket_origin                      True\n",
       "service_partner                    True\n",
       "date_ticket_initially_assigned     True\n",
       "latitude                           True\n",
       "longitude                          True\n",
       "installed_by                       True\n",
       "installation_date                  True\n",
       "dtype: bool"
      ]
     },
     "execution_count": 20,
     "metadata": {},
     "output_type": "execute_result"
    }
   ],
   "source": [
    "df_all_shards_b.isnull().any()"
   ]
  },
  {
   "cell_type": "code",
   "execution_count": 26,
   "metadata": {},
   "outputs": [
    {
     "name": "stdout",
     "output_type": "stream",
     "text": [
      "<class 'pandas.core.frame.DataFrame'>\n",
      "Int64Index: 1792 entries, 0 to 5085\n",
      "Data columns (total 11 columns):\n",
      "ticket_id                         1792 non-null object\n",
      "asset_id                          1792 non-null object\n",
      "root_cause                        1792 non-null object\n",
      "ticket_creation_reason            1792 non-null object\n",
      "ticket_origin                     1792 non-null object\n",
      "service_partner                   1792 non-null object\n",
      "date_ticket_initially_assigned    1792 non-null object\n",
      "latitude                          1792 non-null float64\n",
      "longitude                         1792 non-null float64\n",
      "installed_by                      1792 non-null object\n",
      "installation_date                 1792 non-null object\n",
      "dtypes: float64(2), object(9)\n",
      "memory usage: 168.0+ KB\n"
     ]
    }
   ],
   "source": [
    "df_all_shards_b.dropna(axis=0, how='any', inplace=True)\n",
    "df_all_shards_b.info()"
   ]
  },
  {
   "cell_type": "markdown",
   "metadata": {},
   "source": [
    "# Convert everthing to numbers for our machine to read."
   ]
  },
  {
   "cell_type": "markdown",
   "metadata": {},
   "source": [
    "### We want to use ticket_id to look things up later and will not encode it."
   ]
  },
  {
   "cell_type": "code",
   "execution_count": 27,
   "metadata": {},
   "outputs": [
    {
     "name": "stdout",
     "output_type": "stream",
     "text": [
      "<class 'pandas.core.frame.DataFrame'>\n",
      "Int64Index: 1792 entries, 0 to 5085\n",
      "Data columns (total 9 columns):\n",
      "asset_id                          1792 non-null object\n",
      "ticket_creation_reason            1792 non-null object\n",
      "ticket_origin                     1792 non-null object\n",
      "service_partner                   1792 non-null object\n",
      "date_ticket_initially_assigned    1792 non-null object\n",
      "latitude                          1792 non-null float64\n",
      "longitude                         1792 non-null float64\n",
      "installed_by                      1792 non-null object\n",
      "installation_date                 1792 non-null object\n",
      "dtypes: float64(2), object(7)\n",
      "memory usage: 140.0+ KB\n"
     ]
    }
   ],
   "source": [
    "df_sans_ticket = df_all_shards_b.drop(['ticket_id', 'root_cause'], axis=1).copy()\n",
    "df_sans_ticket.info()"
   ]
  },
  {
   "cell_type": "code",
   "execution_count": 28,
   "metadata": {},
   "outputs": [
    {
     "data": {
      "text/plain": [
       "['asset_id',\n",
       " 'ticket_creation_reason',\n",
       " 'ticket_origin',\n",
       " 'service_partner',\n",
       " 'date_ticket_initially_assigned',\n",
       " 'installed_by',\n",
       " 'installation_date']"
      ]
     },
     "execution_count": 28,
     "metadata": {},
     "output_type": "execute_result"
    }
   ],
   "source": [
    "# List our categorical features\n",
    "categoricals = list(df_sans_ticket.columns[(df_sans_ticket.dtypes.values == np.dtype('object'))])\n",
    "categoricals"
   ]
  },
  {
   "cell_type": "code",
   "execution_count": 29,
   "metadata": {},
   "outputs": [
    {
     "data": {
      "text/plain": [
       "OneHotEncoder(categorical_features=None, categories='auto', drop=None,\n",
       "              dtype=<class 'numpy.float64'>, handle_unknown='ignore',\n",
       "              n_values=None, sparse=True)"
      ]
     },
     "execution_count": 29,
     "metadata": {},
     "output_type": "execute_result"
    }
   ],
   "source": [
    "encoder = OneHotEncoder(categories='auto', handle_unknown='ignore')\n",
    "encoder.fit(df_sans_ticket[categoricals])"
   ]
  },
  {
   "cell_type": "code",
   "execution_count": 30,
   "metadata": {},
   "outputs": [
    {
     "name": "stdout",
     "output_type": "stream",
     "text": [
      "<class 'pandas.core.frame.DataFrame'>\n",
      "RangeIndex: 1792 entries, 0 to 1791\n",
      "Columns: 3962 entries, x0_101111473 to x6_2016-09-06 00:00:00\n",
      "dtypes: float64(3962)\n",
      "memory usage: 54.2 MB\n"
     ]
    }
   ],
   "source": [
    "enc_cat = pd.DataFrame(encoder.transform(df_sans_ticket[categoricals]).toarray(),\n",
    "                         columns=encoder.get_feature_names())\n",
    "enc_cat.info()"
   ]
  },
  {
   "cell_type": "code",
   "execution_count": 36,
   "metadata": {},
   "outputs": [
    {
     "data": {
      "text/html": [
       "<div>\n",
       "<style scoped>\n",
       "    .dataframe tbody tr th:only-of-type {\n",
       "        vertical-align: middle;\n",
       "    }\n",
       "\n",
       "    .dataframe tbody tr th {\n",
       "        vertical-align: top;\n",
       "    }\n",
       "\n",
       "    .dataframe thead th {\n",
       "        text-align: right;\n",
       "    }\n",
       "</style>\n",
       "<table border=\"1\" class=\"dataframe\">\n",
       "  <thead>\n",
       "    <tr style=\"text-align: right;\">\n",
       "      <th></th>\n",
       "      <th>x0_101111473</th>\n",
       "      <th>x0_101111478</th>\n",
       "      <th>x0_101111485</th>\n",
       "      <th>x0_101111489</th>\n",
       "      <th>x0_101111497</th>\n",
       "      <th>x0_101111499</th>\n",
       "      <th>x0_101111511</th>\n",
       "      <th>x0_101111513</th>\n",
       "      <th>x0_101111521</th>\n",
       "      <th>x0_101111528</th>\n",
       "      <th>...</th>\n",
       "      <th>x6_2016-04-19 00:00:00</th>\n",
       "      <th>x6_2016-04-27 00:00:00</th>\n",
       "      <th>x6_2016-05-11 00:00:00</th>\n",
       "      <th>x6_2016-05-18 00:00:00</th>\n",
       "      <th>x6_2016-06-29 00:00:00</th>\n",
       "      <th>x6_2016-07-01 00:00:00</th>\n",
       "      <th>x6_2016-07-09 00:00:00</th>\n",
       "      <th>x6_2016-08-03 00:00:00</th>\n",
       "      <th>x6_2016-08-09 00:00:00</th>\n",
       "      <th>x6_2016-09-06 00:00:00</th>\n",
       "    </tr>\n",
       "  </thead>\n",
       "  <tbody>\n",
       "    <tr>\n",
       "      <th>0</th>\n",
       "      <td>0.0</td>\n",
       "      <td>0.0</td>\n",
       "      <td>0.0</td>\n",
       "      <td>0.0</td>\n",
       "      <td>0.0</td>\n",
       "      <td>0.0</td>\n",
       "      <td>0.0</td>\n",
       "      <td>0.0</td>\n",
       "      <td>0.0</td>\n",
       "      <td>0.0</td>\n",
       "      <td>...</td>\n",
       "      <td>0.0</td>\n",
       "      <td>0.0</td>\n",
       "      <td>0.0</td>\n",
       "      <td>0.0</td>\n",
       "      <td>0.0</td>\n",
       "      <td>0.0</td>\n",
       "      <td>0.0</td>\n",
       "      <td>0.0</td>\n",
       "      <td>0.0</td>\n",
       "      <td>0.0</td>\n",
       "    </tr>\n",
       "    <tr>\n",
       "      <th>1</th>\n",
       "      <td>0.0</td>\n",
       "      <td>0.0</td>\n",
       "      <td>0.0</td>\n",
       "      <td>0.0</td>\n",
       "      <td>0.0</td>\n",
       "      <td>0.0</td>\n",
       "      <td>0.0</td>\n",
       "      <td>0.0</td>\n",
       "      <td>0.0</td>\n",
       "      <td>0.0</td>\n",
       "      <td>...</td>\n",
       "      <td>0.0</td>\n",
       "      <td>0.0</td>\n",
       "      <td>0.0</td>\n",
       "      <td>0.0</td>\n",
       "      <td>0.0</td>\n",
       "      <td>0.0</td>\n",
       "      <td>0.0</td>\n",
       "      <td>0.0</td>\n",
       "      <td>0.0</td>\n",
       "      <td>0.0</td>\n",
       "    </tr>\n",
       "    <tr>\n",
       "      <th>2</th>\n",
       "      <td>0.0</td>\n",
       "      <td>0.0</td>\n",
       "      <td>0.0</td>\n",
       "      <td>0.0</td>\n",
       "      <td>0.0</td>\n",
       "      <td>0.0</td>\n",
       "      <td>0.0</td>\n",
       "      <td>0.0</td>\n",
       "      <td>0.0</td>\n",
       "      <td>0.0</td>\n",
       "      <td>...</td>\n",
       "      <td>0.0</td>\n",
       "      <td>0.0</td>\n",
       "      <td>0.0</td>\n",
       "      <td>0.0</td>\n",
       "      <td>0.0</td>\n",
       "      <td>0.0</td>\n",
       "      <td>0.0</td>\n",
       "      <td>0.0</td>\n",
       "      <td>0.0</td>\n",
       "      <td>0.0</td>\n",
       "    </tr>\n",
       "    <tr>\n",
       "      <th>3</th>\n",
       "      <td>0.0</td>\n",
       "      <td>0.0</td>\n",
       "      <td>0.0</td>\n",
       "      <td>0.0</td>\n",
       "      <td>0.0</td>\n",
       "      <td>0.0</td>\n",
       "      <td>0.0</td>\n",
       "      <td>0.0</td>\n",
       "      <td>0.0</td>\n",
       "      <td>0.0</td>\n",
       "      <td>...</td>\n",
       "      <td>0.0</td>\n",
       "      <td>0.0</td>\n",
       "      <td>0.0</td>\n",
       "      <td>0.0</td>\n",
       "      <td>0.0</td>\n",
       "      <td>0.0</td>\n",
       "      <td>0.0</td>\n",
       "      <td>0.0</td>\n",
       "      <td>0.0</td>\n",
       "      <td>0.0</td>\n",
       "    </tr>\n",
       "    <tr>\n",
       "      <th>4</th>\n",
       "      <td>0.0</td>\n",
       "      <td>0.0</td>\n",
       "      <td>0.0</td>\n",
       "      <td>0.0</td>\n",
       "      <td>0.0</td>\n",
       "      <td>0.0</td>\n",
       "      <td>0.0</td>\n",
       "      <td>0.0</td>\n",
       "      <td>0.0</td>\n",
       "      <td>0.0</td>\n",
       "      <td>...</td>\n",
       "      <td>0.0</td>\n",
       "      <td>0.0</td>\n",
       "      <td>0.0</td>\n",
       "      <td>0.0</td>\n",
       "      <td>0.0</td>\n",
       "      <td>0.0</td>\n",
       "      <td>0.0</td>\n",
       "      <td>0.0</td>\n",
       "      <td>0.0</td>\n",
       "      <td>0.0</td>\n",
       "    </tr>\n",
       "  </tbody>\n",
       "</table>\n",
       "<p>5 rows × 3962 columns</p>\n",
       "</div>"
      ],
      "text/plain": [
       "   x0_101111473  x0_101111478  x0_101111485  x0_101111489  x0_101111497  \\\n",
       "0           0.0           0.0           0.0           0.0           0.0   \n",
       "1           0.0           0.0           0.0           0.0           0.0   \n",
       "2           0.0           0.0           0.0           0.0           0.0   \n",
       "3           0.0           0.0           0.0           0.0           0.0   \n",
       "4           0.0           0.0           0.0           0.0           0.0   \n",
       "\n",
       "   x0_101111499  x0_101111511  x0_101111513  x0_101111521  x0_101111528  ...  \\\n",
       "0           0.0           0.0           0.0           0.0           0.0  ...   \n",
       "1           0.0           0.0           0.0           0.0           0.0  ...   \n",
       "2           0.0           0.0           0.0           0.0           0.0  ...   \n",
       "3           0.0           0.0           0.0           0.0           0.0  ...   \n",
       "4           0.0           0.0           0.0           0.0           0.0  ...   \n",
       "\n",
       "   x6_2016-04-19 00:00:00  x6_2016-04-27 00:00:00  x6_2016-05-11 00:00:00  \\\n",
       "0                     0.0                     0.0                     0.0   \n",
       "1                     0.0                     0.0                     0.0   \n",
       "2                     0.0                     0.0                     0.0   \n",
       "3                     0.0                     0.0                     0.0   \n",
       "4                     0.0                     0.0                     0.0   \n",
       "\n",
       "   x6_2016-05-18 00:00:00  x6_2016-06-29 00:00:00  x6_2016-07-01 00:00:00  \\\n",
       "0                     0.0                     0.0                     0.0   \n",
       "1                     0.0                     0.0                     0.0   \n",
       "2                     0.0                     0.0                     0.0   \n",
       "3                     0.0                     0.0                     0.0   \n",
       "4                     0.0                     0.0                     0.0   \n",
       "\n",
       "   x6_2016-07-09 00:00:00  x6_2016-08-03 00:00:00  x6_2016-08-09 00:00:00  \\\n",
       "0                     0.0                     0.0                     0.0   \n",
       "1                     0.0                     0.0                     0.0   \n",
       "2                     0.0                     0.0                     0.0   \n",
       "3                     0.0                     0.0                     0.0   \n",
       "4                     0.0                     0.0                     0.0   \n",
       "\n",
       "   x6_2016-09-06 00:00:00  \n",
       "0                     0.0  \n",
       "1                     0.0  \n",
       "2                     0.0  \n",
       "3                     0.0  \n",
       "4                     0.0  \n",
       "\n",
       "[5 rows x 3962 columns]"
      ]
     },
     "execution_count": 36,
     "metadata": {},
     "output_type": "execute_result"
    }
   ],
   "source": [
    "# enc_cat.insert(loc=0, column='ticket_id', value=df101_e.ticket_id)\n",
    "enc_cat.head()"
   ]
  },
  {
   "cell_type": "code",
   "execution_count": 32,
   "metadata": {},
   "outputs": [
    {
     "name": "stdout",
     "output_type": "stream",
     "text": [
      "<class 'pandas.core.frame.DataFrame'>\n",
      "Int64Index: 1792 entries, 0 to 5085\n",
      "Data columns (total 4 columns):\n",
      "ticket_id     1792 non-null object\n",
      "root_cause    1792 non-null object\n",
      "latitude      1792 non-null float64\n",
      "longitude     1792 non-null float64\n",
      "dtypes: float64(2), object(2)\n",
      "memory usage: 70.0+ KB\n"
     ]
    }
   ],
   "source": [
    "# grab the other features\n",
    "df_other = df_all_shards_b.drop(categoricals, axis=1).copy()\n",
    "df_other.info()"
   ]
  },
  {
   "cell_type": "code",
   "execution_count": 33,
   "metadata": {},
   "outputs": [
    {
     "name": "stdout",
     "output_type": "stream",
     "text": [
      "<class 'pandas.core.frame.DataFrame'>\n",
      "Int64Index: 1792 entries, 0 to 5085\n",
      "Columns: 3966 entries, ticket_id to x6_2016-09-06 00:00:00\n",
      "dtypes: float64(3964), object(2)\n",
      "memory usage: 54.3+ MB\n"
     ]
    }
   ],
   "source": [
    "# put it back together\n",
    "df_enc = df_other.join(enc_cat)\n",
    "df_enc.info()"
   ]
  },
  {
   "cell_type": "code",
   "execution_count": 34,
   "metadata": {},
   "outputs": [
    {
     "data": {
      "text/plain": [
       "3962"
      ]
     },
     "execution_count": 34,
     "metadata": {},
     "output_type": "execute_result"
    }
   ],
   "source": [
    "df_enc.isna().any().sum()"
   ]
  },
  {
   "cell_type": "code",
   "execution_count": 35,
   "metadata": {},
   "outputs": [
    {
     "data": {
      "text/plain": [
       "ticket_id                 False\n",
       "root_cause                False\n",
       "latitude                  False\n",
       "longitude                 False\n",
       "x0_101111473               True\n",
       "x0_101111478               True\n",
       "x0_101111485               True\n",
       "x0_101111489               True\n",
       "x0_101111497               True\n",
       "x0_101111499               True\n",
       "x0_101111511               True\n",
       "x0_101111513               True\n",
       "x0_101111521               True\n",
       "x0_101111528               True\n",
       "x0_101111533               True\n",
       "x0_101111565               True\n",
       "x0_101111567               True\n",
       "x0_101111573               True\n",
       "x0_101111576               True\n",
       "x0_101111589               True\n",
       "x0_101111606               True\n",
       "x0_101111614               True\n",
       "x0_101111621               True\n",
       "x0_101111625               True\n",
       "x0_101111629               True\n",
       "x0_101111640               True\n",
       "x0_101111652               True\n",
       "x0_101111662               True\n",
       "x0_101111673               True\n",
       "x0_101111679               True\n",
       "                          ...  \n",
       "x6_2015-12-28 00:00:00     True\n",
       "x6_2015-12-29 00:00:00     True\n",
       "x6_2016-01-04 00:00:00     True\n",
       "x6_2016-01-06 00:00:00     True\n",
       "x6_2016-01-07 00:00:00     True\n",
       "x6_2016-01-11 00:00:00     True\n",
       "x6_2016-01-14 00:00:00     True\n",
       "x6_2016-01-20 00:00:00     True\n",
       "x6_2016-02-04 00:00:00     True\n",
       "x6_2016-02-15 00:00:00     True\n",
       "x6_2016-02-19 00:00:00     True\n",
       "x6_2016-02-25 00:00:00     True\n",
       "x6_2016-02-26 00:00:00     True\n",
       "x6_2016-03-09 00:00:00     True\n",
       "x6_2016-03-16 00:00:00     True\n",
       "x6_2016-03-17 00:00:00     True\n",
       "x6_2016-03-21 00:00:00     True\n",
       "x6_2016-03-22 00:00:00     True\n",
       "x6_2016-03-31 00:00:00     True\n",
       "x6_2016-04-15 00:00:00     True\n",
       "x6_2016-04-19 00:00:00     True\n",
       "x6_2016-04-27 00:00:00     True\n",
       "x6_2016-05-11 00:00:00     True\n",
       "x6_2016-05-18 00:00:00     True\n",
       "x6_2016-06-29 00:00:00     True\n",
       "x6_2016-07-01 00:00:00     True\n",
       "x6_2016-07-09 00:00:00     True\n",
       "x6_2016-08-03 00:00:00     True\n",
       "x6_2016-08-09 00:00:00     True\n",
       "x6_2016-09-06 00:00:00     True\n",
       "Length: 3966, dtype: bool"
      ]
     },
     "execution_count": 35,
     "metadata": {},
     "output_type": "execute_result"
    }
   ],
   "source": [
    "df_enc.isnull().any()"
   ]
  },
  {
   "cell_type": "markdown",
   "metadata": {},
   "source": [
    "### It looks like the 0.0 from our binary encoding turned into nulls. We'll change them back."
   ]
  },
  {
   "cell_type": "code",
   "execution_count": 37,
   "metadata": {},
   "outputs": [],
   "source": [
    "df_enc.fillna(0.0, inplace=True)"
   ]
  },
  {
   "cell_type": "code",
   "execution_count": 38,
   "metadata": {},
   "outputs": [
    {
     "data": {
      "text/plain": [
       "0"
      ]
     },
     "execution_count": 38,
     "metadata": {},
     "output_type": "execute_result"
    }
   ],
   "source": [
    "df_enc.isna().any().sum()"
   ]
  },
  {
   "cell_type": "markdown",
   "metadata": {},
   "source": [
    "## Train-test-split."
   ]
  },
  {
   "cell_type": "code",
   "execution_count": 39,
   "metadata": {},
   "outputs": [],
   "source": [
    "X_enc = df_enc.drop(['root_cause'], axis=1).copy()\n",
    "y_enc = df_enc['root_cause']\n",
    "X_train_enc, X_test_enc, y_train_enc, y_test_enc = train_test_split(X_enc, y_enc, random_state=42,\n",
    "                                                                    test_size=0.2)"
   ]
  },
  {
   "cell_type": "code",
   "execution_count": 40,
   "metadata": {},
   "outputs": [
    {
     "data": {
      "text/html": [
       "<div>\n",
       "<style scoped>\n",
       "    .dataframe tbody tr th:only-of-type {\n",
       "        vertical-align: middle;\n",
       "    }\n",
       "\n",
       "    .dataframe tbody tr th {\n",
       "        vertical-align: top;\n",
       "    }\n",
       "\n",
       "    .dataframe thead th {\n",
       "        text-align: right;\n",
       "    }\n",
       "</style>\n",
       "<table border=\"1\" class=\"dataframe\">\n",
       "  <thead>\n",
       "    <tr style=\"text-align: right;\">\n",
       "      <th></th>\n",
       "      <th>ticket_id</th>\n",
       "      <th>latitude</th>\n",
       "      <th>longitude</th>\n",
       "      <th>x0_101111473</th>\n",
       "      <th>x0_101111478</th>\n",
       "      <th>x0_101111485</th>\n",
       "      <th>x0_101111489</th>\n",
       "      <th>x0_101111497</th>\n",
       "      <th>x0_101111499</th>\n",
       "      <th>x0_101111511</th>\n",
       "      <th>...</th>\n",
       "      <th>x6_2016-04-19 00:00:00</th>\n",
       "      <th>x6_2016-04-27 00:00:00</th>\n",
       "      <th>x6_2016-05-11 00:00:00</th>\n",
       "      <th>x6_2016-05-18 00:00:00</th>\n",
       "      <th>x6_2016-06-29 00:00:00</th>\n",
       "      <th>x6_2016-07-01 00:00:00</th>\n",
       "      <th>x6_2016-07-09 00:00:00</th>\n",
       "      <th>x6_2016-08-03 00:00:00</th>\n",
       "      <th>x6_2016-08-09 00:00:00</th>\n",
       "      <th>x6_2016-09-06 00:00:00</th>\n",
       "    </tr>\n",
       "  </thead>\n",
       "  <tbody>\n",
       "    <tr>\n",
       "      <th>1172</th>\n",
       "      <td>15203.0</td>\n",
       "      <td>37.413367</td>\n",
       "      <td>-121.873286</td>\n",
       "      <td>0.0</td>\n",
       "      <td>0.0</td>\n",
       "      <td>0.0</td>\n",
       "      <td>0.0</td>\n",
       "      <td>0.0</td>\n",
       "      <td>0.0</td>\n",
       "      <td>0.0</td>\n",
       "      <td>...</td>\n",
       "      <td>0.0</td>\n",
       "      <td>0.0</td>\n",
       "      <td>0.0</td>\n",
       "      <td>0.0</td>\n",
       "      <td>0.0</td>\n",
       "      <td>0.0</td>\n",
       "      <td>0.0</td>\n",
       "      <td>0.0</td>\n",
       "      <td>0.0</td>\n",
       "      <td>0.0</td>\n",
       "    </tr>\n",
       "    <tr>\n",
       "      <th>5023</th>\n",
       "      <td>29218.0</td>\n",
       "      <td>34.146582</td>\n",
       "      <td>-118.841237</td>\n",
       "      <td>0.0</td>\n",
       "      <td>0.0</td>\n",
       "      <td>0.0</td>\n",
       "      <td>0.0</td>\n",
       "      <td>0.0</td>\n",
       "      <td>0.0</td>\n",
       "      <td>0.0</td>\n",
       "      <td>...</td>\n",
       "      <td>0.0</td>\n",
       "      <td>0.0</td>\n",
       "      <td>0.0</td>\n",
       "      <td>0.0</td>\n",
       "      <td>0.0</td>\n",
       "      <td>0.0</td>\n",
       "      <td>0.0</td>\n",
       "      <td>0.0</td>\n",
       "      <td>0.0</td>\n",
       "      <td>0.0</td>\n",
       "    </tr>\n",
       "    <tr>\n",
       "      <th>5033</th>\n",
       "      <td>24031.0</td>\n",
       "      <td>33.695164</td>\n",
       "      <td>-117.385826</td>\n",
       "      <td>0.0</td>\n",
       "      <td>0.0</td>\n",
       "      <td>0.0</td>\n",
       "      <td>0.0</td>\n",
       "      <td>0.0</td>\n",
       "      <td>0.0</td>\n",
       "      <td>0.0</td>\n",
       "      <td>...</td>\n",
       "      <td>0.0</td>\n",
       "      <td>0.0</td>\n",
       "      <td>0.0</td>\n",
       "      <td>0.0</td>\n",
       "      <td>0.0</td>\n",
       "      <td>0.0</td>\n",
       "      <td>0.0</td>\n",
       "      <td>0.0</td>\n",
       "      <td>0.0</td>\n",
       "      <td>0.0</td>\n",
       "    </tr>\n",
       "    <tr>\n",
       "      <th>5016</th>\n",
       "      <td>18741.0</td>\n",
       "      <td>35.718205</td>\n",
       "      <td>-120.865597</td>\n",
       "      <td>0.0</td>\n",
       "      <td>0.0</td>\n",
       "      <td>0.0</td>\n",
       "      <td>0.0</td>\n",
       "      <td>0.0</td>\n",
       "      <td>0.0</td>\n",
       "      <td>0.0</td>\n",
       "      <td>...</td>\n",
       "      <td>0.0</td>\n",
       "      <td>0.0</td>\n",
       "      <td>0.0</td>\n",
       "      <td>0.0</td>\n",
       "      <td>0.0</td>\n",
       "      <td>0.0</td>\n",
       "      <td>0.0</td>\n",
       "      <td>0.0</td>\n",
       "      <td>0.0</td>\n",
       "      <td>0.0</td>\n",
       "    </tr>\n",
       "    <tr>\n",
       "      <th>188</th>\n",
       "      <td>13425.0</td>\n",
       "      <td>32.804040</td>\n",
       "      <td>-117.055745</td>\n",
       "      <td>0.0</td>\n",
       "      <td>0.0</td>\n",
       "      <td>0.0</td>\n",
       "      <td>0.0</td>\n",
       "      <td>0.0</td>\n",
       "      <td>0.0</td>\n",
       "      <td>0.0</td>\n",
       "      <td>...</td>\n",
       "      <td>0.0</td>\n",
       "      <td>0.0</td>\n",
       "      <td>0.0</td>\n",
       "      <td>0.0</td>\n",
       "      <td>0.0</td>\n",
       "      <td>0.0</td>\n",
       "      <td>0.0</td>\n",
       "      <td>0.0</td>\n",
       "      <td>0.0</td>\n",
       "      <td>0.0</td>\n",
       "    </tr>\n",
       "  </tbody>\n",
       "</table>\n",
       "<p>5 rows × 3965 columns</p>\n",
       "</div>"
      ],
      "text/plain": [
       "      ticket_id   latitude   longitude  x0_101111473  x0_101111478  \\\n",
       "1172    15203.0  37.413367 -121.873286           0.0           0.0   \n",
       "5023    29218.0  34.146582 -118.841237           0.0           0.0   \n",
       "5033    24031.0  33.695164 -117.385826           0.0           0.0   \n",
       "5016    18741.0  35.718205 -120.865597           0.0           0.0   \n",
       "188     13425.0  32.804040 -117.055745           0.0           0.0   \n",
       "\n",
       "      x0_101111485  x0_101111489  x0_101111497  x0_101111499  x0_101111511  \\\n",
       "1172           0.0           0.0           0.0           0.0           0.0   \n",
       "5023           0.0           0.0           0.0           0.0           0.0   \n",
       "5033           0.0           0.0           0.0           0.0           0.0   \n",
       "5016           0.0           0.0           0.0           0.0           0.0   \n",
       "188            0.0           0.0           0.0           0.0           0.0   \n",
       "\n",
       "      ...  x6_2016-04-19 00:00:00  x6_2016-04-27 00:00:00  \\\n",
       "1172  ...                     0.0                     0.0   \n",
       "5023  ...                     0.0                     0.0   \n",
       "5033  ...                     0.0                     0.0   \n",
       "5016  ...                     0.0                     0.0   \n",
       "188   ...                     0.0                     0.0   \n",
       "\n",
       "      x6_2016-05-11 00:00:00  x6_2016-05-18 00:00:00  x6_2016-06-29 00:00:00  \\\n",
       "1172                     0.0                     0.0                     0.0   \n",
       "5023                     0.0                     0.0                     0.0   \n",
       "5033                     0.0                     0.0                     0.0   \n",
       "5016                     0.0                     0.0                     0.0   \n",
       "188                      0.0                     0.0                     0.0   \n",
       "\n",
       "      x6_2016-07-01 00:00:00  x6_2016-07-09 00:00:00  x6_2016-08-03 00:00:00  \\\n",
       "1172                     0.0                     0.0                     0.0   \n",
       "5023                     0.0                     0.0                     0.0   \n",
       "5033                     0.0                     0.0                     0.0   \n",
       "5016                     0.0                     0.0                     0.0   \n",
       "188                      0.0                     0.0                     0.0   \n",
       "\n",
       "      x6_2016-08-09 00:00:00  x6_2016-09-06 00:00:00  \n",
       "1172                     0.0                     0.0  \n",
       "5023                     0.0                     0.0  \n",
       "5033                     0.0                     0.0  \n",
       "5016                     0.0                     0.0  \n",
       "188                      0.0                     0.0  \n",
       "\n",
       "[5 rows x 3965 columns]"
      ]
     },
     "execution_count": 40,
     "metadata": {},
     "output_type": "execute_result"
    }
   ],
   "source": [
    "# X_train_enc.head()"
   ]
  },
  {
   "cell_type": "code",
   "execution_count": 41,
   "metadata": {},
   "outputs": [
    {
     "name": "stdout",
     "output_type": "stream",
     "text": [
      "<class 'pandas.core.frame.DataFrame'>\n",
      "Int64Index: 1433 entries, 1172 to 1187\n",
      "Columns: 3965 entries, ticket_id to x6_2016-09-06 00:00:00\n",
      "dtypes: float64(3965)\n",
      "memory usage: 43.4 MB\n"
     ]
    }
   ],
   "source": [
    "X_train_enc.info()"
   ]
  },
  {
   "cell_type": "code",
   "execution_count": 42,
   "metadata": {},
   "outputs": [
    {
     "data": {
      "text/plain": [
       "(1433,)"
      ]
     },
     "execution_count": 42,
     "metadata": {},
     "output_type": "execute_result"
    }
   ],
   "source": [
    "y_train_enc.shape"
   ]
  },
  {
   "cell_type": "code",
   "execution_count": 43,
   "metadata": {},
   "outputs": [
    {
     "data": {
      "text/html": [
       "<div>\n",
       "<style scoped>\n",
       "    .dataframe tbody tr th:only-of-type {\n",
       "        vertical-align: middle;\n",
       "    }\n",
       "\n",
       "    .dataframe tbody tr th {\n",
       "        vertical-align: top;\n",
       "    }\n",
       "\n",
       "    .dataframe thead th {\n",
       "        text-align: right;\n",
       "    }\n",
       "</style>\n",
       "<table border=\"1\" class=\"dataframe\">\n",
       "  <thead>\n",
       "    <tr style=\"text-align: right;\">\n",
       "      <th></th>\n",
       "      <th>ticket_id</th>\n",
       "      <th>latitude</th>\n",
       "      <th>longitude</th>\n",
       "      <th>x0_101111473</th>\n",
       "      <th>x0_101111478</th>\n",
       "      <th>x0_101111485</th>\n",
       "      <th>x0_101111489</th>\n",
       "      <th>x0_101111497</th>\n",
       "      <th>x0_101111499</th>\n",
       "      <th>x0_101111511</th>\n",
       "      <th>...</th>\n",
       "      <th>x6_2016-04-19 00:00:00</th>\n",
       "      <th>x6_2016-04-27 00:00:00</th>\n",
       "      <th>x6_2016-05-11 00:00:00</th>\n",
       "      <th>x6_2016-05-18 00:00:00</th>\n",
       "      <th>x6_2016-06-29 00:00:00</th>\n",
       "      <th>x6_2016-07-01 00:00:00</th>\n",
       "      <th>x6_2016-07-09 00:00:00</th>\n",
       "      <th>x6_2016-08-03 00:00:00</th>\n",
       "      <th>x6_2016-08-09 00:00:00</th>\n",
       "      <th>x6_2016-09-06 00:00:00</th>\n",
       "    </tr>\n",
       "  </thead>\n",
       "  <tbody>\n",
       "    <tr>\n",
       "      <th>685</th>\n",
       "      <td>9115.0</td>\n",
       "      <td>32.826304</td>\n",
       "      <td>-116.997396</td>\n",
       "      <td>0.0</td>\n",
       "      <td>0.0</td>\n",
       "      <td>0.0</td>\n",
       "      <td>0.0</td>\n",
       "      <td>0.0</td>\n",
       "      <td>0.0</td>\n",
       "      <td>0.0</td>\n",
       "      <td>...</td>\n",
       "      <td>0.0</td>\n",
       "      <td>0.0</td>\n",
       "      <td>0.0</td>\n",
       "      <td>0.0</td>\n",
       "      <td>0.0</td>\n",
       "      <td>0.0</td>\n",
       "      <td>0.0</td>\n",
       "      <td>0.0</td>\n",
       "      <td>0.0</td>\n",
       "      <td>0.0</td>\n",
       "    </tr>\n",
       "    <tr>\n",
       "      <th>236</th>\n",
       "      <td>6126.0</td>\n",
       "      <td>33.398961</td>\n",
       "      <td>-112.083460</td>\n",
       "      <td>0.0</td>\n",
       "      <td>0.0</td>\n",
       "      <td>0.0</td>\n",
       "      <td>0.0</td>\n",
       "      <td>0.0</td>\n",
       "      <td>0.0</td>\n",
       "      <td>0.0</td>\n",
       "      <td>...</td>\n",
       "      <td>0.0</td>\n",
       "      <td>0.0</td>\n",
       "      <td>0.0</td>\n",
       "      <td>0.0</td>\n",
       "      <td>0.0</td>\n",
       "      <td>0.0</td>\n",
       "      <td>0.0</td>\n",
       "      <td>0.0</td>\n",
       "      <td>0.0</td>\n",
       "      <td>0.0</td>\n",
       "    </tr>\n",
       "    <tr>\n",
       "      <th>1118</th>\n",
       "      <td>3603.0</td>\n",
       "      <td>34.448303</td>\n",
       "      <td>-118.498772</td>\n",
       "      <td>0.0</td>\n",
       "      <td>0.0</td>\n",
       "      <td>0.0</td>\n",
       "      <td>0.0</td>\n",
       "      <td>0.0</td>\n",
       "      <td>0.0</td>\n",
       "      <td>0.0</td>\n",
       "      <td>...</td>\n",
       "      <td>0.0</td>\n",
       "      <td>0.0</td>\n",
       "      <td>0.0</td>\n",
       "      <td>0.0</td>\n",
       "      <td>0.0</td>\n",
       "      <td>0.0</td>\n",
       "      <td>0.0</td>\n",
       "      <td>0.0</td>\n",
       "      <td>0.0</td>\n",
       "      <td>0.0</td>\n",
       "    </tr>\n",
       "    <tr>\n",
       "      <th>473</th>\n",
       "      <td>12803.0</td>\n",
       "      <td>33.830443</td>\n",
       "      <td>-116.474820</td>\n",
       "      <td>0.0</td>\n",
       "      <td>0.0</td>\n",
       "      <td>0.0</td>\n",
       "      <td>0.0</td>\n",
       "      <td>0.0</td>\n",
       "      <td>0.0</td>\n",
       "      <td>0.0</td>\n",
       "      <td>...</td>\n",
       "      <td>0.0</td>\n",
       "      <td>0.0</td>\n",
       "      <td>0.0</td>\n",
       "      <td>0.0</td>\n",
       "      <td>0.0</td>\n",
       "      <td>0.0</td>\n",
       "      <td>0.0</td>\n",
       "      <td>0.0</td>\n",
       "      <td>0.0</td>\n",
       "      <td>0.0</td>\n",
       "    </tr>\n",
       "    <tr>\n",
       "      <th>4766</th>\n",
       "      <td>18753.0</td>\n",
       "      <td>33.471713</td>\n",
       "      <td>-117.073093</td>\n",
       "      <td>0.0</td>\n",
       "      <td>0.0</td>\n",
       "      <td>0.0</td>\n",
       "      <td>0.0</td>\n",
       "      <td>0.0</td>\n",
       "      <td>0.0</td>\n",
       "      <td>0.0</td>\n",
       "      <td>...</td>\n",
       "      <td>0.0</td>\n",
       "      <td>0.0</td>\n",
       "      <td>0.0</td>\n",
       "      <td>0.0</td>\n",
       "      <td>0.0</td>\n",
       "      <td>0.0</td>\n",
       "      <td>0.0</td>\n",
       "      <td>0.0</td>\n",
       "      <td>0.0</td>\n",
       "      <td>0.0</td>\n",
       "    </tr>\n",
       "  </tbody>\n",
       "</table>\n",
       "<p>5 rows × 3965 columns</p>\n",
       "</div>"
      ],
      "text/plain": [
       "      ticket_id   latitude   longitude  x0_101111473  x0_101111478  \\\n",
       "685      9115.0  32.826304 -116.997396           0.0           0.0   \n",
       "236      6126.0  33.398961 -112.083460           0.0           0.0   \n",
       "1118     3603.0  34.448303 -118.498772           0.0           0.0   \n",
       "473     12803.0  33.830443 -116.474820           0.0           0.0   \n",
       "4766    18753.0  33.471713 -117.073093           0.0           0.0   \n",
       "\n",
       "      x0_101111485  x0_101111489  x0_101111497  x0_101111499  x0_101111511  \\\n",
       "685            0.0           0.0           0.0           0.0           0.0   \n",
       "236            0.0           0.0           0.0           0.0           0.0   \n",
       "1118           0.0           0.0           0.0           0.0           0.0   \n",
       "473            0.0           0.0           0.0           0.0           0.0   \n",
       "4766           0.0           0.0           0.0           0.0           0.0   \n",
       "\n",
       "      ...  x6_2016-04-19 00:00:00  x6_2016-04-27 00:00:00  \\\n",
       "685   ...                     0.0                     0.0   \n",
       "236   ...                     0.0                     0.0   \n",
       "1118  ...                     0.0                     0.0   \n",
       "473   ...                     0.0                     0.0   \n",
       "4766  ...                     0.0                     0.0   \n",
       "\n",
       "      x6_2016-05-11 00:00:00  x6_2016-05-18 00:00:00  x6_2016-06-29 00:00:00  \\\n",
       "685                      0.0                     0.0                     0.0   \n",
       "236                      0.0                     0.0                     0.0   \n",
       "1118                     0.0                     0.0                     0.0   \n",
       "473                      0.0                     0.0                     0.0   \n",
       "4766                     0.0                     0.0                     0.0   \n",
       "\n",
       "      x6_2016-07-01 00:00:00  x6_2016-07-09 00:00:00  x6_2016-08-03 00:00:00  \\\n",
       "685                      0.0                     0.0                     0.0   \n",
       "236                      0.0                     0.0                     0.0   \n",
       "1118                     0.0                     0.0                     0.0   \n",
       "473                      0.0                     0.0                     0.0   \n",
       "4766                     0.0                     0.0                     0.0   \n",
       "\n",
       "      x6_2016-08-09 00:00:00  x6_2016-09-06 00:00:00  \n",
       "685                      0.0                     0.0  \n",
       "236                      0.0                     0.0  \n",
       "1118                     0.0                     0.0  \n",
       "473                      0.0                     0.0  \n",
       "4766                     0.0                     0.0  \n",
       "\n",
       "[5 rows x 3965 columns]"
      ]
     },
     "execution_count": 43,
     "metadata": {},
     "output_type": "execute_result"
    }
   ],
   "source": [
    "# X_test_enc.head()"
   ]
  },
  {
   "cell_type": "code",
   "execution_count": 44,
   "metadata": {},
   "outputs": [
    {
     "name": "stdout",
     "output_type": "stream",
     "text": [
      "<class 'pandas.core.frame.DataFrame'>\n",
      "Int64Index: 359 entries, 685 to 1380\n",
      "Columns: 3965 entries, ticket_id to x6_2016-09-06 00:00:00\n",
      "dtypes: float64(3965)\n",
      "memory usage: 10.9 MB\n"
     ]
    }
   ],
   "source": [
    "X_test_enc.info()"
   ]
  },
  {
   "cell_type": "code",
   "execution_count": 45,
   "metadata": {},
   "outputs": [
    {
     "data": {
      "text/plain": [
       "(359,)"
      ]
     },
     "execution_count": 45,
     "metadata": {},
     "output_type": "execute_result"
    }
   ],
   "source": [
    "y_test_enc.shape"
   ]
  },
  {
   "cell_type": "markdown",
   "metadata": {},
   "source": [
    "# **********************************"
   ]
  },
  {
   "cell_type": "markdown",
   "metadata": {},
   "source": [
    "### Modeling"
   ]
  },
  {
   "cell_type": "code",
   "execution_count": 46,
   "metadata": {},
   "outputs": [],
   "source": [
    "random_state=42"
   ]
  },
  {
   "cell_type": "code",
   "execution_count": 47,
   "metadata": {},
   "outputs": [],
   "source": [
    "names = ['Logistic Regression', 'Nearest Neighbors', 'RBF SVM',\n",
    "         'Decision Tree', 'Random Forest', 'Neural Net', 'Bagging', 'AdaBoost',\n",
    "         'Gradient Boost']"
   ]
  },
  {
   "cell_type": "code",
   "execution_count": 31,
   "metadata": {},
   "outputs": [],
   "source": [
    "# lr = LogisticRegression(random_state=42, solver='lbfgs',  multi_class='multinomial', max_iter=10000)\n",
    "# lr.fit(X_train_enc, y_train_enc)\n",
    "# lr.score(X_test_enc, y_test_enc)"
   ]
  },
  {
   "cell_type": "code",
   "execution_count": 32,
   "metadata": {},
   "outputs": [],
   "source": [
    "# lr = LogisticRegression(random_state=42, solver='sag',\n",
    "#                         multi_class='multinomial', max_iter=10000)\n",
    "# lr.fit(X_train_enc, y_train_enc)\n",
    "# lr.score(X_test_enc, y_test_enc)"
   ]
  },
  {
   "cell_type": "code",
   "execution_count": 33,
   "metadata": {},
   "outputs": [],
   "source": [
    "# lr = LogisticRegression(random_state=42, solver='saga',\n",
    "#                         multi_class='multinomial', max_iter=10000)\n",
    "# lr.fit(X_train_enc, y_train_enc)\n",
    "# lr.score(X_test_enc, y_test_enc)"
   ]
  },
  {
   "cell_type": "code",
   "execution_count": 34,
   "metadata": {},
   "outputs": [],
   "source": [
    "# try weeiging less common classes. This is not great right now because the test data may not have all classes.\n",
    "# lr = LogisticRegression(random_state=42, class_weight='balanced', solver='sag',\n",
    "#                         multi_class='multinomial', max_iter=10000)\n",
    "# lr.fit(X_train_enc, y_train_enc)\n",
    "# lr.score(X_test_enc, y_test_enc)"
   ]
  },
  {
   "cell_type": "code",
   "execution_count": 35,
   "metadata": {},
   "outputs": [
    {
     "data": {
      "text/plain": [
       "0.5818181818181818"
      ]
     },
     "execution_count": 35,
     "metadata": {},
     "output_type": "execute_result"
    }
   ],
   "source": [
    "kn = KNeighborsClassifier()\n",
    "kn.fit(X_train_enc, y_train_enc)\n",
    "kn.score(X_test_enc, y_test_enc)"
   ]
  },
  {
   "cell_type": "code",
   "execution_count": 36,
   "metadata": {},
   "outputs": [
    {
     "data": {
      "text/plain": [
       "0.7212121212121212"
      ]
     },
     "execution_count": 36,
     "metadata": {},
     "output_type": "execute_result"
    }
   ],
   "source": [
    "svc_g = SVC(gamma=2, C=1)\n",
    "svc_g.fit(X_train_enc, y_train_enc)\n",
    "svc_g.score(X_test_enc, y_test_enc)"
   ]
  },
  {
   "cell_type": "code",
   "execution_count": 37,
   "metadata": {},
   "outputs": [
    {
     "data": {
      "text/plain": [
       "0.6060606060606061"
      ]
     },
     "execution_count": 37,
     "metadata": {},
     "output_type": "execute_result"
    }
   ],
   "source": [
    "dt = DecisionTreeClassifier(min_samples_leaf=30)\n",
    "dt.fit(X_train_enc, y_train_enc)\n",
    "dt.score(X_test_enc, y_test_enc)"
   ]
  },
  {
   "cell_type": "code",
   "execution_count": 38,
   "metadata": {},
   "outputs": [
    {
     "data": {
      "text/plain": [
       "0.5818181818181818"
      ]
     },
     "execution_count": 38,
     "metadata": {},
     "output_type": "execute_result"
    }
   ],
   "source": [
    "dt = DecisionTreeClassifier(min_samples_leaf=100)\n",
    "dt.fit(X_train_enc, y_train_enc)\n",
    "dt.score(X_test_enc, y_test_enc)"
   ]
  },
  {
   "cell_type": "code",
   "execution_count": 39,
   "metadata": {},
   "outputs": [
    {
     "data": {
      "text/plain": [
       "0.5818181818181818"
      ]
     },
     "execution_count": 39,
     "metadata": {},
     "output_type": "execute_result"
    }
   ],
   "source": [
    "rf = RandomForestClassifier(max_depth=5, n_estimators=10, max_features=1)\n",
    "rf.fit(X_train_enc, y_train_enc)\n",
    "rf.score(X_test_enc, y_test_enc)"
   ]
  },
  {
   "cell_type": "code",
   "execution_count": 40,
   "metadata": {},
   "outputs": [
    {
     "data": {
      "text/plain": [
       "0.8242424242424242"
      ]
     },
     "execution_count": 40,
     "metadata": {},
     "output_type": "execute_result"
    }
   ],
   "source": [
    "rf = RandomForestClassifier(n_estimators=100,criterion='entropy')\n",
    "rf.fit(X_train_enc, y_train_enc)\n",
    "rf.score(X_test_enc, y_test_enc)"
   ]
  },
  {
   "cell_type": "code",
   "execution_count": 41,
   "metadata": {},
   "outputs": [
    {
     "data": {
      "text/plain": [
       "0.8666666666666667"
      ]
     },
     "execution_count": 41,
     "metadata": {},
     "output_type": "execute_result"
    }
   ],
   "source": [
    "rf = RandomForestClassifier(n_estimators=100,criterion='gini')\n",
    "rf.fit(X_train_enc, y_train_enc)\n",
    "rf.score(X_test_enc, y_test_enc)"
   ]
  },
  {
   "cell_type": "code",
   "execution_count": 42,
   "metadata": {},
   "outputs": [
    {
     "data": {
      "text/plain": [
       "0.8424242424242424"
      ]
     },
     "execution_count": 42,
     "metadata": {},
     "output_type": "execute_result"
    }
   ],
   "source": [
    "rf = RandomForestClassifier(n_estimators=200,criterion='entropy')\n",
    "rf.fit(X_train_enc, y_train_enc)\n",
    "rf.score(X_test_enc, y_test_enc)"
   ]
  },
  {
   "cell_type": "code",
   "execution_count": 43,
   "metadata": {},
   "outputs": [
    {
     "data": {
      "text/plain": [
       "0.3939393939393939"
      ]
     },
     "execution_count": 43,
     "metadata": {},
     "output_type": "execute_result"
    }
   ],
   "source": [
    "mlp = MLPClassifier(alpha=1, max_iter=1000)\n",
    "mlp.fit(X_train_enc, y_train_enc)\n",
    "mlp.score(X_test_enc, y_test_enc)"
   ]
  },
  {
   "cell_type": "code",
   "execution_count": 44,
   "metadata": {},
   "outputs": [
    {
     "data": {
      "text/plain": [
       "0.3939393939393939"
      ]
     },
     "execution_count": 44,
     "metadata": {},
     "output_type": "execute_result"
    }
   ],
   "source": [
    "mlp = MLPClassifier(max_iter=100)\n",
    "mlp.fit(X_train_enc, y_train_enc)\n",
    "mlp.score(X_test_enc, y_test_enc)"
   ]
  },
  {
   "cell_type": "code",
   "execution_count": 45,
   "metadata": {},
   "outputs": [
    {
     "data": {
      "text/plain": [
       "0.2"
      ]
     },
     "execution_count": 45,
     "metadata": {},
     "output_type": "execute_result"
    }
   ],
   "source": [
    "mlp = MLPClassifier(max_iter=100)\n",
    "mlp.fit(X_train_enc, y_train_enc)\n",
    "mlp.score(X_test_enc, y_test_enc)"
   ]
  },
  {
   "cell_type": "code",
   "execution_count": 46,
   "metadata": {},
   "outputs": [
    {
     "data": {
      "text/plain": [
       "0.8242424242424242"
      ]
     },
     "execution_count": 46,
     "metadata": {},
     "output_type": "execute_result"
    }
   ],
   "source": [
    "bag = BaggingClassifier(random_state=42)\n",
    "bag.fit(X_train_enc, y_train_enc)\n",
    "bag.score(X_test_enc, y_test_enc)"
   ]
  },
  {
   "cell_type": "code",
   "execution_count": 47,
   "metadata": {},
   "outputs": [
    {
     "data": {
      "text/plain": [
       "0.8303030303030303"
      ]
     },
     "execution_count": 47,
     "metadata": {},
     "output_type": "execute_result"
    }
   ],
   "source": [
    "bag = BaggingClassifier(random_state=42, bootstrap_features=True)\n",
    "bag.fit(X_train_enc, y_train_enc)\n",
    "bag.score(X_test_enc, y_test_enc)"
   ]
  },
  {
   "cell_type": "code",
   "execution_count": 48,
   "metadata": {},
   "outputs": [
    {
     "data": {
      "text/plain": [
       "0.8303030303030303"
      ]
     },
     "execution_count": 48,
     "metadata": {},
     "output_type": "execute_result"
    }
   ],
   "source": [
    "bag = BaggingClassifier(random_state=42, bootstrap_features=True, warm_start=True)\n",
    "bag.fit(X_train_enc, y_train_enc)\n",
    "bag.score(X_test_enc, y_test_enc)"
   ]
  },
  {
   "cell_type": "code",
   "execution_count": 49,
   "metadata": {},
   "outputs": [
    {
     "data": {
      "text/plain": [
       "0.5818181818181818"
      ]
     },
     "execution_count": 49,
     "metadata": {},
     "output_type": "execute_result"
    }
   ],
   "source": [
    "ada = AdaBoostClassifier(random_state=42)\n",
    "ada.fit(X_train_enc, y_train_enc)\n",
    "ada.score(X_test_enc, y_test_enc)"
   ]
  },
  {
   "cell_type": "code",
   "execution_count": 50,
   "metadata": {},
   "outputs": [
    {
     "data": {
      "text/plain": [
       "0.7696969696969697"
      ]
     },
     "execution_count": 50,
     "metadata": {},
     "output_type": "execute_result"
    }
   ],
   "source": [
    "gb = GradientBoostingClassifier(random_state=42, min_samples_leaf=30)\n",
    "gb.fit(X_train_enc, y_train_enc)\n",
    "gb.score(X_test_enc, y_test_enc)"
   ]
  }
 ],
 "metadata": {
  "kernelspec": {
   "display_name": "learn2env",
   "language": "python",
   "name": "learn2env"
  },
  "language_info": {
   "codemirror_mode": {
    "name": "ipython",
    "version": 3
   },
   "file_extension": ".py",
   "mimetype": "text/x-python",
   "name": "python",
   "nbconvert_exporter": "python",
   "pygments_lexer": "ipython3",
   "version": "3.7.3"
  }
 },
 "nbformat": 4,
 "nbformat_minor": 2
}
