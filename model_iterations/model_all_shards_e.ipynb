{
 "cells": [
  {
   "cell_type": "code",
   "execution_count": null,
   "metadata": {},
   "outputs": [],
   "source": []
  },
  {
   "cell_type": "code",
   "execution_count": 1,
   "metadata": {},
   "outputs": [],
   "source": [
    "from sklearn.tree import DecisionTreeClassifier\n",
    "from sklearn.ensemble import GradientBoostingClassifier, RandomForestClassifier, BaggingClassifier\n",
    "from sklearn.neighbors import KNeighborsClassifier\n",
    "from sklearn.linear_model import LogisticRegression\n",
    "from sklearn.metrics import classification_report, log_loss, f1_score, auc\n",
    "from sklearn.model_selection import train_test_split\n",
    "from sklearn.preprocessing import OneHotEncoder\n",
    "from sklearn import tree\n",
    "import numpy as np\n",
    "import pandas as pd\n",
    "import matplotlib.pyplot as plt\n",
    "%matplotlib inline\n",
    "plt.style.use('seaborn-paper')\n",
    "import pickle"
   ]
  },
  {
   "cell_type": "code",
   "execution_count": 2,
   "metadata": {},
   "outputs": [
    {
     "name": "stdout",
     "output_type": "stream",
     "text": [
      "<class 'pandas.core.frame.DataFrame'>\n",
      "RangeIndex: 7631 entries, 0 to 7630\n",
      "Data columns (total 16 columns):\n",
      "Unnamed: 0                        4988 non-null float64\n",
      "ticket_id                         7631 non-null object\n",
      "asset_id                          4988 non-null float64\n",
      "root_cause                        4988 non-null object\n",
      "ticket_creation_reason            4964 non-null object\n",
      "latitude                          4988 non-null float64\n",
      "longitude                         4988 non-null float64\n",
      "tilt                              4988 non-null float64\n",
      "azimuth                           4988 non-null float64\n",
      "inverter_count                    4988 non-null float64\n",
      "module_count                      4988 non-null float64\n",
      "ticket_origin                     4986 non-null object\n",
      "service_partner                   4988 non-null object\n",
      "date_ticket_initially_assigned    4988 non-null object\n",
      "installed_by                      4973 non-null object\n",
      "installation_date                 2345 non-null object\n",
      "dtypes: float64(8), object(8)\n",
      "memory usage: 954.0+ KB\n"
     ]
    }
   ],
   "source": [
    "df_shards_e = pd.read_csv('../data/all_shards_e.csv')\n",
    "df_shards_e.info()"
   ]
  },
  {
   "cell_type": "code",
   "execution_count": null,
   "metadata": {},
   "outputs": [],
   "source": []
  },
  {
   "cell_type": "code",
   "execution_count": null,
   "metadata": {},
   "outputs": [],
   "source": []
  }
 ],
 "metadata": {
  "kernelspec": {
   "display_name": "learn2env",
   "language": "python",
   "name": "learn2env"
  },
  "language_info": {
   "codemirror_mode": {
    "name": "ipython",
    "version": 3
   },
   "file_extension": ".py",
   "mimetype": "text/x-python",
   "name": "python",
   "nbconvert_exporter": "python",
   "pygments_lexer": "ipython3",
   "version": "3.7.3"
  }
 },
 "nbformat": 4,
 "nbformat_minor": 2
}
