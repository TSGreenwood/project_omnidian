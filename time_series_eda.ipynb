{
 "cells": [
  {
   "cell_type": "markdown",
   "metadata": {},
   "source": [
    "# Bring in performance ratios for 90 days leading to ticket_creation_date"
   ]
  },
  {
   "cell_type": "code",
   "execution_count": 5,
   "metadata": {},
   "outputs": [],
   "source": [
    "import pandas as pd\n",
    "import numpy as np\n",
    "import matplotlib.pyplot as plt\n",
    "%matplotlib inline\n",
    "import seaborn as sns\n",
    "import mysql.connector\n",
    "import pandas.io.sql as psql\n",
    "from mysql.connector import errorcode\n",
    "from datetime import datetime"
   ]
  },
  {
   "cell_type": "code",
   "execution_count": 6,
   "metadata": {},
   "outputs": [],
   "source": [
    "try:\n",
    " conn = mysql.connector.connect(user='tgreen', password='3.1415Resolve',\n",
    "                              host='resolv2-prod-db.cjpsepzc9py6.us-east-1.rds.amazonaws.com')\n",
    "except mysql.connector.Error as err:\n",
    "  if err.errno == errorcode.ER_ACCESS_DENIED_ERROR:\n",
    "    print(\"Something is wrong with your user name or password\")\n",
    "  elif err.errno == errorcode.ER_BAD_DB_ERROR:\n",
    "    print(\"Database does not exist\")\n",
    "  else:\n",
    "    print(err)\n"
   ]
  },
  {
   "cell_type": "code",
   "execution_count": 7,
   "metadata": {},
   "outputs": [],
   "source": [
    "cur = conn.cursor()"
   ]
  },
  {
   "cell_type": "code",
   "execution_count": 22,
   "metadata": {},
   "outputs": [],
   "source": [
    "query = '''SELECT \n",
    "  tara.Zendesk_Tickets.Ticket_Id\n",
    ", tara.Zendesk_Tickets.Asset_Id\n",
    ", tara.Zendesk_Tickets.Root_Cause\n",
    ", tara.Zendesk_Tickets.Ticket_Status\n",
    ", tara.Zendesk_Tickets.Ticket_Creation_Reason\n",
    ", tara.Zendesk_Tickets.Ticket_Origin\n",
    ", tara.Zendesk_Tickets.Service_Type\n",
    ", tara.Zendesk_Tickets.Service_Partner\n",
    ", tara.Zendesk_Tickets.Date_Ticket_Initially_Assigned\n",
    ", tara.Zendesk_Tickets.Date_Ticket_Closed\n",
    ", omnidian.asset_health_daily.health_status\n",
    ", omnidian.asset_health_daily.date AS health_date\n",
    ", omnidian.asset_health_daily.modified\n",
    "FROM tara.Zendesk_Tickets\n",
    "LEFT JOIN\n",
    "omnidian.asset_health_daily \n",
    "ON tara.Zendesk_Tickets.Asset_Id = omnidian.asset_health_daily.asset_id\n",
    "AND omnidian.asset_health_daily.date \n",
    "BETWEEN DATE_SUB(tara.Zendesk_Tickets.Date_Ticket_Created,\n",
    "INTERVAL 90 DAY) AND tara.Zendesk_Tickets.Date_Ticket_Created\n",
    "WHERE tara.Zendesk_Tickets.Date_Ticket_Created > '2018-04-01'\n",
    "AND Zendesk_Tickets.Ticket_Status = 'Closed'\n",
    "AND Zendesk_Tickets.Service_Partner <> 'Omnidian Support Team'\n",
    "AND Zendesk_Tickets.Root_Cause <> 'unassigned'\n",
    ";'''"
   ]
  },
  {
   "cell_type": "code",
   "execution_count": 23,
   "metadata": {},
   "outputs": [
    {
     "data": {
      "text/html": [
       "<div>\n",
       "<style scoped>\n",
       "    .dataframe tbody tr th:only-of-type {\n",
       "        vertical-align: middle;\n",
       "    }\n",
       "\n",
       "    .dataframe tbody tr th {\n",
       "        vertical-align: top;\n",
       "    }\n",
       "\n",
       "    .dataframe thead th {\n",
       "        text-align: right;\n",
       "    }\n",
       "</style>\n",
       "<table border=\"1\" class=\"dataframe\">\n",
       "  <thead>\n",
       "    <tr style=\"text-align: right;\">\n",
       "      <th></th>\n",
       "      <th>Ticket_Id</th>\n",
       "      <th>Asset_Id</th>\n",
       "      <th>Root_Cause</th>\n",
       "      <th>Ticket_Status</th>\n",
       "      <th>Ticket_Creation_Reason</th>\n",
       "      <th>Ticket_Origin</th>\n",
       "      <th>Service_Type</th>\n",
       "      <th>Service_Partner</th>\n",
       "      <th>Date_Ticket_Initially_Assigned</th>\n",
       "      <th>Date_Ticket_Closed</th>\n",
       "      <th>health_status</th>\n",
       "      <th>health_date</th>\n",
       "      <th>modified</th>\n",
       "    </tr>\n",
       "  </thead>\n",
       "  <tbody>\n",
       "    <tr>\n",
       "      <th>0</th>\n",
       "      <td>23947</td>\n",
       "      <td>101112604</td>\n",
       "      <td>root_cause_normal_wear_and_tear</td>\n",
       "      <td>Closed</td>\n",
       "      <td>communication offline</td>\n",
       "      <td>origin_omnidian_customer</td>\n",
       "      <td>Field Service</td>\n",
       "      <td>SunUp STS Service Team</td>\n",
       "      <td>2018-10-22 17:25:27</td>\n",
       "      <td>2018-11-29</td>\n",
       "      <td>Healthy</td>\n",
       "      <td>2018-07-21</td>\n",
       "      <td>2019-01-02 22:36:05</td>\n",
       "    </tr>\n",
       "    <tr>\n",
       "      <th>1</th>\n",
       "      <td>23947</td>\n",
       "      <td>101112604</td>\n",
       "      <td>root_cause_normal_wear_and_tear</td>\n",
       "      <td>Closed</td>\n",
       "      <td>communication offline</td>\n",
       "      <td>origin_omnidian_customer</td>\n",
       "      <td>Field Service</td>\n",
       "      <td>SunUp STS Service Team</td>\n",
       "      <td>2018-10-22 17:25:27</td>\n",
       "      <td>2018-11-29</td>\n",
       "      <td>Healthy</td>\n",
       "      <td>2018-07-22</td>\n",
       "      <td>2019-01-02 22:36:05</td>\n",
       "    </tr>\n",
       "    <tr>\n",
       "      <th>2</th>\n",
       "      <td>23947</td>\n",
       "      <td>101112604</td>\n",
       "      <td>root_cause_normal_wear_and_tear</td>\n",
       "      <td>Closed</td>\n",
       "      <td>communication offline</td>\n",
       "      <td>origin_omnidian_customer</td>\n",
       "      <td>Field Service</td>\n",
       "      <td>SunUp STS Service Team</td>\n",
       "      <td>2018-10-22 17:25:27</td>\n",
       "      <td>2018-11-29</td>\n",
       "      <td>Healthy</td>\n",
       "      <td>2018-07-23</td>\n",
       "      <td>2019-01-02 22:36:05</td>\n",
       "    </tr>\n",
       "    <tr>\n",
       "      <th>3</th>\n",
       "      <td>23947</td>\n",
       "      <td>101112604</td>\n",
       "      <td>root_cause_normal_wear_and_tear</td>\n",
       "      <td>Closed</td>\n",
       "      <td>communication offline</td>\n",
       "      <td>origin_omnidian_customer</td>\n",
       "      <td>Field Service</td>\n",
       "      <td>SunUp STS Service Team</td>\n",
       "      <td>2018-10-22 17:25:27</td>\n",
       "      <td>2018-11-29</td>\n",
       "      <td>Healthy</td>\n",
       "      <td>2018-07-24</td>\n",
       "      <td>2019-01-02 22:36:05</td>\n",
       "    </tr>\n",
       "    <tr>\n",
       "      <th>4</th>\n",
       "      <td>23947</td>\n",
       "      <td>101112604</td>\n",
       "      <td>root_cause_normal_wear_and_tear</td>\n",
       "      <td>Closed</td>\n",
       "      <td>communication offline</td>\n",
       "      <td>origin_omnidian_customer</td>\n",
       "      <td>Field Service</td>\n",
       "      <td>SunUp STS Service Team</td>\n",
       "      <td>2018-10-22 17:25:27</td>\n",
       "      <td>2018-11-29</td>\n",
       "      <td>Healthy</td>\n",
       "      <td>2018-07-25</td>\n",
       "      <td>2019-01-02 22:36:05</td>\n",
       "    </tr>\n",
       "  </tbody>\n",
       "</table>\n",
       "</div>"
      ],
      "text/plain": [
       "   Ticket_Id   Asset_Id                       Root_Cause Ticket_Status  \\\n",
       "0      23947  101112604  root_cause_normal_wear_and_tear        Closed   \n",
       "1      23947  101112604  root_cause_normal_wear_and_tear        Closed   \n",
       "2      23947  101112604  root_cause_normal_wear_and_tear        Closed   \n",
       "3      23947  101112604  root_cause_normal_wear_and_tear        Closed   \n",
       "4      23947  101112604  root_cause_normal_wear_and_tear        Closed   \n",
       "\n",
       "  Ticket_Creation_Reason             Ticket_Origin   Service_Type  \\\n",
       "0  communication offline  origin_omnidian_customer  Field Service   \n",
       "1  communication offline  origin_omnidian_customer  Field Service   \n",
       "2  communication offline  origin_omnidian_customer  Field Service   \n",
       "3  communication offline  origin_omnidian_customer  Field Service   \n",
       "4  communication offline  origin_omnidian_customer  Field Service   \n",
       "\n",
       "          Service_Partner Date_Ticket_Initially_Assigned Date_Ticket_Closed  \\\n",
       "0  SunUp STS Service Team            2018-10-22 17:25:27         2018-11-29   \n",
       "1  SunUp STS Service Team            2018-10-22 17:25:27         2018-11-29   \n",
       "2  SunUp STS Service Team            2018-10-22 17:25:27         2018-11-29   \n",
       "3  SunUp STS Service Team            2018-10-22 17:25:27         2018-11-29   \n",
       "4  SunUp STS Service Team            2018-10-22 17:25:27         2018-11-29   \n",
       "\n",
       "  health_status health_date            modified  \n",
       "0       Healthy  2018-07-21 2019-01-02 22:36:05  \n",
       "1       Healthy  2018-07-22 2019-01-02 22:36:05  \n",
       "2       Healthy  2018-07-23 2019-01-02 22:36:05  \n",
       "3       Healthy  2018-07-24 2019-01-02 22:36:05  \n",
       "4       Healthy  2018-07-25 2019-01-02 22:36:05  "
      ]
     },
     "execution_count": 23,
     "metadata": {},
     "output_type": "execute_result"
    }
   ],
   "source": [
    "df_time101 = pd.read_sql(query, con=conn)\n",
    "df_time101.head()"
   ]
  },
  {
   "cell_type": "code",
   "execution_count": 19,
   "metadata": {},
   "outputs": [
    {
     "name": "stdout",
     "output_type": "stream",
     "text": [
      "<class 'pandas.core.frame.DataFrame'>\n",
      "RangeIndex: 35314 entries, 0 to 35313\n",
      "Data columns (total 10 columns):\n",
      "Ticket_Id                         35314 non-null int64\n",
      "Asset_Id                          35314 non-null object\n",
      "Root_Cause                        35314 non-null object\n",
      "Ticket_Status                     35314 non-null object\n",
      "Ticket_Creation_Reason            35314 non-null object\n",
      "Ticket_Origin                     35314 non-null object\n",
      "Service_Type                      35314 non-null object\n",
      "Service_Partner                   35314 non-null object\n",
      "Date_Ticket_Initially_Assigned    35314 non-null datetime64[ns]\n",
      "Date_Ticket_Closed                35314 non-null object\n",
      "dtypes: datetime64[ns](1), int64(1), object(8)\n",
      "memory usage: 2.7+ MB\n"
     ]
    }
   ],
   "source": [
    "df_time101.info()"
   ]
  },
  {
   "cell_type": "code",
   "execution_count": 16,
   "metadata": {},
   "outputs": [
    {
     "data": {
      "text/plain": [
       "Ticket_Id                         0\n",
       "Asset_Id                          0\n",
       "Root_Cause                        0\n",
       "Ticket_Status                     0\n",
       "Ticket_Creation_Reason            0\n",
       "Ticket_Origin                     0\n",
       "Service_Type                      0\n",
       "Service_Partner                   0\n",
       "Date_Ticket_Initially_Assigned    0\n",
       "Date_Ticket_Closed                0\n",
       "dtype: int64"
      ]
     },
     "execution_count": 16,
     "metadata": {},
     "output_type": "execute_result"
    }
   ],
   "source": [
    "df_time101.isnull().sum()"
   ]
  },
  {
   "cell_type": "code",
   "execution_count": 18,
   "metadata": {},
   "outputs": [
    {
     "data": {
      "text/plain": [
       "Ticket_Id                         0\n",
       "Asset_Id                          0\n",
       "Root_Cause                        0\n",
       "Ticket_Status                     0\n",
       "Ticket_Creation_Reason            0\n",
       "Ticket_Origin                     0\n",
       "Service_Type                      0\n",
       "Service_Partner                   0\n",
       "Date_Ticket_Initially_Assigned    0\n",
       "Date_Ticket_Closed                0\n",
       "dtype: int64"
      ]
     },
     "execution_count": 18,
     "metadata": {},
     "output_type": "execute_result"
    }
   ],
   "source": [
    "df_time101.isna().sum()"
   ]
  },
  {
   "cell_type": "code",
   "execution_count": 25,
   "metadata": {},
   "outputs": [
    {
     "ename": "AttributeError",
     "evalue": "'NoneType' object has no attribute 'drop_duplicates'",
     "output_type": "error",
     "traceback": [
      "\u001b[0;31m---------------------------------------------------------------------------\u001b[0m",
      "\u001b[0;31mAttributeError\u001b[0m                            Traceback (most recent call last)",
      "\u001b[0;32m<ipython-input-25-8a2de8211381>\u001b[0m in \u001b[0;36m<module>\u001b[0;34m\u001b[0m\n\u001b[0;32m----> 1\u001b[0;31m \u001b[0mdf_time101\u001b[0m \u001b[0;34m=\u001b[0m \u001b[0mdf_time101\u001b[0m\u001b[0;34m.\u001b[0m\u001b[0mdrop_duplicates\u001b[0m\u001b[0;34m(\u001b[0m\u001b[0minplace\u001b[0m\u001b[0;34m=\u001b[0m\u001b[0;32mTrue\u001b[0m\u001b[0;34m)\u001b[0m\u001b[0;34m\u001b[0m\u001b[0;34m\u001b[0m\u001b[0m\n\u001b[0m\u001b[1;32m      2\u001b[0m \u001b[0mdf_time101\u001b[0m\u001b[0;34m.\u001b[0m\u001b[0minfo\u001b[0m\u001b[0;34m(\u001b[0m\u001b[0;34m)\u001b[0m\u001b[0;34m\u001b[0m\u001b[0;34m\u001b[0m\u001b[0m\n",
      "\u001b[0;31mAttributeError\u001b[0m: 'NoneType' object has no attribute 'drop_duplicates'"
     ]
    }
   ],
   "source": [
    "df_time101 = df_time101.drop_duplicates(inplace=True)\n",
    "df_time101.info()"
   ]
  },
  {
   "cell_type": "code",
   "execution_count": null,
   "metadata": {},
   "outputs": [],
   "source": []
  }
 ],
 "metadata": {
  "kernelspec": {
   "display_name": "learn2env",
   "language": "python",
   "name": "learn2env"
  },
  "language_info": {
   "codemirror_mode": {
    "name": "ipython",
    "version": 3
   },
   "file_extension": ".py",
   "mimetype": "text/x-python",
   "name": "python",
   "nbconvert_exporter": "python",
   "pygments_lexer": "ipython3",
   "version": "3.7.3"
  }
 },
 "nbformat": 4,
 "nbformat_minor": 2
}
