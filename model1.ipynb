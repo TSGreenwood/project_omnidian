{
 "cells": [
  {
   "cell_type": "markdown",
   "metadata": {},
   "source": [
    "# Inaugural model"
   ]
  },
  {
   "cell_type": "markdown",
   "metadata": {},
   "source": [
    "### EDA"
   ]
  },
  {
   "cell_type": "code",
   "execution_count": 1,
   "metadata": {},
   "outputs": [],
   "source": [
    "import pandas as pd\n",
    "import matplotlib.pyplot as plt\n",
    "%matplotlib inline\n",
    "import seaborn as sns\n",
    "import mysql.connector\n",
    "import pandas.io.sql as psql\n",
    "from mysql.connector import errorcode"
   ]
  },
  {
   "cell_type": "markdown",
   "metadata": {},
   "source": [
    "### Connect to database of field service tickets "
   ]
  },
  {
   "cell_type": "code",
   "execution_count": 2,
   "metadata": {},
   "outputs": [],
   "source": [
    "try:\n",
    " conn = mysql.connector.connect(user='tgreen', password='3.1415Resolve',\n",
    "                              host='resolv2-prod-db.cjpsepzc9py6.us-east-1.rds.amazonaws.com')\n",
    "except mysql.connector.Error as err:\n",
    "  if err.errno == errorcode.ER_ACCESS_DENIED_ERROR:\n",
    "    print(\"Something is wrong with your user name or password\")\n",
    "  elif err.errno == errorcode.ER_BAD_DB_ERROR:\n",
    "    print(\"Database does not exist\")\n",
    "  else:\n",
    "    print(err)\n"
   ]
  },
  {
   "cell_type": "code",
   "execution_count": 3,
   "metadata": {},
   "outputs": [],
   "source": [
    "cur = conn.cursor()"
   ]
  },
  {
   "cell_type": "code",
   "execution_count": 7,
   "metadata": {},
   "outputs": [],
   "source": [
    "ticket1 = '''SELECT Ticket_Id\n",
    ", Zendesk_Tickets.Asset_Id\n",
    ", Zendesk_Tickets.Resolution_Code\n",
    ", Zendesk_Tickets.Root_Cause\n",
    ", Zendesk_Tickets.Ticket_Status\n",
    ", Zendesk_Tickets.Ticket_Creation_Reason\n",
    ", Zendesk_Tickets.Ticket_Origin\n",
    ", Zendesk_Tickets.Service_Type\n",
    ", Zendesk_Tickets.Service_Partner\n",
    ", Zendesk_Tickets.Ticket_Tags\n",
    ", Zendesk_Tickets.Date_Ticket_Initially_Assigned\n",
    ", Zendesk_Tickets.Date_Ticket_Closed\n",
    "FROM tara.Zendesk_Tickets\n",
    "WHERE Zendesk_Tickets.Ticket_Status = 'Closed'\n",
    "'''"
   ]
  },
  {
   "cell_type": "code",
   "execution_count": 8,
   "metadata": {},
   "outputs": [],
   "source": [
    "dftix = pd.read_sql(ticket1, con=conn)"
   ]
  },
  {
   "cell_type": "code",
   "execution_count": 9,
   "metadata": {},
   "outputs": [
    {
     "data": {
      "text/html": [
       "<div>\n",
       "<style scoped>\n",
       "    .dataframe tbody tr th:only-of-type {\n",
       "        vertical-align: middle;\n",
       "    }\n",
       "\n",
       "    .dataframe tbody tr th {\n",
       "        vertical-align: top;\n",
       "    }\n",
       "\n",
       "    .dataframe thead th {\n",
       "        text-align: right;\n",
       "    }\n",
       "</style>\n",
       "<table border=\"1\" class=\"dataframe\">\n",
       "  <thead>\n",
       "    <tr style=\"text-align: right;\">\n",
       "      <th></th>\n",
       "      <th>Ticket_Id</th>\n",
       "      <th>Asset_Id</th>\n",
       "      <th>Resolution_Code</th>\n",
       "      <th>Root_Cause</th>\n",
       "      <th>Ticket_Status</th>\n",
       "      <th>Ticket_Creation_Reason</th>\n",
       "      <th>Ticket_Origin</th>\n",
       "      <th>Service_Type</th>\n",
       "      <th>Service_Partner</th>\n",
       "      <th>Ticket_Tags</th>\n",
       "      <th>Date_Ticket_Initially_Assigned</th>\n",
       "      <th>Date_Ticket_Closed</th>\n",
       "    </tr>\n",
       "  </thead>\n",
       "  <tbody>\n",
       "    <tr>\n",
       "      <th>0</th>\n",
       "      <td>30858</td>\n",
       "      <td></td>\n",
       "      <td>unassigned</td>\n",
       "      <td>unassigned</td>\n",
       "      <td>Closed</td>\n",
       "      <td>inquiry about service ticket</td>\n",
       "      <td>origin_omnidian_customer</td>\n",
       "      <td>Remote Support</td>\n",
       "      <td>Omnidian Support Team</td>\n",
       "      <td>closed_by_merge,origin_omnidian_customer,ticke...</td>\n",
       "      <td>2019-02-27 00:31:42</td>\n",
       "      <td>2019-02-27</td>\n",
       "    </tr>\n",
       "    <tr>\n",
       "      <th>1</th>\n",
       "      <td>5221</td>\n",
       "      <td></td>\n",
       "      <td>unassigned</td>\n",
       "      <td>unassigned</td>\n",
       "      <td>Closed</td>\n",
       "      <td>duplicate ticket</td>\n",
       "      <td></td>\n",
       "      <td>Remote Support</td>\n",
       "      <td>Omnidian Support Team</td>\n",
       "      <td>billable_to_not_billable,closed_by_omnidian,om...</td>\n",
       "      <td>NaT</td>\n",
       "      <td>2017-11-08</td>\n",
       "    </tr>\n",
       "    <tr>\n",
       "      <th>2</th>\n",
       "      <td>5222</td>\n",
       "      <td></td>\n",
       "      <td>unassigned</td>\n",
       "      <td>unassigned</td>\n",
       "      <td>Closed</td>\n",
       "      <td>unassigned</td>\n",
       "      <td></td>\n",
       "      <td>Remote Support</td>\n",
       "      <td>Omnidian Support Team</td>\n",
       "      <td>closed_by_omnidian,ticket_updated_by_service_p...</td>\n",
       "      <td>2017-11-08 16:33:42</td>\n",
       "      <td>2017-11-10</td>\n",
       "    </tr>\n",
       "    <tr>\n",
       "      <th>3</th>\n",
       "      <td>5047</td>\n",
       "      <td></td>\n",
       "      <td>unassigned</td>\n",
       "      <td>unassigned</td>\n",
       "      <td>Closed</td>\n",
       "      <td>unassigned</td>\n",
       "      <td></td>\n",
       "      <td>Remote Support</td>\n",
       "      <td>Omnidian Support Team</td>\n",
       "      <td>closed_by_omnidian,omnidian_made_comment,ticke...</td>\n",
       "      <td>NaT</td>\n",
       "      <td>2017-10-31</td>\n",
       "    </tr>\n",
       "    <tr>\n",
       "      <th>4</th>\n",
       "      <td>5027</td>\n",
       "      <td></td>\n",
       "      <td>unassigned</td>\n",
       "      <td>unassigned</td>\n",
       "      <td>Closed</td>\n",
       "      <td>duplicate ticket</td>\n",
       "      <td></td>\n",
       "      <td>Remote Support</td>\n",
       "      <td>Omnidian Support Team</td>\n",
       "      <td>closed_by_omnidian,omnidian_made_comment,ticke...</td>\n",
       "      <td>NaT</td>\n",
       "      <td>2017-10-31</td>\n",
       "    </tr>\n",
       "  </tbody>\n",
       "</table>\n",
       "</div>"
      ],
      "text/plain": [
       "   Ticket_Id Asset_Id Resolution_Code  Root_Cause Ticket_Status  \\\n",
       "0      30858               unassigned  unassigned        Closed   \n",
       "1       5221               unassigned  unassigned        Closed   \n",
       "2       5222               unassigned  unassigned        Closed   \n",
       "3       5047               unassigned  unassigned        Closed   \n",
       "4       5027               unassigned  unassigned        Closed   \n",
       "\n",
       "         Ticket_Creation_Reason             Ticket_Origin    Service_Type  \\\n",
       "0  inquiry about service ticket  origin_omnidian_customer  Remote Support   \n",
       "1              duplicate ticket                            Remote Support   \n",
       "2                    unassigned                            Remote Support   \n",
       "3                    unassigned                            Remote Support   \n",
       "4              duplicate ticket                            Remote Support   \n",
       "\n",
       "         Service_Partner                                        Ticket_Tags  \\\n",
       "0  Omnidian Support Team  closed_by_merge,origin_omnidian_customer,ticke...   \n",
       "1  Omnidian Support Team  billable_to_not_billable,closed_by_omnidian,om...   \n",
       "2  Omnidian Support Team  closed_by_omnidian,ticket_updated_by_service_p...   \n",
       "3  Omnidian Support Team  closed_by_omnidian,omnidian_made_comment,ticke...   \n",
       "4  Omnidian Support Team  closed_by_omnidian,omnidian_made_comment,ticke...   \n",
       "\n",
       "  Date_Ticket_Initially_Assigned Date_Ticket_Closed  \n",
       "0            2019-02-27 00:31:42         2019-02-27  \n",
       "1                            NaT         2017-11-08  \n",
       "2            2017-11-08 16:33:42         2017-11-10  \n",
       "3                            NaT         2017-10-31  \n",
       "4                            NaT         2017-10-31  "
      ]
     },
     "execution_count": 9,
     "metadata": {},
     "output_type": "execute_result"
    }
   ],
   "source": [
    "dftix.head()"
   ]
  },
  {
   "cell_type": "code",
   "execution_count": 10,
   "metadata": {},
   "outputs": [
    {
     "name": "stdout",
     "output_type": "stream",
     "text": [
      "<class 'pandas.core.frame.DataFrame'>\n",
      "RangeIndex: 33813 entries, 0 to 33812\n",
      "Data columns (total 12 columns):\n",
      "Ticket_Id                         33813 non-null int64\n",
      "Asset_Id                          33813 non-null object\n",
      "Resolution_Code                   33813 non-null object\n",
      "Root_Cause                        33813 non-null object\n",
      "Ticket_Status                     33813 non-null object\n",
      "Ticket_Creation_Reason            33813 non-null object\n",
      "Ticket_Origin                     33813 non-null object\n",
      "Service_Type                      33813 non-null object\n",
      "Service_Partner                   33813 non-null object\n",
      "Ticket_Tags                       33813 non-null object\n",
      "Date_Ticket_Initially_Assigned    32811 non-null datetime64[ns]\n",
      "Date_Ticket_Closed                33813 non-null object\n",
      "dtypes: datetime64[ns](1), int64(1), object(10)\n",
      "memory usage: 3.1+ MB\n"
     ]
    }
   ],
   "source": [
    "dftix.info()"
   ]
  },
  {
   "cell_type": "code",
   "execution_count": 11,
   "metadata": {},
   "outputs": [
    {
     "data": {
      "text/plain": [
       "array(['unassigned', 'replace panel', 'inspect system',\n",
       "       'repair wiring and connectors', 'provide general information',\n",
       "       'provide production report', 'Omnidian cancelled ticket',\n",
       "       'service partner declined ticket',\n",
       "       'incorrect homeowner information', 'homeowner declined service',\n",
       "       'replace monitoring hardware', 'reset monitoring hardware',\n",
       "       'activate monitoring hardware', 'reset inverter',\n",
       "       'repair inverter', 'repair monitoring network',\n",
       "       'provide quote for service work',\n",
       "       'replace GFDI fuse (in inverter)', 'install system',\n",
       "       'replace inverter',\n",
       "       'replace breaker or fuse (in main service panel)',\n",
       "       'homeowner non-responsive', 'repair roof',\n",
       "       'remote troubleshooting', 'provide ticket update',\n",
       "       'document shade report', 'transferred call to partner',\n",
       "       'inspect roof', 'install junction box', 'clean system',\n",
       "       'replace junction box', 'remove system',\n",
       "       'document monitoring hardware', 'install monitoring hardware',\n",
       "       'repair mounting and racking hardware', 'activate system',\n",
       "       'replace AC disconnect', 'non-service business inquiry',\n",
       "       'replace DC power electronics', 'install wildlife guard',\n",
       "       'deactive system',\n",
       "       'advised homeowner that portal is no longer availab',\n",
       "       'repair water tank', 'repair conduit',\n",
       "       'replace thermal system component',\n",
       "       'repair thermal system component', 'install controller',\n",
       "       'advised homeowner that PG is not owed', '', 'install panel',\n",
       "       'remote system inspection', 'repair home', 'replace DC disconnect',\n",
       "       'repair wildlife guard', 'install snow guard',\n",
       "       'dropship PLA installation', 'replace battery',\n",
       "       'system inaccessible'], dtype=object)"
      ]
     },
     "execution_count": 11,
     "metadata": {},
     "output_type": "execute_result"
    }
   ],
   "source": [
    "dftix.Resolution_Code.unique()"
   ]
  },
  {
   "cell_type": "code",
   "execution_count": 12,
   "metadata": {},
   "outputs": [
    {
     "data": {
      "text/plain": [
       "unassigned                                            15609\n",
       "provide general information                            3441\n",
       "Omnidian cancelled ticket                              2467\n",
       "inspect system                                         1932\n",
       "provide production report                              1584\n",
       "reset monitoring hardware                               667\n",
       "deactive system                                         649\n",
       "homeowner non-responsive                                635\n",
       "repair monitoring network                               536\n",
       "replace inverter                                        501\n",
       "homeowner declined service                              500\n",
       "provide quote for service work                          490\n",
       "provide ticket update                                   490\n",
       "replace monitoring hardware                             462\n",
       "advised homeowner that portal is no longer availab      457\n",
       "incorrect homeowner information                         414\n",
       "reset inverter                                          364\n",
       "transferred call to partner                             345\n",
       "repair wiring and connectors                            239\n",
       "service partner declined ticket                         202\n",
       "inspect roof                                            196\n",
       "repair inverter                                         159\n",
       "activate monitoring hardware                            144\n",
       "                                                        139\n",
       "install monitoring hardware                             137\n",
       "activate system                                         118\n",
       "clean system                                            107\n",
       "replace panel                                           103\n",
       "install system                                          101\n",
       "system inaccessible                                      92\n",
       "remote troubleshooting                                   72\n",
       "non-service business inquiry                             66\n",
       "repair roof                                              63\n",
       "remove system                                            51\n",
       "replace breaker or fuse (in main service panel)          37\n",
       "remote system inspection                                 35\n",
       "advised homeowner that PG is not owed                    29\n",
       "install wildlife guard                                   28\n",
       "replace GFDI fuse (in inverter)                          20\n",
       "replace DC power electronics                             13\n",
       "document shade report                                    13\n",
       "document monitoring hardware                             13\n",
       "install panel                                            12\n",
       "repair mounting and racking hardware                     12\n",
       "dropship PLA installation                                11\n",
       "repair home                                              10\n",
       "repair conduit                                            9\n",
       "repair thermal system component                           7\n",
       "replace junction box                                      6\n",
       "replace thermal system component                          4\n",
       "install snow guard                                        4\n",
       "install junction box                                      4\n",
       "replace AC disconnect                                     4\n",
       "repair wildlife guard                                     3\n",
       "replace battery                                           2\n",
       "replace DC disconnect                                     2\n",
       "repair water tank                                         2\n",
       "install controller                                        1\n",
       "Name: Resolution_Code, dtype: int64"
      ]
     },
     "execution_count": 12,
     "metadata": {},
     "output_type": "execute_result"
    }
   ],
   "source": [
    "dftix.Resolution_Code.value_counts()"
   ]
  },
  {
   "cell_type": "code",
   "execution_count": 13,
   "metadata": {},
   "outputs": [
    {
     "data": {
      "text/plain": [
       "array(['unassigned', 'root_cause_non-service_support',\n",
       "       'root_cause_normal_wear_and_tear',\n",
       "       'root_cause_major_component_failure_warranty',\n",
       "       'root_cause_roof_issue', 'root_cause_design/sale_issue',\n",
       "       'root_cause_homeowner', 'root_cause_installer_workmanship',\n",
       "       'root_cause_environmental',\n",
       "       'root_cause_major_component_failure_non-warranty',\n",
       "       'root_cause_service_workmanship'], dtype=object)"
      ]
     },
     "execution_count": 13,
     "metadata": {},
     "output_type": "execute_result"
    }
   ],
   "source": [
    "dftix.Root_Cause.unique()"
   ]
  },
  {
   "cell_type": "code",
   "execution_count": 14,
   "metadata": {},
   "outputs": [
    {
     "data": {
      "text/plain": [
       "unassigned                                         17726\n",
       "root_cause_non-service_support                      9596\n",
       "root_cause_normal_wear_and_tear                     2446\n",
       "root_cause_homeowner                                2067\n",
       "root_cause_major_component_failure_warranty          588\n",
       "root_cause_major_component_failure_non-warranty      549\n",
       "root_cause_roof_issue                                343\n",
       "root_cause_environmental                             316\n",
       "root_cause_installer_workmanship                     122\n",
       "root_cause_design/sale_issue                          35\n",
       "root_cause_service_workmanship                        25\n",
       "Name: Root_Cause, dtype: int64"
      ]
     },
     "execution_count": 14,
     "metadata": {},
     "output_type": "execute_result"
    }
   ],
   "source": [
    "dftix.Root_Cause.value_counts()"
   ]
  },
  {
   "cell_type": "code",
   "execution_count": 15,
   "metadata": {},
   "outputs": [
    {
     "data": {
      "text/plain": [
       "Omnidian Support Team                                 26831\n",
       "SunSystem Technology                                   1905\n",
       "HelioPower                                             1087\n",
       "SunUp STS Service Team                                 1004\n",
       "IndaSpec Solar Service Team                             687\n",
       "unassigned                                              481\n",
       "Power Overhaul                                          296\n",
       "Solar Maid Service Team                                 181\n",
       "Sun Valley Solar Solutions Service Team                 153\n",
       "Omnidian Sales Team                                     129\n",
       "West Hills Construction Service Team                    118\n",
       "Seamless Solar Service Team                             112\n",
       "Fusion Solar Service Team (INACTIVE)                    103\n",
       "Squan (Formerly Sol Providers) Service Team - INAC      103\n",
       "Namaste Solar Service Team                               80\n",
       "ACE Residential Solar Service Team                       78\n",
       "On Top Solar and Electric Service Team INACTIVE (P       56\n",
       "Solean Service Team (INACTIVE)                           48\n",
       "Complete Energy Solutions Service Team                   36\n",
       "Supreme Electric and Solar Service Team (Passive)        32\n",
       "Conservative Energy Systems Service Team (Passive)       30\n",
       "Whiting Design and Electric Service Team                 29\n",
       "New England Clean Energy Service Team (INACTIVE)         26\n",
       "Suncoast Electric Service Team (Passive)                 20\n",
       "Solar Solutions (Passive)                                17\n",
       "Solaris Technology Service Team (Passive)                17\n",
       "Parsec Electric Service Team (Passive)                   15\n",
       "Tenco Solar Service Team (Passive)                       12\n",
       "Solar Energy Services Service Team                       11\n",
       "Wilkins Electric Service Team (Passive)                  10\n",
       "                                                      ...  \n",
       "Go Green Electric Service Team                           10\n",
       "South Coast Solar Service Team (PASSIVE): INACTIVE        9\n",
       "Omnidian Management Team                                  9\n",
       "Vilano Electric Service Team (Passive)                    9\n",
       "PV Installs Service Team                                  8\n",
       "Barney Brothers Electric Service Team (Passive)           6\n",
       "IBTS Service Team (Passive)                               5\n",
       "East Coast Solar Service Team (Passive)                   5\n",
       "ECMS Service Team (Passive)                               4\n",
       "WGL                                                       3\n",
       "American Home Energy Service Team                         3\n",
       "Southern Current Service Team (Passive)                   3\n",
       "J&C Ortiz Electric Service Team (Passive)                 2\n",
       "Apex Solar Power Service Team                             2\n",
       "Strawberry Solar Service Team (Passive)                   2\n",
       "Mosaic Collections Team                                   2\n",
       "PV Pros Service Team - Commercial (Passive)               1\n",
       "1 Sun Solar Electric Service Team (Passive)               1\n",
       "Cox Electrical Service Team (Passive)                     1\n",
       "Assured Electric Service Team (Passive)                   1\n",
       "Tyler Electric Service Team (Passive)                     1\n",
       "Solar Liberty Service Team (Passive)                      1\n",
       "Mullins True Care Electrical Service Team (Passive        1\n",
       "OKC Solar Solution Service Team (Passive)                 1\n",
       "City Electric Service Team (Passive)                      1\n",
       "Brilliant Harvest Service Team (Passive)                  1\n",
       "Jackson County Electrical Services Service Team (P        1\n",
       "Blue Ridge Sun Service Team (Passive)                     1\n",
       "Corey Sly Electrical Service Team (Passive)               1\n",
       "Primary Electrical Solutions Service Team (Passive        1\n",
       "Name: Service_Partner, Length: 61, dtype: int64"
      ]
     },
     "execution_count": 15,
     "metadata": {},
     "output_type": "execute_result"
    }
   ],
   "source": [
    "dftix.Service_Partner.value_counts()"
   ]
  },
  {
   "cell_type": "markdown",
   "metadata": {},
   "source": [
    "### Remove Omnidan Support Team tickets and those with root cause unassigned."
   ]
  },
  {
   "cell_type": "code",
   "execution_count": 22,
   "metadata": {},
   "outputs": [],
   "source": [
    "df_field = dftix.loc[dftix.Service_Partner != 'Omnidian Support Team']\n",
    "df_field = dftix.loc[dftix.Root_Cause != 'unassigned']"
   ]
  },
  {
   "cell_type": "code",
   "execution_count": 23,
   "metadata": {},
   "outputs": [
    {
     "data": {
      "text/html": [
       "<div>\n",
       "<style scoped>\n",
       "    .dataframe tbody tr th:only-of-type {\n",
       "        vertical-align: middle;\n",
       "    }\n",
       "\n",
       "    .dataframe tbody tr th {\n",
       "        vertical-align: top;\n",
       "    }\n",
       "\n",
       "    .dataframe thead th {\n",
       "        text-align: right;\n",
       "    }\n",
       "</style>\n",
       "<table border=\"1\" class=\"dataframe\">\n",
       "  <thead>\n",
       "    <tr style=\"text-align: right;\">\n",
       "      <th></th>\n",
       "      <th>Ticket_Id</th>\n",
       "      <th>Asset_Id</th>\n",
       "      <th>Resolution_Code</th>\n",
       "      <th>Root_Cause</th>\n",
       "      <th>Ticket_Status</th>\n",
       "      <th>Ticket_Creation_Reason</th>\n",
       "      <th>Ticket_Origin</th>\n",
       "      <th>Service_Type</th>\n",
       "      <th>Service_Partner</th>\n",
       "      <th>Ticket_Tags</th>\n",
       "      <th>Date_Ticket_Initially_Assigned</th>\n",
       "      <th>Date_Ticket_Closed</th>\n",
       "    </tr>\n",
       "  </thead>\n",
       "  <tbody>\n",
       "    <tr>\n",
       "      <th>35</th>\n",
       "      <td>15748</td>\n",
       "      <td>101112167</td>\n",
       "      <td>provide general information</td>\n",
       "      <td>root_cause_non-service_support</td>\n",
       "      <td>Closed</td>\n",
       "      <td>non-service inquiry</td>\n",
       "      <td>origin_homeowner</td>\n",
       "      <td>Remote Support</td>\n",
       "      <td>Omnidian Support Team</td>\n",
       "      <td>non-service_resolution__provide_general_inform...</td>\n",
       "      <td>2018-06-06 18:07:00</td>\n",
       "      <td>2018-07-05</td>\n",
       "    </tr>\n",
       "    <tr>\n",
       "      <th>36</th>\n",
       "      <td>10870</td>\n",
       "      <td>101112167</td>\n",
       "      <td>provide production report</td>\n",
       "      <td>root_cause_non-service_support</td>\n",
       "      <td>Closed</td>\n",
       "      <td>underproduction</td>\n",
       "      <td>origin_homeowner</td>\n",
       "      <td>Remote Support</td>\n",
       "      <td>Omnidian Support Team</td>\n",
       "      <td>communication_status_communicating_no_change,o...</td>\n",
       "      <td>2018-03-07 20:04:03</td>\n",
       "      <td>2018-04-05</td>\n",
       "    </tr>\n",
       "    <tr>\n",
       "      <th>37</th>\n",
       "      <td>8751</td>\n",
       "      <td>101113163</td>\n",
       "      <td>Omnidian cancelled ticket</td>\n",
       "      <td>root_cause_non-service_support</td>\n",
       "      <td>Closed</td>\n",
       "      <td>performance guarantee review</td>\n",
       "      <td>origin_homeowner</td>\n",
       "      <td>Remote Support</td>\n",
       "      <td>Omnidian Support Team</td>\n",
       "      <td>origin_homeowner,resolution_code_closed_withou...</td>\n",
       "      <td>2018-02-02 19:05:45</td>\n",
       "      <td>2018-08-15</td>\n",
       "    </tr>\n",
       "    <tr>\n",
       "      <th>49</th>\n",
       "      <td>16219</td>\n",
       "      <td></td>\n",
       "      <td>unassigned</td>\n",
       "      <td>root_cause_non-service_support</td>\n",
       "      <td>Closed</td>\n",
       "      <td>non-service inquiry</td>\n",
       "      <td>origin_service_partner</td>\n",
       "      <td>Remote Support</td>\n",
       "      <td>Omnidian Support Team</td>\n",
       "      <td>closed_by_merge,origin_service_partner,root_ca...</td>\n",
       "      <td>2018-06-18 21:52:44</td>\n",
       "      <td>2018-06-18</td>\n",
       "    </tr>\n",
       "    <tr>\n",
       "      <th>59</th>\n",
       "      <td>23947</td>\n",
       "      <td>101112604</td>\n",
       "      <td>inspect system</td>\n",
       "      <td>root_cause_normal_wear_and_tear</td>\n",
       "      <td>Closed</td>\n",
       "      <td>communication offline</td>\n",
       "      <td>origin_omnidian_customer</td>\n",
       "      <td>Field Service</td>\n",
       "      <td>SunUp STS Service Team</td>\n",
       "      <td>comment_from_another_agent,communication_statu...</td>\n",
       "      <td>2018-10-22 17:25:27</td>\n",
       "      <td>2018-11-29</td>\n",
       "    </tr>\n",
       "  </tbody>\n",
       "</table>\n",
       "</div>"
      ],
      "text/plain": [
       "    Ticket_Id   Asset_Id              Resolution_Code  \\\n",
       "35      15748  101112167  provide general information   \n",
       "36      10870  101112167    provide production report   \n",
       "37       8751  101113163    Omnidian cancelled ticket   \n",
       "49      16219                              unassigned   \n",
       "59      23947  101112604               inspect system   \n",
       "\n",
       "                         Root_Cause Ticket_Status  \\\n",
       "35   root_cause_non-service_support        Closed   \n",
       "36   root_cause_non-service_support        Closed   \n",
       "37   root_cause_non-service_support        Closed   \n",
       "49   root_cause_non-service_support        Closed   \n",
       "59  root_cause_normal_wear_and_tear        Closed   \n",
       "\n",
       "          Ticket_Creation_Reason             Ticket_Origin    Service_Type  \\\n",
       "35           non-service inquiry          origin_homeowner  Remote Support   \n",
       "36               underproduction          origin_homeowner  Remote Support   \n",
       "37  performance guarantee review          origin_homeowner  Remote Support   \n",
       "49           non-service inquiry    origin_service_partner  Remote Support   \n",
       "59         communication offline  origin_omnidian_customer   Field Service   \n",
       "\n",
       "           Service_Partner                                        Ticket_Tags  \\\n",
       "35   Omnidian Support Team  non-service_resolution__provide_general_inform...   \n",
       "36   Omnidian Support Team  communication_status_communicating_no_change,o...   \n",
       "37   Omnidian Support Team  origin_homeowner,resolution_code_closed_withou...   \n",
       "49   Omnidian Support Team  closed_by_merge,origin_service_partner,root_ca...   \n",
       "59  SunUp STS Service Team  comment_from_another_agent,communication_statu...   \n",
       "\n",
       "   Date_Ticket_Initially_Assigned Date_Ticket_Closed  \n",
       "35            2018-06-06 18:07:00         2018-07-05  \n",
       "36            2018-03-07 20:04:03         2018-04-05  \n",
       "37            2018-02-02 19:05:45         2018-08-15  \n",
       "49            2018-06-18 21:52:44         2018-06-18  \n",
       "59            2018-10-22 17:25:27         2018-11-29  "
      ]
     },
     "execution_count": 23,
     "metadata": {},
     "output_type": "execute_result"
    }
   ],
   "source": [
    "df_field.head()"
   ]
  },
  {
   "cell_type": "code",
   "execution_count": 18,
   "metadata": {},
   "outputs": [
    {
     "name": "stdout",
     "output_type": "stream",
     "text": [
      "<class 'pandas.core.frame.DataFrame'>\n",
      "Int64Index: 6982 entries, 7 to 33778\n",
      "Data columns (total 12 columns):\n",
      "Ticket_Id                         6982 non-null int64\n",
      "Asset_Id                          6982 non-null object\n",
      "Resolution_Code                   6982 non-null object\n",
      "Root_Cause                        6982 non-null object\n",
      "Ticket_Status                     6982 non-null object\n",
      "Ticket_Creation_Reason            6982 non-null object\n",
      "Ticket_Origin                     6982 non-null object\n",
      "Service_Type                      6982 non-null object\n",
      "Service_Partner                   6982 non-null object\n",
      "Ticket_Tags                       6982 non-null object\n",
      "Date_Ticket_Initially_Assigned    6475 non-null datetime64[ns]\n",
      "Date_Ticket_Closed                6982 non-null object\n",
      "dtypes: datetime64[ns](1), int64(1), object(10)\n",
      "memory usage: 709.1+ KB\n"
     ]
    }
   ],
   "source": [
    "df_field.info()"
   ]
  },
  {
   "cell_type": "code",
   "execution_count": 24,
   "metadata": {},
   "outputs": [
    {
     "data": {
      "text/plain": [
       "root_cause_non-service_support                     9596\n",
       "root_cause_normal_wear_and_tear                    2446\n",
       "root_cause_homeowner                               2067\n",
       "root_cause_major_component_failure_warranty         588\n",
       "root_cause_major_component_failure_non-warranty     549\n",
       "root_cause_roof_issue                               343\n",
       "root_cause_environmental                            316\n",
       "root_cause_installer_workmanship                    122\n",
       "root_cause_design/sale_issue                         35\n",
       "root_cause_service_workmanship                       25\n",
       "Name: Root_Cause, dtype: int64"
      ]
     },
     "execution_count": 24,
     "metadata": {},
     "output_type": "execute_result"
    }
   ],
   "source": [
    "df_field.Root_Cause.value_counts()"
   ]
  },
  {
   "cell_type": "markdown",
   "metadata": {},
   "source": [
    "## Let's just look at database 101, AKA omnidian"
   ]
  },
  {
   "cell_type": "code",
   "execution_count": 32,
   "metadata": {},
   "outputs": [],
   "source": [
    "ticket_eda_101 = '''SELECT Ticket_Id\n",
    ", tara.Zendesk_Tickets.Asset_Id\n",
    ", omnidian.assets.asset_id\n",
    ", Zendesk_Tickets.Resolution_Code\n",
    ", Zendesk_Tickets.Root_Cause\n",
    ", Zendesk_Tickets.Ticket_Creation_Reason\n",
    ", asset_type\n",
    ", latitude\n",
    ", longitude\n",
    ", tilt\n",
    ", azimuth\n",
    ", Zendesk_Tickets.Ticket_Status\n",
    ", Zendesk_Tickets.Ticket_Origin\n",
    ", Zendesk_Tickets.Service_Type\n",
    ", Zendesk_Tickets.Service_Partner\n",
    ", Zendesk_Tickets.Ticket_Tags\n",
    ", Zendesk_Tickets.Date_Ticket_Initially_Assigned\n",
    ", Zendesk_Tickets.Date_Ticket_Closed\n",
    ", installed_by\n",
    ", installation_date\n",
    "FROM tara.Zendesk_Tickets \n",
    "JOIN omnidian.assets\n",
    "ON tara.Zendesk_Tickets.Asset_Id = omnidian.assets.asset_id\n",
    "JOIN omnidian.asset_arrays\n",
    "ON tara.Zendesk_Tickets.Asset_Id = omnidian.asset_arrays.asset_id\n",
    "WHERE Zendesk_Tickets.Service_Partner <> 'Omnidian Support Team'\n",
    "AND Zendesk_Tickets.Root_Cause <> 'unassigned'\n",
    "'''"
   ]
  },
  {
   "cell_type": "code",
   "execution_count": 40,
   "metadata": {},
   "outputs": [],
   "source": [
    "dfeda101 = pd.read_sql(ticket_eda_101, con=conn)"
   ]
  },
  {
   "cell_type": "code",
   "execution_count": 41,
   "metadata": {},
   "outputs": [
    {
     "data": {
      "text/html": [
       "<div>\n",
       "<style scoped>\n",
       "    .dataframe tbody tr th:only-of-type {\n",
       "        vertical-align: middle;\n",
       "    }\n",
       "\n",
       "    .dataframe tbody tr th {\n",
       "        vertical-align: top;\n",
       "    }\n",
       "\n",
       "    .dataframe thead th {\n",
       "        text-align: right;\n",
       "    }\n",
       "</style>\n",
       "<table border=\"1\" class=\"dataframe\">\n",
       "  <thead>\n",
       "    <tr style=\"text-align: right;\">\n",
       "      <th></th>\n",
       "      <th>Ticket_Id</th>\n",
       "      <th>Asset_Id</th>\n",
       "      <th>asset_id</th>\n",
       "      <th>Resolution_Code</th>\n",
       "      <th>Root_Cause</th>\n",
       "      <th>Ticket_Creation_Reason</th>\n",
       "      <th>asset_type</th>\n",
       "      <th>latitude</th>\n",
       "      <th>longitude</th>\n",
       "      <th>tilt</th>\n",
       "      <th>azimuth</th>\n",
       "      <th>Ticket_Status</th>\n",
       "      <th>Ticket_Origin</th>\n",
       "      <th>Service_Type</th>\n",
       "      <th>Service_Partner</th>\n",
       "      <th>Ticket_Tags</th>\n",
       "      <th>Date_Ticket_Initially_Assigned</th>\n",
       "      <th>Date_Ticket_Closed</th>\n",
       "      <th>installed_by</th>\n",
       "      <th>installation_date</th>\n",
       "    </tr>\n",
       "  </thead>\n",
       "  <tbody>\n",
       "    <tr>\n",
       "      <th>0</th>\n",
       "      <td>23947</td>\n",
       "      <td>101112604</td>\n",
       "      <td>101112604</td>\n",
       "      <td>inspect system</td>\n",
       "      <td>root_cause_normal_wear_and_tear</td>\n",
       "      <td>communication offline</td>\n",
       "      <td>Residential Solar PV</td>\n",
       "      <td>38.944642</td>\n",
       "      <td>-121.248833</td>\n",
       "      <td>37.0</td>\n",
       "      <td>190.0</td>\n",
       "      <td>Closed</td>\n",
       "      <td>origin_omnidian_customer</td>\n",
       "      <td>Field Service</td>\n",
       "      <td>SunUp STS Service Team</td>\n",
       "      <td>comment_from_another_agent,communication_statu...</td>\n",
       "      <td>2018-10-22 17:25:27</td>\n",
       "      <td>2018-11-29</td>\n",
       "      <td>Williams Lifetime Builders Inc. DBA Lifetime S...</td>\n",
       "      <td>2013-04-04</td>\n",
       "    </tr>\n",
       "    <tr>\n",
       "      <th>1</th>\n",
       "      <td>23947</td>\n",
       "      <td>101112604</td>\n",
       "      <td>101112604</td>\n",
       "      <td>inspect system</td>\n",
       "      <td>root_cause_normal_wear_and_tear</td>\n",
       "      <td>communication offline</td>\n",
       "      <td>Residential Solar PV</td>\n",
       "      <td>38.944642</td>\n",
       "      <td>-121.248833</td>\n",
       "      <td>37.0</td>\n",
       "      <td>190.0</td>\n",
       "      <td>Closed</td>\n",
       "      <td>origin_omnidian_customer</td>\n",
       "      <td>Field Service</td>\n",
       "      <td>SunUp STS Service Team</td>\n",
       "      <td>comment_from_another_agent,communication_statu...</td>\n",
       "      <td>2018-10-22 17:25:27</td>\n",
       "      <td>2018-11-29</td>\n",
       "      <td>Williams Lifetime Builders Inc. DBA Lifetime S...</td>\n",
       "      <td>2013-04-04</td>\n",
       "    </tr>\n",
       "    <tr>\n",
       "      <th>2</th>\n",
       "      <td>27384</td>\n",
       "      <td>101113056</td>\n",
       "      <td>101113056</td>\n",
       "      <td>inspect system</td>\n",
       "      <td>root_cause_normal_wear_and_tear</td>\n",
       "      <td>system inspection</td>\n",
       "      <td>Residential Solar PV</td>\n",
       "      <td>34.101697</td>\n",
       "      <td>-118.146646</td>\n",
       "      <td>18.0</td>\n",
       "      <td>180.0</td>\n",
       "      <td>Closed</td>\n",
       "      <td>origin_homeowner</td>\n",
       "      <td>Field Service</td>\n",
       "      <td>IndaSpec Solar Service Team</td>\n",
       "      <td>comment_from_another_agent,comment_from_end-us...</td>\n",
       "      <td>2018-12-20 06:49:02</td>\n",
       "      <td>2019-02-09</td>\n",
       "      <td>Green Tech Solutions Inc.</td>\n",
       "      <td>2014-04-08</td>\n",
       "    </tr>\n",
       "    <tr>\n",
       "      <th>3</th>\n",
       "      <td>27384</td>\n",
       "      <td>101113056</td>\n",
       "      <td>101113056</td>\n",
       "      <td>inspect system</td>\n",
       "      <td>root_cause_normal_wear_and_tear</td>\n",
       "      <td>system inspection</td>\n",
       "      <td>Residential Solar PV</td>\n",
       "      <td>34.101697</td>\n",
       "      <td>-118.146646</td>\n",
       "      <td>18.0</td>\n",
       "      <td>180.0</td>\n",
       "      <td>Closed</td>\n",
       "      <td>origin_homeowner</td>\n",
       "      <td>Field Service</td>\n",
       "      <td>IndaSpec Solar Service Team</td>\n",
       "      <td>comment_from_another_agent,comment_from_end-us...</td>\n",
       "      <td>2018-12-20 06:49:02</td>\n",
       "      <td>2019-02-09</td>\n",
       "      <td>Green Tech Solutions Inc.</td>\n",
       "      <td>2014-04-08</td>\n",
       "    </tr>\n",
       "    <tr>\n",
       "      <th>4</th>\n",
       "      <td>27384</td>\n",
       "      <td>101113056</td>\n",
       "      <td>101113056</td>\n",
       "      <td>inspect system</td>\n",
       "      <td>root_cause_normal_wear_and_tear</td>\n",
       "      <td>system inspection</td>\n",
       "      <td>Residential Solar PV</td>\n",
       "      <td>34.101697</td>\n",
       "      <td>-118.146646</td>\n",
       "      <td>18.0</td>\n",
       "      <td>90.0</td>\n",
       "      <td>Closed</td>\n",
       "      <td>origin_homeowner</td>\n",
       "      <td>Field Service</td>\n",
       "      <td>IndaSpec Solar Service Team</td>\n",
       "      <td>comment_from_another_agent,comment_from_end-us...</td>\n",
       "      <td>2018-12-20 06:49:02</td>\n",
       "      <td>2019-02-09</td>\n",
       "      <td>Green Tech Solutions Inc.</td>\n",
       "      <td>2014-04-08</td>\n",
       "    </tr>\n",
       "  </tbody>\n",
       "</table>\n",
       "</div>"
      ],
      "text/plain": [
       "   Ticket_Id   Asset_Id   asset_id Resolution_Code  \\\n",
       "0      23947  101112604  101112604  inspect system   \n",
       "1      23947  101112604  101112604  inspect system   \n",
       "2      27384  101113056  101113056  inspect system   \n",
       "3      27384  101113056  101113056  inspect system   \n",
       "4      27384  101113056  101113056  inspect system   \n",
       "\n",
       "                        Root_Cause Ticket_Creation_Reason  \\\n",
       "0  root_cause_normal_wear_and_tear  communication offline   \n",
       "1  root_cause_normal_wear_and_tear  communication offline   \n",
       "2  root_cause_normal_wear_and_tear      system inspection   \n",
       "3  root_cause_normal_wear_and_tear      system inspection   \n",
       "4  root_cause_normal_wear_and_tear      system inspection   \n",
       "\n",
       "             asset_type   latitude   longitude  tilt  azimuth Ticket_Status  \\\n",
       "0  Residential Solar PV  38.944642 -121.248833  37.0    190.0        Closed   \n",
       "1  Residential Solar PV  38.944642 -121.248833  37.0    190.0        Closed   \n",
       "2  Residential Solar PV  34.101697 -118.146646  18.0    180.0        Closed   \n",
       "3  Residential Solar PV  34.101697 -118.146646  18.0    180.0        Closed   \n",
       "4  Residential Solar PV  34.101697 -118.146646  18.0     90.0        Closed   \n",
       "\n",
       "              Ticket_Origin   Service_Type              Service_Partner  \\\n",
       "0  origin_omnidian_customer  Field Service       SunUp STS Service Team   \n",
       "1  origin_omnidian_customer  Field Service       SunUp STS Service Team   \n",
       "2          origin_homeowner  Field Service  IndaSpec Solar Service Team   \n",
       "3          origin_homeowner  Field Service  IndaSpec Solar Service Team   \n",
       "4          origin_homeowner  Field Service  IndaSpec Solar Service Team   \n",
       "\n",
       "                                         Ticket_Tags  \\\n",
       "0  comment_from_another_agent,communication_statu...   \n",
       "1  comment_from_another_agent,communication_statu...   \n",
       "2  comment_from_another_agent,comment_from_end-us...   \n",
       "3  comment_from_another_agent,comment_from_end-us...   \n",
       "4  comment_from_another_agent,comment_from_end-us...   \n",
       "\n",
       "  Date_Ticket_Initially_Assigned Date_Ticket_Closed  \\\n",
       "0            2018-10-22 17:25:27         2018-11-29   \n",
       "1            2018-10-22 17:25:27         2018-11-29   \n",
       "2            2018-12-20 06:49:02         2019-02-09   \n",
       "3            2018-12-20 06:49:02         2019-02-09   \n",
       "4            2018-12-20 06:49:02         2019-02-09   \n",
       "\n",
       "                                        installed_by installation_date  \n",
       "0  Williams Lifetime Builders Inc. DBA Lifetime S...        2013-04-04  \n",
       "1  Williams Lifetime Builders Inc. DBA Lifetime S...        2013-04-04  \n",
       "2                          Green Tech Solutions Inc.        2014-04-08  \n",
       "3                          Green Tech Solutions Inc.        2014-04-08  \n",
       "4                          Green Tech Solutions Inc.        2014-04-08  "
      ]
     },
     "execution_count": 41,
     "metadata": {},
     "output_type": "execute_result"
    }
   ],
   "source": [
    "dfeda101.head()"
   ]
  },
  {
   "cell_type": "code",
   "execution_count": 42,
   "metadata": {},
   "outputs": [
    {
     "data": {
      "text/plain": [
       "zero production                   339\n",
       "communication offline             261\n",
       "underproduction                   128\n",
       "system inspection                  54\n",
       "temporary removal                  25\n",
       "roof leak                          23\n",
       "inquiry about service ticket       15\n",
       "duplicate ticket                    5\n",
       "thermal event                       4\n",
       "non-service inquiry                 3\n",
       "wildlife remediation                2\n",
       "homeowner cannot access portal      1\n",
       "soiling                             1\n",
       "Name: Ticket_Creation_Reason, dtype: int64"
      ]
     },
     "execution_count": 42,
     "metadata": {},
     "output_type": "execute_result"
    }
   ],
   "source": [
    "dfeda101.Ticket_Creation_Reason.value_counts()"
   ]
  },
  {
   "cell_type": "code",
   "execution_count": 43,
   "metadata": {},
   "outputs": [
    {
     "data": {
      "text/plain": [
       "Field Service    861\n",
       "Name: Service_Type, dtype: int64"
      ]
     },
     "execution_count": 43,
     "metadata": {},
     "output_type": "execute_result"
    }
   ],
   "source": [
    "dfeda101.Service_Type.value_counts()"
   ]
  },
  {
   "cell_type": "code",
   "execution_count": 44,
   "metadata": {},
   "outputs": [
    {
     "data": {
      "text/plain": [
       "root_cause_normal_wear_and_tear                    463\n",
       "root_cause_major_component_failure_warranty        188\n",
       "root_cause_non-service_support                      83\n",
       "root_cause_homeowner                                40\n",
       "root_cause_installer_workmanship                    34\n",
       "root_cause_roof_issue                               18\n",
       "root_cause_major_component_failure_non-warranty     15\n",
       "root_cause_environmental                            13\n",
       "root_cause_service_workmanship                       5\n",
       "root_cause_design/sale_issue                         2\n",
       "Name: Root_Cause, dtype: int64"
      ]
     },
     "execution_count": 44,
     "metadata": {},
     "output_type": "execute_result"
    }
   ],
   "source": [
    "dfeda101.Root_Cause.value_counts()"
   ]
  },
  {
   "cell_type": "code",
   "execution_count": 45,
   "metadata": {},
   "outputs": [
    {
     "data": {
      "text/plain": [
       "inspect system                                     121\n",
       "reset inverter                                      90\n",
       "replace inverter                                    87\n",
       "repair monitoring network                           79\n",
       "Omnidian cancelled ticket                           71\n",
       "replace monitoring hardware                         68\n",
       "repair inverter                                     58\n",
       "activate monitoring hardware                        45\n",
       "repair wiring and connectors                        44\n",
       "reset monitoring hardware                           42\n",
       "homeowner declined service                          17\n",
       "homeowner non-responsive                            17\n",
       "inspect roof                                        16\n",
       "replace panel                                       14\n",
       "provide quote for service work                      14\n",
       "incorrect homeowner information                     11\n",
       "install monitoring hardware                         10\n",
       "service partner declined ticket                      8\n",
       "repair roof                                          7\n",
       "replace breaker or fuse (in main service panel)      6\n",
       "replace GFDI fuse (in inverter)                      6\n",
       "provide ticket update                                5\n",
       "clean system                                         5\n",
       "transferred call to partner                          4\n",
       "document monitoring hardware                         3\n",
       "document shade report                                2\n",
       "remote troubleshooting                               2\n",
       "replace junction box                                 2\n",
       "activate system                                      1\n",
       "install wildlife guard                               1\n",
       "replace DC power electronics                         1\n",
       "remove system                                        1\n",
       "provide general information                          1\n",
       "replace AC disconnect                                1\n",
       "install system                                       1\n",
       "Name: Resolution_Code, dtype: int64"
      ]
     },
     "execution_count": 45,
     "metadata": {},
     "output_type": "execute_result"
    }
   ],
   "source": [
    "dfeda101.Resolution_Code.value_counts()"
   ]
  },
  {
   "cell_type": "code",
   "execution_count": 46,
   "metadata": {},
   "outputs": [
    {
     "data": {
      "text/plain": [
       "zero production                   339\n",
       "communication offline             261\n",
       "underproduction                   128\n",
       "system inspection                  54\n",
       "temporary removal                  25\n",
       "roof leak                          23\n",
       "inquiry about service ticket       15\n",
       "duplicate ticket                    5\n",
       "thermal event                       4\n",
       "non-service inquiry                 3\n",
       "wildlife remediation                2\n",
       "homeowner cannot access portal      1\n",
       "soiling                             1\n",
       "Name: Ticket_Creation_Reason, dtype: int64"
      ]
     },
     "execution_count": 46,
     "metadata": {},
     "output_type": "execute_result"
    }
   ],
   "source": [
    "dfeda101.Ticket_Creation_Reason.value_counts()"
   ]
  },
  {
   "cell_type": "code",
   "execution_count": null,
   "metadata": {},
   "outputs": [],
   "source": []
  }
 ],
 "metadata": {
  "kernelspec": {
   "display_name": "learn2env",
   "language": "python",
   "name": "learn2env"
  },
  "language_info": {
   "codemirror_mode": {
    "name": "ipython",
    "version": 3
   },
   "file_extension": ".py",
   "mimetype": "text/x-python",
   "name": "python",
   "nbconvert_exporter": "python",
   "pygments_lexer": "ipython3",
   "version": "3.7.3"
  }
 },
 "nbformat": 4,
 "nbformat_minor": 2
}
