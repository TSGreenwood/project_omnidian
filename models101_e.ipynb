{
 "cells": [
  {
   "cell_type": "markdown",
   "metadata": {},
   "source": [
    "# In which we create vectors of all categorical features before splitting for testing, and used 'days ago' instead of datetimes so we can run more models. The results were not great because we do not have a one-to-one relationship between ticket_id and asset_id."
   ]
  },
  {
   "cell_type": "markdown",
   "metadata": {},
   "source": [
    "#### Factors from SQL query: 'ticket_id', 'asset_id', 'root_cause', 'ticket_creation_reason',\n",
    "####      'latitude', 'longitude', 'tilt', 'azimuth', 'ticket_origin',\n",
    "#### 'service_partner', 'ticket_assigned_days_ago', 'ticket_closed_days_ago',\n",
    "####       'installed_by', 'installed_days_ago'\n",
    "#### Models compared: 'Logistic Regression', 'Nearest Neighbors', 'RBF SVM',\n",
    "####         'Decision Tree', 'Random Forest', 'Neural Net', 'Bagging', 'AdaBoost',\n",
    "####       'Gradient Boost'"
   ]
  },
  {
   "cell_type": "code",
   "execution_count": 1,
   "metadata": {},
   "outputs": [
    {
     "name": "stderr",
     "output_type": "stream",
     "text": [
      "/Users/humanperson/anaconda3/envs/learn2env/lib/python3.7/site-packages/sklearn/externals/six.py:31: DeprecationWarning: The module is deprecated in version 0.21 and will be removed in version 0.23 since we've dropped support for Python 2.7. Please rely on the official version of six (https://pypi.org/project/six/).\n",
      "  \"(https://pypi.org/project/six/).\", DeprecationWarning)\n"
     ]
    }
   ],
   "source": [
    "import sklearn\n",
    "from sklearn.tree import DecisionTreeClassifier\n",
    "from sklearn.ensemble import GradientBoostingClassifier, RandomForestClassifier, BaggingClassifier, AdaBoostClassifier\n",
    "from sklearn.neighbors import KNeighborsClassifier\n",
    "from sklearn.linear_model import LogisticRegression\n",
    "from sklearn.naive_bayes import BernoulliNB, ComplementNB, MultinomialNB\n",
    "from sklearn.linear_model import RidgeClassifier\n",
    "from sklearn.neural_network import MLPClassifier\n",
    "from scipy import stats\n",
    "from sklearn.svm import SVC\n",
    "from sklearn.model_selection import train_test_split\n",
    "from sklearn.preprocessing import OneHotEncoder\n",
    "from sklearn.metrics import classification_report\n",
    "from sklearn.pipeline import FeatureUnion\n",
    "from sklearn.compose import ColumnTransformer, make_column_transformer\n",
    "from sklearn import tree\n",
    "import numpy as np\n",
    "import pandas as pd\n",
    "from datetime import datetime\n",
    "from imblearn.over_sampling import SMOTE\n",
    "from sklearn.utils import resample\n",
    "import matplotlib.pyplot as plt\n",
    "%matplotlib inline\n",
    "plt.style.use('seaborn-paper')\n",
    "import pickle"
   ]
  },
  {
   "cell_type": "markdown",
   "metadata": {},
   "source": [
    "Get Data"
   ]
  },
  {
   "cell_type": "code",
   "execution_count": 2,
   "metadata": {},
   "outputs": [],
   "source": [
    "df101_e = pd.read_csv('data/eda101_d.csv')"
   ]
  },
  {
   "cell_type": "code",
   "execution_count": 3,
   "metadata": {},
   "outputs": [
    {
     "name": "stdout",
     "output_type": "stream",
     "text": [
      "<class 'pandas.core.frame.DataFrame'>\n",
      "RangeIndex: 825 entries, 0 to 824\n",
      "Data columns (total 14 columns):\n",
      "ticket_id                   825 non-null int64\n",
      "asset_id                    825 non-null int64\n",
      "root_cause                  825 non-null object\n",
      "ticket_creation_reason      825 non-null object\n",
      "latitude                    825 non-null float64\n",
      "longitude                   825 non-null float64\n",
      "tilt                        825 non-null float64\n",
      "azimuth                     825 non-null float64\n",
      "ticket_origin               825 non-null object\n",
      "service_partner             825 non-null object\n",
      "ticket_assigned_days_ago    825 non-null int64\n",
      "ticket_closed_days_ago      825 non-null int64\n",
      "installed_by                825 non-null object\n",
      "installed_days_ago          825 non-null int64\n",
      "dtypes: float64(4), int64(5), object(5)\n",
      "memory usage: 90.3+ KB\n"
     ]
    }
   ],
   "source": [
    "df101_e.info()"
   ]
  },
  {
   "cell_type": "code",
   "execution_count": 4,
   "metadata": {},
   "outputs": [
    {
     "data": {
      "text/plain": [
       "Index(['ticket_id', 'asset_id', 'root_cause', 'ticket_creation_reason',\n",
       "       'latitude', 'longitude', 'tilt', 'azimuth', 'ticket_origin',\n",
       "       'service_partner', 'ticket_assigned_days_ago', 'ticket_closed_days_ago',\n",
       "       'installed_by', 'installed_days_ago'],\n",
       "      dtype='object')"
      ]
     },
     "execution_count": 4,
     "metadata": {},
     "output_type": "execute_result"
    }
   ],
   "source": [
    "df101_e.columns"
   ]
  },
  {
   "cell_type": "markdown",
   "metadata": {},
   "source": [
    "Both ticket_id and asset_id need to be strings"
   ]
  },
  {
   "cell_type": "code",
   "execution_count": 5,
   "metadata": {},
   "outputs": [
    {
     "name": "stdout",
     "output_type": "stream",
     "text": [
      "<class 'pandas.core.frame.DataFrame'>\n",
      "RangeIndex: 825 entries, 0 to 824\n",
      "Data columns (total 14 columns):\n",
      "ticket_id                   825 non-null object\n",
      "asset_id                    825 non-null object\n",
      "root_cause                  825 non-null object\n",
      "ticket_creation_reason      825 non-null object\n",
      "latitude                    825 non-null float64\n",
      "longitude                   825 non-null float64\n",
      "tilt                        825 non-null float64\n",
      "azimuth                     825 non-null float64\n",
      "ticket_origin               825 non-null object\n",
      "service_partner             825 non-null object\n",
      "ticket_assigned_days_ago    825 non-null int64\n",
      "ticket_closed_days_ago      825 non-null int64\n",
      "installed_by                825 non-null object\n",
      "installed_days_ago          825 non-null int64\n",
      "dtypes: float64(4), int64(3), object(7)\n",
      "memory usage: 90.3+ KB\n"
     ]
    }
   ],
   "source": [
    "df101_e[['ticket_id', 'asset_id']] = df101_e[['ticket_id', 'asset_id']].astype(object)\n",
    "df101_e.info()"
   ]
  },
  {
   "cell_type": "code",
   "execution_count": 6,
   "metadata": {},
   "outputs": [
    {
     "data": {
      "text/plain": [
       "476"
      ]
     },
     "execution_count": 6,
     "metadata": {},
     "output_type": "execute_result"
    }
   ],
   "source": [
    "df101_e.ticket_id.nunique()"
   ]
  },
  {
   "cell_type": "markdown",
   "metadata": {},
   "source": [
    "# Convert everthing to numbers for our machine to read."
   ]
  },
  {
   "cell_type": "markdown",
   "metadata": {},
   "source": [
    "## We want to use ticket_id to look things up later and so will not encode it."
   ]
  },
  {
   "cell_type": "code",
   "execution_count": 7,
   "metadata": {},
   "outputs": [
    {
     "name": "stdout",
     "output_type": "stream",
     "text": [
      "<class 'pandas.core.frame.DataFrame'>\n",
      "RangeIndex: 825 entries, 0 to 824\n",
      "Data columns (total 12 columns):\n",
      "asset_id                    825 non-null object\n",
      "ticket_creation_reason      825 non-null object\n",
      "latitude                    825 non-null float64\n",
      "longitude                   825 non-null float64\n",
      "tilt                        825 non-null float64\n",
      "azimuth                     825 non-null float64\n",
      "ticket_origin               825 non-null object\n",
      "service_partner             825 non-null object\n",
      "ticket_assigned_days_ago    825 non-null int64\n",
      "ticket_closed_days_ago      825 non-null int64\n",
      "installed_by                825 non-null object\n",
      "installed_days_ago          825 non-null int64\n",
      "dtypes: float64(4), int64(3), object(5)\n",
      "memory usage: 77.4+ KB\n"
     ]
    }
   ],
   "source": [
    "df_sans_ticket = df101_e.drop(['ticket_id', 'root_cause'], axis=1).copy()\n",
    "df_sans_ticket.info()"
   ]
  },
  {
   "cell_type": "code",
   "execution_count": 8,
   "metadata": {},
   "outputs": [
    {
     "data": {
      "text/plain": [
       "['asset_id',\n",
       " 'ticket_creation_reason',\n",
       " 'ticket_origin',\n",
       " 'service_partner',\n",
       " 'installed_by']"
      ]
     },
     "execution_count": 8,
     "metadata": {},
     "output_type": "execute_result"
    }
   ],
   "source": [
    "# List our categorical features\n",
    "categoricals = list(df_sans_ticket.columns[(df_sans_ticket.dtypes.values == np.dtype('object'))])\n",
    "categoricals"
   ]
  },
  {
   "cell_type": "code",
   "execution_count": 9,
   "metadata": {},
   "outputs": [
    {
     "data": {
      "text/plain": [
       "OneHotEncoder(categorical_features=None, categories='auto', drop=None,\n",
       "              dtype=<class 'numpy.float64'>, handle_unknown='ignore',\n",
       "              n_values=None, sparse=True)"
      ]
     },
     "execution_count": 9,
     "metadata": {},
     "output_type": "execute_result"
    }
   ],
   "source": [
    "encoder = OneHotEncoder(categories='auto', handle_unknown='ignore')\n",
    "encoder.fit(df_sans_ticket[categoricals])"
   ]
  },
  {
   "cell_type": "code",
   "execution_count": 10,
   "metadata": {},
   "outputs": [
    {
     "name": "stdout",
     "output_type": "stream",
     "text": [
      "<class 'pandas.core.frame.DataFrame'>\n",
      "RangeIndex: 825 entries, 0 to 824\n",
      "Columns: 422 entries, x0_101111473 to x4_williams lifetime builders inc. dba lifetime solar\n",
      "dtypes: float64(422)\n",
      "memory usage: 2.7 MB\n"
     ]
    }
   ],
   "source": [
    "enc_cat = pd.DataFrame(encoder.transform(df_sans_ticket[categoricals]).toarray(),\n",
    "                         columns=encoder.get_feature_names())\n",
    "enc_cat.info()"
   ]
  },
  {
   "cell_type": "code",
   "execution_count": 11,
   "metadata": {},
   "outputs": [],
   "source": [
    "# enc_cat.insert(loc=0, column='ticket_id', value=df101_e.ticket_id)\n",
    "# enc_cat.head()"
   ]
  },
  {
   "cell_type": "code",
   "execution_count": 12,
   "metadata": {},
   "outputs": [
    {
     "name": "stdout",
     "output_type": "stream",
     "text": [
      "<class 'pandas.core.frame.DataFrame'>\n",
      "RangeIndex: 825 entries, 0 to 824\n",
      "Data columns (total 9 columns):\n",
      "ticket_id                   825 non-null object\n",
      "root_cause                  825 non-null object\n",
      "latitude                    825 non-null float64\n",
      "longitude                   825 non-null float64\n",
      "tilt                        825 non-null float64\n",
      "azimuth                     825 non-null float64\n",
      "ticket_assigned_days_ago    825 non-null int64\n",
      "ticket_closed_days_ago      825 non-null int64\n",
      "installed_days_ago          825 non-null int64\n",
      "dtypes: float64(4), int64(3), object(2)\n",
      "memory usage: 58.1+ KB\n"
     ]
    }
   ],
   "source": [
    "# grab the other features\n",
    "df_other = df101_e.drop(categoricals, axis=1).copy()\n",
    "df_other.info()"
   ]
  },
  {
   "cell_type": "code",
   "execution_count": 13,
   "metadata": {},
   "outputs": [
    {
     "name": "stdout",
     "output_type": "stream",
     "text": [
      "<class 'pandas.core.frame.DataFrame'>\n",
      "RangeIndex: 825 entries, 0 to 824\n",
      "Columns: 431 entries, ticket_id to x4_williams lifetime builders inc. dba lifetime solar\n",
      "dtypes: float64(426), int64(3), object(2)\n",
      "memory usage: 2.7+ MB\n"
     ]
    }
   ],
   "source": [
    "# put it back together\n",
    "df_enc = df_other.join(enc_cat)\n",
    "df_enc.info()"
   ]
  },
  {
   "cell_type": "code",
   "execution_count": 14,
   "metadata": {},
   "outputs": [
    {
     "data": {
      "text/plain": [
       "0"
      ]
     },
     "execution_count": 14,
     "metadata": {},
     "output_type": "execute_result"
    }
   ],
   "source": [
    "df_enc.isna().any().sum()"
   ]
  },
  {
   "cell_type": "markdown",
   "metadata": {},
   "source": [
    "## Train-test-split."
   ]
  },
  {
   "cell_type": "code",
   "execution_count": 16,
   "metadata": {},
   "outputs": [],
   "source": [
    "X_enc = df_enc.drop(['root_cause'], axis=1).copy()\n",
    "y_enc = df_enc['root_cause']\n",
    "X_train_enc, X_test_enc, y_train_enc, y_test_enc = train_test_split(X_enc, y_enc, random_state=42,\n",
    "                                                                    test_size=0.2)"
   ]
  },
  {
   "cell_type": "code",
   "execution_count": 17,
   "metadata": {},
   "outputs": [],
   "source": [
    "# X_train_enc.head()"
   ]
  },
  {
   "cell_type": "code",
   "execution_count": 18,
   "metadata": {},
   "outputs": [
    {
     "name": "stdout",
     "output_type": "stream",
     "text": [
      "<class 'pandas.core.frame.DataFrame'>\n",
      "Int64Index: 660 entries, 239 to 102\n",
      "Columns: 430 entries, ticket_id to x4_williams lifetime builders inc. dba lifetime solar\n",
      "dtypes: float64(426), int64(3), object(1)\n",
      "memory usage: 2.2+ MB\n"
     ]
    }
   ],
   "source": [
    "X_train_enc.info()"
   ]
  },
  {
   "cell_type": "code",
   "execution_count": 19,
   "metadata": {},
   "outputs": [
    {
     "data": {
      "text/plain": [
       "(660,)"
      ]
     },
     "execution_count": 19,
     "metadata": {},
     "output_type": "execute_result"
    }
   ],
   "source": [
    "y_train_enc.shape"
   ]
  },
  {
   "cell_type": "code",
   "execution_count": 20,
   "metadata": {},
   "outputs": [],
   "source": [
    "# X_test_enc.head()"
   ]
  },
  {
   "cell_type": "code",
   "execution_count": 21,
   "metadata": {},
   "outputs": [
    {
     "name": "stdout",
     "output_type": "stream",
     "text": [
      "<class 'pandas.core.frame.DataFrame'>\n",
      "Int64Index: 165 entries, 611 to 527\n",
      "Columns: 430 entries, ticket_id to x4_williams lifetime builders inc. dba lifetime solar\n",
      "dtypes: float64(426), int64(3), object(1)\n",
      "memory usage: 555.6+ KB\n"
     ]
    }
   ],
   "source": [
    "X_test_enc.info()"
   ]
  },
  {
   "cell_type": "code",
   "execution_count": 22,
   "metadata": {},
   "outputs": [
    {
     "data": {
      "text/plain": [
       "(165,)"
      ]
     },
     "execution_count": 22,
     "metadata": {},
     "output_type": "execute_result"
    }
   ],
   "source": [
    "y_test_enc.shape"
   ]
  },
  {
   "cell_type": "markdown",
   "metadata": {},
   "source": [
    "# **********************************"
   ]
  },
  {
   "cell_type": "markdown",
   "metadata": {},
   "source": [
    "### Modeling"
   ]
  },
  {
   "cell_type": "code",
   "execution_count": 62,
   "metadata": {},
   "outputs": [],
   "source": [
    "random_state=42"
   ]
  },
  {
   "cell_type": "code",
   "execution_count": 76,
   "metadata": {},
   "outputs": [],
   "source": [
    "names = ['Logistic Regression', 'Nearest Neighbors', 'RBF SVM',\n",
    "         'Decision Tree', 'Random Forest', 'Neural Net', 'Bagging', 'AdaBoost',\n",
    "         'Gradient Boost']"
   ]
  },
  {
   "cell_type": "code",
   "execution_count": 77,
   "metadata": {},
   "outputs": [],
   "source": [
    "classifiers = [\n",
    "    LogisticRegression(multi_class='multinomial', solver='lbfgs', max_iter=1000),\n",
    "    KNeighborsClassifier(),\n",
    "    SVC(gamma=2, C=1),\n",
    "    DecisionTreeClassifier(max_depth=5),\n",
    "    RandomForestClassifier(max_depth=5, n_estimators=10, max_features=1),\n",
    "    MLPClassifier(alpha=1, max_iter=1000),\n",
    "    BaggingClassifier(random_state=42),\n",
    "    AdaBoostClassifier(),\n",
    "    GradientBoostingClassifier(random_state=42, min_samples_leaf=30),\n",
    "    ]"
   ]
  },
  {
   "cell_type": "code",
   "execution_count": 104,
   "metadata": {},
   "outputs": [
    {
     "name": "stderr",
     "output_type": "stream",
     "text": [
      "/Users/humanperson/anaconda3/envs/learn2env/lib/python3.7/site-packages/sklearn/linear_model/logistic.py:947: ConvergenceWarning: lbfgs failed to converge. Increase the number of iterations.\n",
      "  \"of iterations.\", ConvergenceWarning)\n"
     ]
    },
    {
     "data": {
      "text/plain": [
       "0.6"
      ]
     },
     "execution_count": 104,
     "metadata": {},
     "output_type": "execute_result"
    }
   ],
   "source": [
    "lr = LogisticRegression(random_state=42, solver='lbfgs',  multi_class='multinomial', max_iter=10000)\n",
    "lr.fit(X_train_enc, y_train_enc)\n",
    "lr.score(X_test_enc, y_test_enc)"
   ]
  },
  {
   "cell_type": "code",
   "execution_count": 105,
   "metadata": {},
   "outputs": [
    {
     "data": {
      "text/plain": [
       "0.5878787878787879"
      ]
     },
     "execution_count": 105,
     "metadata": {},
     "output_type": "execute_result"
    }
   ],
   "source": [
    "lr = LogisticRegression(random_state=42, solver='sag',\n",
    "                        multi_class='multinomial', max_iter=10000)\n",
    "lr.fit(X_train_enc, y_train_enc)\n",
    "lr.score(X_test_enc, y_test_enc)"
   ]
  },
  {
   "cell_type": "code",
   "execution_count": 106,
   "metadata": {},
   "outputs": [
    {
     "data": {
      "text/plain": [
       "0.5878787878787879"
      ]
     },
     "execution_count": 106,
     "metadata": {},
     "output_type": "execute_result"
    }
   ],
   "source": [
    "lr = LogisticRegression(random_state=42, solver='saga',\n",
    "                        multi_class='multinomial', max_iter=10000)\n",
    "lr.fit(X_train_enc, y_train_enc)\n",
    "lr.score(X_test_enc, y_test_enc)"
   ]
  },
  {
   "cell_type": "code",
   "execution_count": 79,
   "metadata": {},
   "outputs": [
    {
     "data": {
      "text/plain": [
       "0.5818181818181818"
      ]
     },
     "execution_count": 79,
     "metadata": {},
     "output_type": "execute_result"
    }
   ],
   "source": [
    "kn = KNeighborsClassifier()\n",
    "kn.fit(X_train_enc, y_train_enc)\n",
    "kn.score(X_test_enc, y_test_enc)"
   ]
  },
  {
   "cell_type": "code",
   "execution_count": 67,
   "metadata": {},
   "outputs": [
    {
     "data": {
      "text/plain": [
       "0.5818181818181818"
      ]
     },
     "execution_count": 67,
     "metadata": {},
     "output_type": "execute_result"
    }
   ],
   "source": [
    "svc_g = SVC(gamma=2, C=1)\n",
    "svc_g.fit(X_train_enc, y_train_enc)\n",
    "svc_g.score(X_test_enc, y_test_enc)"
   ]
  },
  {
   "cell_type": "code",
   "execution_count": 80,
   "metadata": {},
   "outputs": [
    {
     "data": {
      "text/plain": [
       "0.6060606060606061"
      ]
     },
     "execution_count": 80,
     "metadata": {},
     "output_type": "execute_result"
    }
   ],
   "source": [
    "dt = DecisionTreeClassifier(min_samples_leaf=30)\n",
    "dt.fit(X_train_enc, y_train_enc)\n",
    "dt.score(X_test_enc, y_test_enc)"
   ]
  },
  {
   "cell_type": "code",
   "execution_count": 81,
   "metadata": {},
   "outputs": [
    {
     "data": {
      "text/plain": [
       "0.5818181818181818"
      ]
     },
     "execution_count": 81,
     "metadata": {},
     "output_type": "execute_result"
    }
   ],
   "source": [
    "dt = DecisionTreeClassifier(min_samples_leaf=100)\n",
    "dt.fit(X_train_enc, y_train_enc)\n",
    "dt.score(X_test_enc, y_test_enc)"
   ]
  },
  {
   "cell_type": "code",
   "execution_count": 82,
   "metadata": {},
   "outputs": [
    {
     "data": {
      "text/plain": [
       "0.5818181818181818"
      ]
     },
     "execution_count": 82,
     "metadata": {},
     "output_type": "execute_result"
    }
   ],
   "source": [
    "rf = RandomForestClassifier(max_depth=5, n_estimators=10, max_features=1)\n",
    "rf.fit(X_train_enc, y_train_enc)\n",
    "rf.score(X_test_enc, y_test_enc)"
   ]
  },
  {
   "cell_type": "code",
   "execution_count": 84,
   "metadata": {},
   "outputs": [
    {
     "data": {
      "text/plain": [
       "0.8484848484848485"
      ]
     },
     "execution_count": 84,
     "metadata": {},
     "output_type": "execute_result"
    }
   ],
   "source": [
    "rf = RandomForestClassifier(n_estimators=100,criterion='entropy')\n",
    "rf.fit(X_train_enc, y_train_enc)\n",
    "rf.score(X_test_enc, y_test_enc)"
   ]
  },
  {
   "cell_type": "code",
   "execution_count": 85,
   "metadata": {},
   "outputs": [
    {
     "data": {
      "text/plain": [
       "0.8363636363636363"
      ]
     },
     "execution_count": 85,
     "metadata": {},
     "output_type": "execute_result"
    }
   ],
   "source": [
    "rf = RandomForestClassifier(n_estimators=100,criterion='gini')\n",
    "rf.fit(X_train_enc, y_train_enc)\n",
    "rf.score(X_test_enc, y_test_enc)"
   ]
  },
  {
   "cell_type": "code",
   "execution_count": 86,
   "metadata": {},
   "outputs": [
    {
     "data": {
      "text/plain": [
       "0.8424242424242424"
      ]
     },
     "execution_count": 86,
     "metadata": {},
     "output_type": "execute_result"
    }
   ],
   "source": [
    "rf = RandomForestClassifier(n_estimators=200,criterion='entropy')\n",
    "rf.fit(X_train_enc, y_train_enc)\n",
    "rf.score(X_test_enc, y_test_enc)"
   ]
  },
  {
   "cell_type": "code",
   "execution_count": 89,
   "metadata": {},
   "outputs": [
    {
     "data": {
      "text/plain": [
       "0.10909090909090909"
      ]
     },
     "execution_count": 89,
     "metadata": {},
     "output_type": "execute_result"
    }
   ],
   "source": [
    "mlp = MLPClassifier(alpha=1, max_iter=1000)\n",
    "mlp.fit(X_train_enc, y_train_enc)\n",
    "mlp.score(X_test_enc, y_test_enc)"
   ]
  },
  {
   "cell_type": "code",
   "execution_count": 102,
   "metadata": {},
   "outputs": [
    {
     "data": {
      "text/plain": [
       "0.5636363636363636"
      ]
     },
     "execution_count": 102,
     "metadata": {},
     "output_type": "execute_result"
    }
   ],
   "source": [
    "mlp = MLPClassifier(max_iter=100)\n",
    "mlp.fit(X_train_enc, y_train_enc)\n",
    "mlp.score(X_test_enc, y_test_enc)"
   ]
  },
  {
   "cell_type": "code",
   "execution_count": 91,
   "metadata": {},
   "outputs": [
    {
     "data": {
      "text/plain": [
       "0.5818181818181818"
      ]
     },
     "execution_count": 91,
     "metadata": {},
     "output_type": "execute_result"
    }
   ],
   "source": [
    "mlp = MLPClassifier(max_iter=100)\n",
    "mlp.fit(X_train_enc, y_train_enc)\n",
    "mlp.score(X_test_enc, y_test_enc)"
   ]
  },
  {
   "cell_type": "code",
   "execution_count": 92,
   "metadata": {},
   "outputs": [
    {
     "data": {
      "text/plain": [
       "0.8242424242424242"
      ]
     },
     "execution_count": 92,
     "metadata": {},
     "output_type": "execute_result"
    }
   ],
   "source": [
    "bag = BaggingClassifier(random_state=42)\n",
    "bag.fit(X_train_enc, y_train_enc)\n",
    "bag.score(X_test_enc, y_test_enc)"
   ]
  },
  {
   "cell_type": "code",
   "execution_count": 93,
   "metadata": {},
   "outputs": [
    {
     "data": {
      "text/plain": [
       "0.8303030303030303"
      ]
     },
     "execution_count": 93,
     "metadata": {},
     "output_type": "execute_result"
    }
   ],
   "source": [
    "bag = BaggingClassifier(random_state=42, bootstrap_features=True)\n",
    "bag.fit(X_train_enc, y_train_enc)\n",
    "bag.score(X_test_enc, y_test_enc)"
   ]
  },
  {
   "cell_type": "code",
   "execution_count": 94,
   "metadata": {},
   "outputs": [
    {
     "data": {
      "text/plain": [
       "0.8303030303030303"
      ]
     },
     "execution_count": 94,
     "metadata": {},
     "output_type": "execute_result"
    }
   ],
   "source": [
    "bag = BaggingClassifier(random_state=42, bootstrap_features=True, warm_start=True)\n",
    "bag.fit(X_train_enc, y_train_enc)\n",
    "bag.score(X_test_enc, y_test_enc)"
   ]
  },
  {
   "cell_type": "code",
   "execution_count": 97,
   "metadata": {},
   "outputs": [
    {
     "data": {
      "text/plain": [
       "0.5818181818181818"
      ]
     },
     "execution_count": 97,
     "metadata": {},
     "output_type": "execute_result"
    }
   ],
   "source": [
    "ada = AdaBoostClassifier(random_state=42)\n",
    "ada.fit(X_train_enc, y_train_enc)\n",
    "ada.score(X_test_enc, y_test_enc)"
   ]
  },
  {
   "cell_type": "code",
   "execution_count": 96,
   "metadata": {},
   "outputs": [
    {
     "data": {
      "text/plain": [
       "0.7696969696969697"
      ]
     },
     "execution_count": 96,
     "metadata": {},
     "output_type": "execute_result"
    }
   ],
   "source": [
    "gb = GradientBoostingClassifier(random_state=42, min_samples_leaf=30)\n",
    "gb.fit(X_train_enc, y_train_enc)\n",
    "gb.score(X_test_enc, y_test_enc)"
   ]
  }
 ],
 "metadata": {
  "kernelspec": {
   "display_name": "learn2env",
   "language": "python",
   "name": "learn2env"
  },
  "language_info": {
   "codemirror_mode": {
    "name": "ipython",
    "version": 3
   },
   "file_extension": ".py",
   "mimetype": "text/x-python",
   "name": "python",
   "nbconvert_exporter": "python",
   "pygments_lexer": "ipython3",
   "version": "3.7.3"
  }
 },
 "nbformat": 4,
 "nbformat_minor": 2
}
